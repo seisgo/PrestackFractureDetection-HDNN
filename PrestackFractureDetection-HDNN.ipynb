{
  "cells": [
    {
      "cell_type": "markdown",
      "metadata": {
        "id": "vvsbTBhWXunI"
      },
      "source": [
        "# Prestack Fracture Parameters Detection by HDNN Model\n",
        "Description\n",
        "- Author: Zhenyu Yuan\n",
        "- Email: zhenyuyuan@outlook.com\n",
        "- Function: prestack fracture detection by hybrid deep neural network\n",
        "\n",
        "This work includes three parts:\n",
        "- Data set preparation\n",
        "- Model training\n",
        "\n",
        "This implementation of deep learning is referred to [Keras: Multiple Inputs and Mixed Data](https://www.pyimagesearch.com/2019/02/04/keras-multiple-inputs-and-mixed-data/)\n",
        "\n",
        "Model Training and visulization is referred to [Regression: predict fuel efficiency](https://www.tensorflow.org/tutorials/keras/basic_regression)"
      ]
    },
    {
      "cell_type": "markdown",
      "metadata": {
        "id": "uJAmzwzvcWdG"
      },
      "source": [
        "## Data set preparation"
      ]
    },
    {
      "cell_type": "markdown",
      "metadata": {
        "id": "8ZGKHl9rZHux"
      },
      "source": [
        "### Load raw data to working directory\n",
        "\n",
        "For the implementation in colab, raw data are stored in my dirve, which need to be mounted to working directory."
      ]
    },
    {
      "cell_type": "code",
      "execution_count": null,
      "metadata": {
        "colab": {
          "base_uri": "https://localhost:8080/"
        },
        "id": "bWRCO6T3aqeC",
        "outputId": "a6542746-7de8-48d3-d9e5-e6597f0d20a1"
      },
      "outputs": [
        {
          "name": "stdout",
          "output_type": "stream",
          "text": [
            "Drive already mounted at /gdrive; to attempt to forcibly remount, call drive.mount(\"/gdrive\", force_remount=True).\n"
          ]
        }
      ],
      "source": [
        "from google.colab import drive\n",
        "drive.mount('/gdrive')"
      ]
    },
    {
      "cell_type": "code",
      "execution_count": null,
      "metadata": {
        "id": "wfIbioyrbqES"
      },
      "outputs": [],
      "source": [
        "dpath = '/gdrive/My Drive/ML_Dataset/Qingchengbei'"
      ]
    },
    {
      "cell_type": "markdown",
      "metadata": {
        "id": "nncJZnafb_JU"
      },
      "source": [
        "Read well-production information into DataFrame and do some analysis"
      ]
    },
    {
      "cell_type": "code",
      "execution_count": null,
      "metadata": {
        "id": "g7qCRU9Ug7hO"
      },
      "outputs": [],
      "source": [
        "import os\n",
        "import sys"
      ]
    },
    {
      "cell_type": "code",
      "execution_count": null,
      "metadata": {
        "id": "QT2uy6cU0G_2"
      },
      "outputs": [],
      "source": [
        "sys.path.insert(0,'/gdrive/My Drive/Pythons/py_basics')"
      ]
    },
    {
      "cell_type": "code",
      "execution_count": null,
      "metadata": {
        "id": "YFgY_K8rErtK"
      },
      "outputs": [],
      "source": [
        "import utils"
      ]
    },
    {
      "cell_type": "code",
      "execution_count": null,
      "metadata": {
        "id": "pKC5xQv9oLN3"
      },
      "outputs": [],
      "source": [
        "import random\n",
        "import math\n",
        "import statistics"
      ]
    },
    {
      "cell_type": "code",
      "execution_count": null,
      "metadata": {
        "id": "mUwRT1I_KMed"
      },
      "outputs": [],
      "source": [
        "try:\n",
        "    from ellipse import LsqEllipse\n",
        "except ImportError:\n",
        "    !pip install lsq-ellipse\n",
        "    from ellipse import LsqEllipse"
      ]
    },
    {
      "cell_type": "code",
      "execution_count": null,
      "metadata": {
        "id": "W2Zd_mveL-ek"
      },
      "outputs": [],
      "source": [
        "figpath=os.path.join(dpath,'figure')\n",
        "os.makedirs(figpath, exist_ok=True)"
      ]
    },
    {
      "cell_type": "code",
      "execution_count": null,
      "metadata": {
        "colab": {
          "base_uri": "https://localhost:8080/"
        },
        "id": "EzOcigKFb-f7",
        "outputId": "57cfd668-be01-420f-f82f-0e632cd415a5"
      },
      "outputs": [
        {
          "name": "stdout",
          "output_type": "stream",
          "text": [
            "Pandas Version:  1.1.5\n",
            "Numpy Version:  1.19.5\n"
          ]
        }
      ],
      "source": [
        "import pandas as pd\n",
        "print('Pandas Version: ', pd.__version__)\n",
        "import numpy as np\n",
        "print('Numpy Version: ', np.__version__)\n",
        "import scipy.io as sio\n",
        "import matplotlib.pyplot as plt\n",
        "%matplotlib inline"
      ]
    },
    {
      "cell_type": "markdown",
      "metadata": {
        "id": "aDIEDd1DmrkC"
      },
      "source": [
        "#### Read data from files"
      ]
    },
    {
      "cell_type": "code",
      "execution_count": null,
      "metadata": {
        "id": "Q3INsvCuBbTt"
      },
      "outputs": [],
      "source": [
        "mldpath = './mldata'\n",
        "os.makedirs(mldpath, exist_ok=True)"
      ]
    },
    {
      "cell_type": "code",
      "execution_count": null,
      "metadata": {
        "id": "qUy9A1OioroQ"
      },
      "outputs": [],
      "source": [
        "import zipfile\n",
        "\n",
        "zip_name = os.path.join(dpath, 'mldata.zip')\n",
        "with zipfile.ZipFile(zip_name, 'r') as zip_ref:\n",
        "    zip_ref.extractall(mldpath)"
      ]
    },
    {
      "cell_type": "code",
      "execution_count": null,
      "metadata": {
        "id": "i6TpKhG6lKUC"
      },
      "outputs": [],
      "source": [
        "# function to prepare log curves\n",
        "def prepare_mldata(path,elist,dlist,alist,wlist,nrow=8):\n",
        "    '''\n",
        "\n",
        "    return xdata and ydata\n",
        "    '''\n",
        "    xlist=list()\n",
        "    ylist=list()\n",
        "    errflist=list()\n",
        "    for e in elist:\n",
        "        for d in dlist:\n",
        "            for a in alist:\n",
        "                dirname = 'e{}_d{}_a{}'.format(e,d,a)\n",
        "                for w in wlist:\n",
        "                    fname = os.path.join(path, dirname, w)#'{}.mat'.format(w)\n",
        "                    try:\n",
        "                        idata = list(sio.loadmat(fname).values())[-1] # last index is the valid data\n",
        "                    except FileNotFoundError:\n",
        "                        errflist.append(fname)\n",
        "                        continue\n",
        "                    # extract data by nrow\n",
        "                    ns = idata.shape[0]//nrow*nrow # make sure the row number is multiple of 8\n",
        "                    idata = idata[:ns,:]\n",
        "                    idata = idata[None,...]\n",
        "                    idata = idata.reshape(-1,nrow,idata.shape[-1])\n",
        "                    xlist.append(idata)\n",
        "                    # prepare label\n",
        "                    ilabel = np.array([e,d,a]).reshape(1,3)\n",
        "                    ylist.append(np.repeat(ilabel,idata.shape[0],axis=0))\n",
        "\n",
        "    return np.vstack(xlist), np.vstack(ylist), errflist"
      ]
    },
    {
      "cell_type": "code",
      "execution_count": null,
      "metadata": {
        "id": "6UwfRYVXf-hL"
      },
      "outputs": [],
      "source": [
        "elist = [0,0.05,0.1,0.2] #[0,0.01,0.05,0.1,0.2]\n",
        "dlist = list(range(40,100,10)) #list(range(50,100,10))\n",
        "alist = list(range(0,180,10))"
      ]
    },
    {
      "cell_type": "code",
      "execution_count": null,
      "metadata": {
        "colab": {
          "base_uri": "https://localhost:8080/"
        },
        "id": "wdSjdcIRV-o6",
        "outputId": "5f9aabdb-d931-490e-d4a0-f1d73b304055"
      },
      "outputs": [
        {
          "data": {
            "text/plain": [
              "[40, 50, 60, 70, 80, 90]"
            ]
          },
          "execution_count": 163,
          "metadata": {
            "tags": []
          },
          "output_type": "execute_result"
        }
      ],
      "source": [
        "dlist"
      ]
    },
    {
      "cell_type": "code",
      "execution_count": null,
      "metadata": {
        "id": "UXV43EX0mBOv"
      },
      "outputs": [],
      "source": [
        "# set well list, [NOTE] need update, or by other methods\n",
        "wlist = ['Baib117','Baib439','Cai30','Cai31','Cai32','Cai38','Cheng73','Cheng75','Cheng78','Li130','Li134','Li142','Li143']"
      ]
    },
    {
      "cell_type": "code",
      "execution_count": null,
      "metadata": {
        "id": "zrcMMpkumvCS"
      },
      "outputs": [],
      "source": [
        "# get ml data\n",
        "xdata,ydata_init,errlist=prepare_mldata(mldpath,elist,dlist,alist,wlist[:])"
      ]
    },
    {
      "cell_type": "code",
      "execution_count": null,
      "metadata": {
        "id": "9Z5J-BpACCw9"
      },
      "outputs": [],
      "source": [
        "ydata = ydata_init"
      ]
    },
    {
      "cell_type": "code",
      "execution_count": null,
      "metadata": {
        "colab": {
          "base_uri": "https://localhost:8080/"
        },
        "id": "FP4SJc5u-AIh",
        "outputId": "9528693d-f6f5-4024-c9e5-cee0236521d5"
      },
      "outputs": [
        {
          "data": {
            "text/plain": [
              "array([40., 50., 60., 70., 80., 90.])"
            ]
          },
          "execution_count": 167,
          "metadata": {
            "tags": []
          },
          "output_type": "execute_result"
        }
      ],
      "source": [
        "np.unique(ydata_init[:,1])"
      ]
    },
    {
      "cell_type": "markdown",
      "metadata": {
        "id": "Hs3bP-h5nzec"
      },
      "source": [
        "#### Preparation of azimuths"
      ]
    },
    {
      "cell_type": "markdown",
      "metadata": {
        "id": "VJzqxXWll3cs"
      },
      "source": [
        "- set azimuth data with size (1*6)"
      ]
    },
    {
      "cell_type": "code",
      "execution_count": null,
      "metadata": {
        "colab": {
          "base_uri": "https://localhost:8080/"
        },
        "id": "xqKufsA5Fcj3",
        "outputId": "7f58ce83-5820-44f0-b0ea-64a45be8d6c1"
      },
      "outputs": [
        {
          "data": {
            "text/plain": [
              "(45792, 1, 6)"
            ]
          },
          "execution_count": 170,
          "metadata": {
            "tags": []
          },
          "output_type": "execute_result"
        }
      ],
      "source": [
        "# prepare azimuth data\n",
        "xazi = np.arange(15,180,30)\n",
        "xazi = xazi.reshape(1,-1,xazi.size)\n",
        "xazi = np.repeat(xazi, xdata.shape[0], axis=0)\n",
        "xazi.shape"
      ]
    },
    {
      "cell_type": "markdown",
      "metadata": {
        "id": "yRor_BZEVtC0"
      },
      "source": [
        "### Samples Visualization"
      ]
    },
    {
      "cell_type": "code",
      "execution_count": null,
      "metadata": {
        "id": "lHMH5pTIVrgl"
      },
      "outputs": [],
      "source": [
        "def plotsamples(xdata,ydata,nrow=4,ncol=8,figsize=(15,10),cmap='hot',fname=''):\n",
        "    fig,axs = plt.subplots(nrow,ncol,figsize=figsize)\n",
        "    for i in range(nrow):\n",
        "        for j in range(ncol):\n",
        "            idx = random.randint(0,xdata.shape[0])\n",
        "            axs[i,j].imshow(xdata[idx,...],cmap=cmap)\n",
        "            # axs[i,j].set_xlabel(str(ydata[idx]),fontweight='bold')\n",
        "            axs[i,j].get_xaxis().set_ticks([])\n",
        "            axs[i,j].get_yaxis().set_ticks([])\n",
        "\n",
        "    plt.show()\n",
        "    if fname:\n",
        "        fig.savefig(fname, bbox_inches='tight')\n"
      ]
    },
    {
      "cell_type": "markdown",
      "metadata": {
        "id": "QtZ6-3YMMJbh"
      },
      "source": [
        "### Ellipse fitting\n",
        "- perform ellipse fitting and put into network"
      ]
    },
    {
      "cell_type": "code",
      "execution_count": null,
      "metadata": {
        "id": "QKErUAD6MIvq"
      },
      "outputs": [],
      "source": [
        "from matplotlib.patches import Ellipse\n",
        "def ellipsefit(X1,X2):\n",
        "    X = np.array(list(zip(X1, X2)))\n",
        "    reg = LsqEllipse().fit(X)\n",
        "    center, width, height, phi = reg.as_parameters()\n",
        "\n",
        "    print(f'center: {center[0]:.3f}, {center[1]:.3f}')\n",
        "    print(f'width: {width:.3f}')\n",
        "    print(f'height: {height:.3f}')\n",
        "    print(f'phi: {phi:.3f}')\n",
        "\n",
        "    fig = plt.figure(figsize=(6, 6))\n",
        "    ax = plt.subplot()\n",
        "    ax.axis('equal')\n",
        "    ax.plot(X1, X2, 'ro', zorder=1)\n",
        "    ellipse = Ellipse(\n",
        "        xy=center, width=2*width, height=2*height, angle=np.rad2deg(phi),\n",
        "        edgecolor='b', fc='None', lw=2, label='Fit', zorder=2\n",
        "    )\n",
        "    ax.add_patch(ellipse)\n",
        "\n",
        "    plt.xlabel('$X_1$')\n",
        "    plt.ylabel('$X_2$')\n",
        "\n",
        "    plt.legend()\n",
        "    plt.show()\n",
        "    return reg"
      ]
    },
    {
      "cell_type": "code",
      "execution_count": null,
      "metadata": {
        "id": "hvYZhWyyeex_"
      },
      "outputs": [],
      "source": [
        "def fitphi2azi(width, height, phi, dgr=True):\n",
        "    if width>=height:\n",
        "        if phi<0:\n",
        "            phi = np.pi + phi\n",
        "    elif width<height:\n",
        "        phi = np.pi/2 + phi\n",
        "\n",
        "    if dgr:\n",
        "        return np.rad2deg(phi)\n",
        "    else:\n",
        "        return phi"
      ]
    },
    {
      "cell_type": "code",
      "execution_count": null,
      "metadata": {
        "id": "Hi_-2KyPQe4F"
      },
      "outputs": [],
      "source": [
        "## Note: math functions can be replaced by numpy function\n",
        "def polar2xy(ang, r):\n",
        "    ## input 1D array need to be flattened\n",
        "    x = np.zeros_like(r)\n",
        "    y = np.zeros_like(r)\n",
        "    for i in range(ang.size):\n",
        "        #convert angle to radian\n",
        "        # rad = ang * math.pi / 180\n",
        "        rad = math.radians(ang[i])\n",
        "        x[i] = r[i]*math.cos(rad)\n",
        "        y[i] = r[i]*math.sin(rad)\n",
        "        # print(rad,r[i],x[i],y[i])\n",
        "    return x, y"
      ]
    },
    {
      "cell_type": "markdown",
      "metadata": {
        "id": "UNCZ97nqyWdE"
      },
      "source": [
        "### Machine learning data preparation"
      ]
    },
    {
      "cell_type": "markdown",
      "metadata": {
        "id": "BpijpZLRn-EL"
      },
      "source": [
        "#### Feature preparation of azimuthal impedance"
      ]
    },
    {
      "cell_type": "markdown",
      "metadata": {
        "id": "57mQ6P27mG8b"
      },
      "source": [
        "- data normalization to（0,1）"
      ]
    },
    {
      "cell_type": "code",
      "execution_count": null,
      "metadata": {
        "id": "5eYzKCDZyQ4s"
      },
      "outputs": [],
      "source": [
        "# normalize the dataset\n",
        "from sklearn.preprocessing import MinMaxScaler\n",
        "def samplescale(samp,vmin=0,limit=(0,1)):\n",
        "    tmp = samp\n",
        "    rmin, rmax = limit\n",
        "    for i in range(samp.shape[0]):\n",
        "        vmax = np.amax(samp[i])\n",
        "        tmp[i,:] = rmin + (rmax-rmin) * (samp[i,:]-vmin) / (vmax-vmin)\n",
        "    return tmp\n",
        "\n",
        "def datascale(indata):\n",
        "    xdatanorm = np.copy(indata)\n",
        "    for i in range(indata.shape[0]):\n",
        "        xdatanorm[i,...] = samplescale(xdatanorm[i,...])\n",
        "    return xdatanorm"
      ]
    },
    {
      "cell_type": "code",
      "execution_count": null,
      "metadata": {
        "id": "QhAR0yre4_mg"
      },
      "outputs": [],
      "source": [
        "xdatanorm = datascale(xdata)"
      ]
    },
    {
      "cell_type": "code",
      "execution_count": null,
      "metadata": {
        "colab": {
          "base_uri": "https://localhost:8080/"
        },
        "id": "1bPGEHzC-K_X",
        "outputId": "28c80238-4077-43ec-e1d1-2d12efa945b0"
      },
      "outputs": [
        {
          "data": {
            "text/plain": [
              "(45792, 8, 6, 1)"
            ]
          },
          "execution_count": 187,
          "metadata": {
            "tags": []
          },
          "output_type": "execute_result"
        }
      ],
      "source": [
        "xdatanorm=xdatanorm[...,np.newaxis]\n",
        "xdatanorm.shape"
      ]
    },
    {
      "cell_type": "markdown",
      "metadata": {
        "id": "7419z8SJnWJK"
      },
      "source": [
        "#### Label preparation"
      ]
    },
    {
      "cell_type": "markdown",
      "metadata": {
        "id": "-UIjn_bei4tx"
      },
      "source": [
        "- dip and azimuth binning"
      ]
    },
    {
      "cell_type": "code",
      "execution_count": null,
      "metadata": {
        "id": "Yym-nJUXzkKT"
      },
      "outputs": [],
      "source": [
        "# bin dip and azimuth\n",
        "def binArray(data, bins=list(range(10,110,30)),right=False):\n",
        "    # data: 1D array\n",
        "    # meanlist=[statistics.mean(binlist[i:i+2]) for i in range(len(binlist)-1)]\n",
        "    inds = np.digitize(data,bins,right)\n",
        "    means = [data[inds == i].mean() for i in range(1, len(bins))]\n",
        "    for i in range(data.size):\n",
        "        data[i] = means[inds[i]-1]"
      ]
    },
    {
      "cell_type": "code",
      "execution_count": null,
      "metadata": {
        "colab": {
          "base_uri": "https://localhost:8080/"
        },
        "id": "bQQg1fcTCPPv",
        "outputId": "cf05341c-86d1-4601-e8be-18c854f7e08f"
      },
      "outputs": [
        {
          "data": {
            "text/plain": [
              "array([45., 65., 85.])"
            ]
          },
          "execution_count": 189,
          "metadata": {
            "tags": []
          },
          "output_type": "execute_result"
        }
      ],
      "source": [
        "# bin dip to three values\n",
        "binArray(ydata[:,1], list(range(40,110,20))) # list(range(10,110,30))\n",
        "np.unique(ydata[:,1])"
      ]
    },
    {
      "cell_type": "code",
      "execution_count": null,
      "metadata": {
        "colab": {
          "base_uri": "https://localhost:8080/"
        },
        "id": "OjEA-52JDxYh",
        "outputId": "edc2389b-c102-48a9-c076-5b92b5a27baa"
      },
      "outputs": [
        {
          "data": {
            "text/plain": [
              "array([ 10.,  40.,  70., 100., 130., 160.])"
            ]
          },
          "execution_count": 190,
          "metadata": {
            "tags": []
          },
          "output_type": "execute_result"
        }
      ],
      "source": [
        "# bin azimuth to six values\n",
        "binArray(ydata[:,2], list(range(0,190,30)))\n",
        "np.unique(ydata[:,2])"
      ]
    },
    {
      "cell_type": "code",
      "execution_count": null,
      "metadata": {
        "id": "gpewQkq-Paaw"
      },
      "outputs": [],
      "source": [
        "# ydata.shape"
      ]
    },
    {
      "cell_type": "markdown",
      "metadata": {
        "id": "2D-xGWG2jIl5"
      },
      "source": [
        "- convert values to types for classification"
      ]
    },
    {
      "cell_type": "code",
      "execution_count": null,
      "metadata": {
        "id": "ZBC4xEedjpNN"
      },
      "outputs": [],
      "source": [
        "def float2str(data):\n",
        "    svec = data.astype(str)\n",
        "    for i in range(data.shape[0]):\n",
        "        for j in range(data.shape[-1]):\n",
        "            svec[i,j] = str(data[i,j])\n",
        "    return svec"
      ]
    },
    {
      "cell_type": "code",
      "execution_count": null,
      "metadata": {
        "id": "19q0EECh3z1V"
      },
      "outputs": [],
      "source": [
        "def str2float(tstr):\n",
        "    if tstr=='None':\n",
        "        return -1\n",
        "    return float(tstr)"
      ]
    },
    {
      "cell_type": "code",
      "execution_count": null,
      "metadata": {
        "id": "Nrf1v2gikyu6"
      },
      "outputs": [],
      "source": [
        "ydata_str = float2str(ydata)"
      ]
    },
    {
      "cell_type": "markdown",
      "metadata": {
        "id": "Vbiipb7g0Vsv"
      },
      "source": [
        "- set dip and azimuth as None when fracture density is 0"
      ]
    },
    {
      "cell_type": "code",
      "execution_count": null,
      "metadata": {
        "id": "-nqSGppZ0nru"
      },
      "outputs": [],
      "source": [
        "def assignNone(data):\n",
        "    idxlist = np.where(data[:,0]=='0.0')\n",
        "    data[idxlist,1:] = None\n",
        "    return idxlist"
      ]
    },
    {
      "cell_type": "code",
      "execution_count": null,
      "metadata": {
        "colab": {
          "base_uri": "https://localhost:8080/"
        },
        "id": "HAjfxdgP05xt",
        "outputId": "ad69eb83-cc6b-484a-9f82-8df2e6b1aaa6"
      },
      "outputs": [
        {
          "data": {
            "text/plain": [
              "(array([    0,     1,     2, ..., 11445, 11446, 11447]),)"
            ]
          },
          "execution_count": 197,
          "metadata": {
            "tags": []
          },
          "output_type": "execute_result"
        }
      ],
      "source": [
        "idxlist=assignNone(ydata_str)\n",
        "idxlist"
      ]
    },
    {
      "cell_type": "markdown",
      "metadata": {
        "id": "fw-XVgAtjZ8s"
      },
      "source": [
        "- convert ydata from string to label binarizer"
      ]
    },
    {
      "cell_type": "code",
      "execution_count": null,
      "metadata": {
        "id": "JFYW5bx2HawY"
      },
      "outputs": [],
      "source": [
        "# convert ydata from string to label binarizer\n",
        "from sklearn.preprocessing import LabelBinarizer\n",
        "def initlabelbinarizer(strArray):\n",
        "    lb = LabelBinarizer()\n",
        "    lb.fit(strArray)\n",
        "    return lb\n",
        "\n",
        "def strcat2labelbinarizer(ylabel):\n",
        "    lblist=list()\n",
        "    ycat =list()\n",
        "\n",
        "    for i in range(ylabel.shape[-1]):\n",
        "        labelb = LabelBinarizer()\n",
        "        ycat.append(labelb.fit_transform(ylabel[:,i]))\n",
        "        lblist.append(labelb)\n",
        "    return ycat, lblist\n",
        "\n",
        "def strcat2label(lblist, ylabel):\n",
        "    # the column number of ylabel equal to length of lblist\n",
        "    outlist = list()\n",
        "    for i in range(lblist):\n",
        "        outlist.append(lblist[i].transform(ylabel[:,i]))\n",
        "    return outlist"
      ]
    },
    {
      "cell_type": "code",
      "execution_count": null,
      "metadata": {
        "id": "OeTqcFJFmqTw"
      },
      "outputs": [],
      "source": [
        "ycat, lblist = strcat2labelbinarizer(ydata_str)\n",
        "ycat_e,ycat_d,ycat_a=ycat"
      ]
    },
    {
      "cell_type": "markdown",
      "metadata": {
        "id": "c6_mcgkR3a88"
      },
      "source": [
        "#### split train and test data"
      ]
    },
    {
      "cell_type": "code",
      "execution_count": null,
      "metadata": {
        "id": "f22gfOArH8za"
      },
      "outputs": [],
      "source": [
        " # split train and test data\n",
        " from sklearn.model_selection import train_test_split\n",
        " xdata_train, xdata_test, xazi_train, xazi_test, y_train, y_test, ye_train, ye_test, yd_train, yd_test, ya_train, ya_test = train_test_split(\n",
        "     xdatanorm, xazi, ydata, ycat_e, ycat_d, ycat_a, test_size=0.2, random_state=1)"
      ]
    },
    {
      "cell_type": "markdown",
      "metadata": {
        "id": "7ZJ4_Ai0hQe7"
      },
      "source": [
        "#### Prepare ellipse fitting data"
      ]
    },
    {
      "cell_type": "code",
      "execution_count": null,
      "metadata": {
        "id": "iGfCRo7-hVLn"
      },
      "outputs": [],
      "source": [
        "def prepareEllipseData(dgrdata, rdata):\n",
        "    def _relativeanisotropy(width, height):\n",
        "        return (max(width,height) - min(width,height))/max(width,height)\n",
        "\n",
        "    outlist = list()\n",
        "    for idx in range(dgrdata.shape[0]):\n",
        "        ang = dgrdata[idx]\n",
        "        r = rdata[idx].squeeze()\n",
        "        # convert polar to x y\n",
        "        X1,X2 = polar2xy(ang.flatten(),np.average(r,0).flatten())\n",
        "        X = np.array(list(zip(X1, X2)))\n",
        "        reg = LsqEllipse().fit(X)\n",
        "        center, width, height, phi = reg.as_parameters()\n",
        "        phi = fitphi2azi(width, height, phi)\n",
        "        ani = _relativeanisotropy(width, height)\n",
        "        para = [center[0],center[1],width,height,ani,phi]\n",
        "        outlist.append(para)\n",
        "\n",
        "    return np.array(outlist)"
      ]
    },
    {
      "cell_type": "code",
      "execution_count": null,
      "metadata": {
        "id": "vmy2UQv_u-AO"
      },
      "outputs": [],
      "source": [
        "xellip_train = prepareEllipseData(xazi_train, xdata_train)"
      ]
    },
    {
      "cell_type": "code",
      "execution_count": null,
      "metadata": {
        "id": "CqdQjteqvV2D"
      },
      "outputs": [],
      "source": [
        "xellip_test = prepareEllipseData(xazi_test, xdata_test)"
      ]
    },
    {
      "cell_type": "markdown",
      "metadata": {
        "id": "znR62ZsIsYUw"
      },
      "source": [
        "## Deep Learning"
      ]
    },
    {
      "cell_type": "markdown",
      "metadata": {
        "id": "FfkECFI2LvVB"
      },
      "source": [
        "### Basic functions"
      ]
    },
    {
      "cell_type": "code",
      "execution_count": null,
      "metadata": {
        "id": "oh9hGN0sdqdU"
      },
      "outputs": [],
      "source": [
        "from tensorflow.keras.models import Sequential, Model\n",
        "from tensorflow.keras.layers import Input, Dense, Flatten, Dropout, Activation\n",
        "from tensorflow.keras.layers import Conv1D, Conv2D, MaxPooling1D, MaxPooling2D\n",
        "from tensorflow.keras.layers import BatchNormalization, Concatenate, Reshape\n",
        "from tensorflow.keras.utils import plot_model\n",
        "from tensorflow.keras.optimizers import Adam\n",
        "from tensorflow.keras.callbacks import Callback, EarlyStopping\n",
        "import tensorflow as tf\n",
        "import tensorflow.keras as keras"
      ]
    },
    {
      "cell_type": "code",
      "execution_count": null,
      "metadata": {
        "colab": {
          "base_uri": "https://localhost:8080/"
        },
        "id": "coWbw1j9Ztou",
        "outputId": "58edaa79-bd7f-443f-c88b-300ba5b498d2"
      },
      "outputs": [
        {
          "name": "stdout",
          "output_type": "stream",
          "text": [
            "2.4.1\n"
          ]
        }
      ],
      "source": [
        "print(tf.__version__)"
      ]
    },
    {
      "cell_type": "code",
      "execution_count": null,
      "metadata": {
        "id": "WAKlakoCMYuH"
      },
      "outputs": [],
      "source": [
        "from sklearn.metrics import confusion_matrix, ConfusionMatrixDisplay, accuracy_score"
      ]
    },
    {
      "cell_type": "code",
      "execution_count": null,
      "metadata": {
        "id": "hncYPswxTMom"
      },
      "outputs": [],
      "source": [
        "# Display training progress by printing a single dot for each completed epoch\n",
        "class PrintDot(Callback):\n",
        "  def on_epoch_end(self, epoch, logs):\n",
        "    if epoch % 100 == 0:\n",
        "        # print('')\n",
        "        print(epoch//100, end='->')\n",
        "    # print('.', end='')\n",
        "\n",
        "# The patience parameter is the amount of epochs to check for improvement\n",
        "early_stop = EarlyStopping(monitor='val_loss', patience=10)"
      ]
    },
    {
      "cell_type": "code",
      "execution_count": null,
      "metadata": {
        "id": "AuKZPZ63TnyH"
      },
      "outputs": [],
      "source": [
        "def plot_history(history, fname=''):\n",
        "  hist = pd.DataFrame(history.history)\n",
        "  hist['epoch'] = history.epoch\n",
        "\n",
        "  plt.figure()\n",
        "  plt.xlabel('Epoch', fontweight='bold')\n",
        "  plt.ylabel('Mean Abs Error', fontweight='bold')\n",
        "  plt.plot(hist['epoch'], hist['mean_absolute_error'],\n",
        "           label='Train Error')\n",
        "  plt.plot(hist['epoch'], hist['val_mean_absolute_error'],\n",
        "           label = 'Val Error')\n",
        "#   plt.ylim([0,5])\n",
        "  plt.legend()\n",
        "\n",
        "#   plt.figure()\n",
        "#   plt.xlabel('Epoch')\n",
        "#   plt.ylabel('Mean Square Error')\n",
        "#   plt.plot(hist['epoch'], hist['mean_squared_error'],\n",
        "#            label='Train Error')\n",
        "#   plt.plot(hist['epoch'], hist['val_mean_squared_error'],\n",
        "#            label = 'Val Error')\n",
        "# #   plt.ylim([0,20])\n",
        "#   plt.legend()\n",
        "#   plt.show()\n",
        "\n",
        "  if fname is not None and type(fname) is str:\n",
        "    plt.savefig(fname, dpi=300, bbox_inches='tight')"
      ]
    },
    {
      "cell_type": "code",
      "execution_count": null,
      "metadata": {
        "id": "WUlvhciDzbIr"
      },
      "outputs": [],
      "source": [
        "from sklearn.metrics import r2_score, mean_absolute_error\n",
        "\n",
        "# Plot and comparison\n",
        "def plot_cmp(x, y, fname='', minv=None, maxv=None):\n",
        "    # plot scatter\n",
        "    plt.figure(figsize=(6,6))\n",
        "    plt.scatter(x,y,c='blue',s=50)\n",
        "    if minv is None:\n",
        "        minv=math.floor((min(x.min(), y.min())-1)/5)*5\n",
        "    if maxv is None:\n",
        "        maxv=math.ceil((max(x.max(), y.max())+10)/5)*5\n",
        "    plt.xlim(minv,maxv)\n",
        "    plt.ylim(minv,maxv)\n",
        "    plt.gca().set_aspect('equal', adjustable='box')\n",
        "    plt.xticks(np.arange(minv, maxv+1, 100))\n",
        "    plt.yticks(np.arange(minv, maxv+1, 100))\n",
        "\n",
        "    # plot labels\n",
        "    plt.xlabel('Real Production (t/d)', fontweight='bold')\n",
        "    plt.ylabel('Prdt Production (t/d)', fontweight='bold')\n",
        "\n",
        "    # plot diagonal line\n",
        "    plt.plot([minv,maxv,1],[minv,maxv,1],c='red')\n",
        "\n",
        "    dv = maxv - minv\n",
        "    # # plot explained_variance_score value\n",
        "    # var = explained_variance_score(x,y)\n",
        "    # plt.text(minv+dv/10,maxv-dv/10, r'var = ' + '%3.2f' % var, fontweight='bold')\n",
        "\n",
        "    # plot scc value\n",
        "    scc = r2_score(x,y)\n",
        "    # plt.text(minv+dv/10,maxv-dv/10, r'r$^2$ = ' + '%3.2f' % scc, fontweight='bold')\n",
        "    mae = mean_absolute_error(x,y)\n",
        "    # plt.text(minv+dv/10,maxv-dv/8, 'Mean Abs Error = ' + '%3.2f;\\n' % mae + r'r$^2$ = ' + '%3.2f' % scc, fontweight='bold')\n",
        "    plt.text(minv+dv/10,maxv-dv/10, 'Mean Abs Error = ' + '%3.2f' % mae, fontweight='bold')\n",
        "\n",
        "    if fname is not None and type(fname) is str:\n",
        "        plt.savefig(fname, dpi=300, bbox_inches='tight')"
      ]
    },
    {
      "cell_type": "markdown",
      "metadata": {
        "id": "ihaHnOhaKQDk"
      },
      "source": [
        "### Define model"
      ]
    },
    {
      "cell_type": "code",
      "execution_count": null,
      "metadata": {
        "id": "X3iT-YAPjuFS"
      },
      "outputs": [],
      "source": [
        "class CNNMLModel(object):\n",
        "    def __init__(self,xdata_shape,xazi_shape,xellip_dim,y_dim,cat_dim,cat_label):\n",
        "        self.shape_xdata = xdata_shape # shape of input azimuth data\n",
        "        self.shape_xazi = xazi_shape # shape of input azimuth value\n",
        "        self.elp_dim = xellip_dim\n",
        "        self.out_dim = y_dim\n",
        "        self.cat_dim = cat_dim\n",
        "        self.cat_label = cat_label\n",
        "\n",
        "    def block_cnn2d(self, inputs, klist=[4,8,1]):\n",
        "        # inputs = Input(shape=self.shape_xdata)\n",
        "        layer = len(klist)\n",
        "        if layer==2:\n",
        "            # 8*6 to 2*6\n",
        "            x = Conv2D(klist[0],3, strides=(2,1),padding='same')(inputs)\n",
        "            x = Activation('relu')(x)\n",
        "            x = BatchNormalization(momentum=0.9)(x)\n",
        "            x = Dropout(0.4)(x)\n",
        "            x = MaxPooling2D(2,(2,1),padding='same')(x)\n",
        "        else:\n",
        "            # 8*6 to 4*6\n",
        "            x = Conv2D(klist[0],3,padding='same')(inputs)\n",
        "            x = Activation('relu')(x)\n",
        "            x = BatchNormalization(momentum=0.9)(x)\n",
        "            x = Dropout(0.2)(x)\n",
        "            x = MaxPooling2D(2,(2,1),padding='same')(x)\n",
        "\n",
        "            # 4*6 to 2*6\n",
        "            x = Conv2D(klist[1],2,padding='same')(x)\n",
        "            x = Activation('relu')(x)\n",
        "            x = BatchNormalization(momentum=0.9)(x)\n",
        "            x = Dropout(0.4)(x)\n",
        "            x = MaxPooling2D(2,(2,1),padding='same')(x)\n",
        "\n",
        "        # 2*6 to 1*6\n",
        "        x = Conv2D(klist[-1],2,padding='same')(x)\n",
        "        x = Activation('relu')(x)\n",
        "        x = BatchNormalization(momentum=0.9)(x)\n",
        "        x = MaxPooling2D(2,(2,1),padding='same')(x)\n",
        "        x = Reshape((1,6))(x)\n",
        "\n",
        "        return x\n",
        "\n",
        "    def block_mlp(self, inputs):\n",
        "        # inputs = Input(shape=self.shape_xazi)\n",
        "        return inputs\n",
        "\n",
        "    def block_neck(self, inputs_cnn, inputs_cnn1d=None):\n",
        "        if inputs_cnn1d is not None:\n",
        "            cmb_input = Concatenate(axis=1)([inputs_cnn1d, inputs_cnn])\n",
        "            x = Reshape((6,2))(cmb_input)\n",
        "            x = Conv1D(1, 3, padding='same')(x)\n",
        "            x = Activation('relu')(x)\n",
        "            x = BatchNormalization(momentum=0.9)(x)\n",
        "        else:\n",
        "            x = inputs_cnn\n",
        "\n",
        "        x = Flatten()(x)\n",
        "        return x\n",
        "\n",
        "    def block_reg(self, inputs):\n",
        "        x = inputs\n",
        "        x = Dense(self.out_dim)(x)\n",
        "        return x\n",
        "\n",
        "    def block_cat(self, inputs, outdim, outlabel, hidenodes=None):\n",
        "        x = inputs\n",
        "        if hidenodes is not None:\n",
        "            for node in hidenodes:\n",
        "                x = Dense(node)(x)\n",
        "                x = Activation('relu')(x)\n",
        "                x = BatchNormalization(momentum=0.9)(x)\n",
        "        x = Dense(outdim)(x)\n",
        "        x = Activation('softmax',name=outlabel)(x)\n",
        "        return x\n",
        "\n",
        "    def block_cat_e(self, inputs, outdim, outlabel, basic=True):\n",
        "        if basic:\n",
        "            return self.block_cat(inputs, outdim, outlabel)\n",
        "\n",
        "        x = inputs\n",
        "        x = Dense(18)(x)\n",
        "        x = Activation('relu')(x)\n",
        "        x = BatchNormalization(momentum=0.9)(x)\n",
        "        x = Dense(outdim)(x)\n",
        "        x = Activation('softmax',name=outlabel)(x)\n",
        "        return x\n",
        "\n",
        "    def block_cat_d(self, inputs, outdim, outlabel, basic=True):\n",
        "        if basic:\n",
        "            return self.block_cat(inputs, outdim, outlabel)\n",
        "\n",
        "        x = inputs\n",
        "        x = Dense(18)(x)\n",
        "        x = Activation('relu')(x)\n",
        "        x = BatchNormalization(momentum=0.9)(x)\n",
        "        x = Dense(outdim)(x)\n",
        "        x = Activation('softmax',name=outlabel)(x)\n",
        "        return x\n",
        "\n",
        "    def block_cat_a(self, inputs, outdim, outlabel, basic=True):\n",
        "        if basic:\n",
        "            return self.block_cat(inputs, outdim, outlabel)\n",
        "\n",
        "        x = inputs\n",
        "        x = Dense(18)(x)\n",
        "        x = Activation('relu')(x)\n",
        "        x = BatchNormalization(momentum=0.9)(x)\n",
        "        x = Dense(outdim)(x)\n",
        "        x = Activation('softmax',name=outlabel)(x)\n",
        "        return x\n",
        "\n",
        "    def bulid_model(self,reg=False,summary=True,cnn1d=True,klist=[4,8,1],\n",
        "                    bclist=[True, True, True],shareinput=True,outlist=None,\n",
        "                    hidenodes=[12],only_ellip=False):\n",
        "        cnn1d_input = None\n",
        "        if cnn1d:\n",
        "            cnn1d_input = Input(shape=self.shape_xazi)\n",
        "        cnn_input = Input(shape=self.shape_xdata)\n",
        "        dis_input = Input(shape=self.elp_dim)\n",
        "        if reg:\n",
        "            if only_ellip:\n",
        "                x = self.block_reg(dis_input)\n",
        "                model = Model(inputs=dis_input, outputs=x)\n",
        "            else:\n",
        "                cnn_output = self.block_cnn2d(cnn_input, klist)\n",
        "                x = self.block_neck(cnn_output, cnn1d_input)\n",
        "                x = self.block_reg(x)\n",
        "                model = Model(inputs=[cnn1d_input, cnn_input], outputs=x)\n",
        "        else:\n",
        "            outlaylist=list()\n",
        "            if shareinput:\n",
        "                blockclist = [self.block_cat_e, self.block_cat_d, self.block_cat_a]\n",
        "                for i in range(len(self.cat_label)):\n",
        "                    if only_ellip:\n",
        "                        x = dis_input\n",
        "                    else:\n",
        "                        cnn_output = self.block_cnn2d(cnn_input, klist)\n",
        "                        x = self.block_neck(cnn_output, cnn1d_input)\n",
        "                        x = Concatenate()([x,dis_input])\n",
        "                    outlaylist.append(blockclist[i](x,self.cat_dim[i],self.cat_label[i],bclist[i]))\n",
        "            else:\n",
        "                if only_ellip:\n",
        "                    x = dis_input\n",
        "                else:\n",
        "                    cnn_output = self.block_cnn2d(cnn_input, klist)\n",
        "                    x = self.block_neck(cnn_output, cnn1d_input)\n",
        "                    x = Concatenate()([x,dis_input])\n",
        "                for i in range(len(self.cat_label)):\n",
        "                    outlaylist.append(self.block_cat(x,self.cat_dim[i],self.cat_label[i],hidenodes=hidenodes))\n",
        "            # output one or more\n",
        "            if outlist is None:\n",
        "                if only_ellip:\n",
        "                    model = Model(inputs=dis_input, outputs=outlaylist)\n",
        "                elif cnn1d:\n",
        "                    model = Model(inputs=[cnn1d_input, cnn_input, dis_input], outputs=outlaylist)\n",
        "                else:\n",
        "                    model = Model(inputs=[cnn_input, dis_input], outputs=outlaylist)\n",
        "            else:\n",
        "                outlayer = [outlaylist[i] for i,cat in enumerate(self.cat_label) if cat in outlist]\n",
        "                if only_ellip:\n",
        "                    model = Model(inputs=dis_input, outputs=outlayer)\n",
        "                elif cnn1d:\n",
        "                    model = Model(inputs=[cnn1d_input, cnn_input, dis_input], outputs=outlayer)\n",
        "                else:\n",
        "                    model = Model(inputs=[cnn_input, dis_input], outputs=outlayer)\n",
        "\n",
        "        if summary:\n",
        "            model.summary()\n",
        "\n",
        "        return model\n",
        "\n",
        "    def compile_model(self, model, loss=\"mean_squared_error\", opt=Adam(),\n",
        "                      metrics=['mean_absolute_error', 'mean_squared_error'],**kw):\n",
        "        model.compile(loss=loss, optimizer=opt, metrics=metrics,**kw)\n",
        "\n",
        "    def train_model(self,model,xtrain,ytrain,weightfile,logpath,logfile,histfile,\n",
        "                    epoch=200,batch=32, valRt=0.2,shuff=True,init_epoch=0,**kw):\n",
        "        # callbacks\n",
        "        checkpointer = keras.callbacks.ModelCheckpoint(filepath=weightfile,verbose=1, save_best_only=True,every=kw['every'],startAt=kw['startAt'])\n",
        "        earlystopper = keras.callbacks.EarlyStopping(monitor='val_loss', verbose=0,patience=kw['patience'])\n",
        "        csv_log = keras.callbacks.CSVLogger(logfile)\n",
        "        tensboard_cb = keras.callbacks.TensorBoard(log_dir=logpath,histogram_freq=1)\n",
        "        callbacks = [checkpointer,earlystopper,csv_log,tensboard_cb]\n",
        "        if 'cb_no' in kw:\n",
        "            if 'cp' in kw['cb_no']:\n",
        "                callbacks.remove(checkpointer)\n",
        "            if 'es' in kw['cb_no']:\n",
        "                callbacks.remove(earlystopper)\n",
        "            if 'csv' in kw['cb_no']:\n",
        "                callbacks.remove(csv_log)\n",
        "            if 'tb' in kw['cb_no']:\n",
        "                callbacks.remove(tensboard_cb)\n",
        "        # fitting\n",
        "        hist = model.fit(xtrain, ytrain, batch_size=batch, epochs=epoch, shuffle=shuff,\n",
        "                         callbacks=callbacks, validation_split=valRt,initial_epoch=init_epoch,\n",
        "                         validation_data=kw['validation_data'])\n",
        "        print('Training Finish')\n",
        "        utils.save_weights(model, weightfile)\n",
        "        utils.save_history(histfile, hist)\n",
        "        return hist, model\n",
        "\n",
        "    def load_model(self, weightfile):\n",
        "        model = self.cnnmodel(summary=False)\n",
        "        model = utils.load_weights(model, weightfile, True)\n",
        "        model = utils.compile_model(model)\n",
        "        return model\n",
        "\n",
        "    def model_valid(self, model, x, y, show_idx=None):\n",
        "        test_score = model.evaluate(x, y, verbose=1)\n",
        "        print(test_score)\n",
        "        if show_idx is not None:\n",
        "            yp = model.predict(x, verbose=1)\n",
        "            if show_idx<0 or show_idx>=y.shape[0]:\n",
        "                show_idx = 0\n",
        "            plt.scatter(y[show_idx,:],yp[show_idx,:])\n",
        "            # vmin = min(min(y[show_idx,:]),min(yp[show_idx,:]))\n",
        "            # vmax = max(max(y[show_idx,:]),max(yp[show_idx,:]))\n",
        "            # plt.xlim(vmin,vmax)\n",
        "            # plt.ylim(vmin,vmax)\n",
        "            # plt.gca().set_aspect('equal', adjustable='box')\n",
        "            plt.axis('square')\n",
        "            plt.xlabel('Initial')\n",
        "            plt.ylabel('Predict')\n",
        "            plt.draw()\n",
        "\n",
        "    def model_predict(self, model, x, verbose=0):\n",
        "        y = model.predict(x, verbose=verbose)\n",
        "        return y"
      ]
    },
    {
      "cell_type": "markdown",
      "metadata": {
        "id": "UiYXsvw1d1j9"
      },
      "source": [
        "### Model Training"
      ]
    },
    {
      "cell_type": "code",
      "execution_count": null,
      "metadata": {
        "id": "Mv1QDfPuxkb9"
      },
      "outputs": [],
      "source": [
        "cat_dim=[ycat_e.shape[-1],ycat_d.shape[-1],ycat_a.shape[-1]]\n",
        "cat_label=['fe_cat','fd_cat','fa_cat']\n",
        "cnnmodel = CNNMLModel(xdatanorm.shape[1:],xazi.shape[1:],xellip_train.shape[-1],ydata.shape[-1],cat_dim,cat_label)"
      ]
    },
    {
      "cell_type": "code",
      "execution_count": null,
      "metadata": {
        "colab": {
          "base_uri": "https://localhost:8080/"
        },
        "id": "yMeb9xI8GZQR",
        "outputId": "179a6d85-dfd0-4594-f87c-e7743b5b9b16"
      },
      "outputs": [
        {
          "data": {
            "text/plain": [
              "((1, 6), 6, 3)"
            ]
          },
          "execution_count": 395,
          "metadata": {
            "tags": []
          },
          "output_type": "execute_result"
        }
      ],
      "source": [
        "xazi.shape[1:],xellip_train.shape[-1],ydata.shape[-1]"
      ]
    },
    {
      "cell_type": "markdown",
      "metadata": {
        "id": "a9HOexzvm49B"
      },
      "source": [
        "#### Multi-output model"
      ]
    },
    {
      "cell_type": "code",
      "execution_count": null,
      "metadata": {},
      "outputs": [
        {
          "name": "stdout",
          "output_type": "stream",
          "text": [
            "Model: \"model_15\"\n",
            "__________________________________________________________________________________________________\n",
            "Layer (type)                    Output Shape         Param #     Connected to                     \n",
            "==================================================================================================\n",
            "input_38 (InputLayer)           [(None, 8, 6, 1)]    0                                            \n",
            "__________________________________________________________________________________________________\n",
            "conv2d_38 (Conv2D)              (None, 4, 6, 6)      60          input_38[0][0]                   \n",
            "__________________________________________________________________________________________________\n",
            "activation_56 (Activation)      (None, 4, 6, 6)      0           conv2d_38[0][0]                  \n",
            "__________________________________________________________________________________________________\n",
            "batch_normalization_56 (BatchNo (None, 4, 6, 6)      24          activation_56[0][0]              \n",
            "__________________________________________________________________________________________________\n",
            "dropout_19 (Dropout)            (None, 4, 6, 6)      0           batch_normalization_56[0][0]     \n",
            "__________________________________________________________________________________________________\n",
            "max_pooling2d_38 (MaxPooling2D) (None, 2, 6, 6)      0           dropout_19[0][0]                 \n",
            "__________________________________________________________________________________________________\n",
            "conv2d_39 (Conv2D)              (None, 2, 6, 1)      25          max_pooling2d_38[0][0]           \n",
            "__________________________________________________________________________________________________\n",
            "activation_57 (Activation)      (None, 2, 6, 1)      0           conv2d_39[0][0]                  \n",
            "__________________________________________________________________________________________________\n",
            "batch_normalization_57 (BatchNo (None, 2, 6, 1)      4           activation_57[0][0]              \n",
            "__________________________________________________________________________________________________\n",
            "max_pooling2d_39 (MaxPooling2D) (None, 1, 6, 1)      0           batch_normalization_57[0][0]     \n",
            "__________________________________________________________________________________________________\n",
            "input_37 (InputLayer)           [(None, 1, 6)]       0                                            \n",
            "__________________________________________________________________________________________________\n",
            "reshape_25 (Reshape)            (None, 1, 6)         0           max_pooling2d_39[0][0]           \n",
            "__________________________________________________________________________________________________\n",
            "concatenate_25 (Concatenate)    (None, 2, 6)         0           input_37[0][0]                   \n",
            "                                                                 reshape_25[0][0]                 \n",
            "__________________________________________________________________________________________________\n",
            "reshape_26 (Reshape)            (None, 6, 2)         0           concatenate_25[0][0]             \n",
            "__________________________________________________________________________________________________\n",
            "conv1d_6 (Conv1D)               (None, 6, 1)         7           reshape_26[0][0]                 \n",
            "__________________________________________________________________________________________________\n",
            "activation_58 (Activation)      (None, 6, 1)         0           conv1d_6[0][0]                   \n",
            "__________________________________________________________________________________________________\n",
            "batch_normalization_58 (BatchNo (None, 6, 1)         4           activation_58[0][0]              \n",
            "__________________________________________________________________________________________________\n",
            "flatten_19 (Flatten)            (None, 6)            0           batch_normalization_58[0][0]     \n",
            "__________________________________________________________________________________________________\n",
            "input_39 (InputLayer)           [(None, 6)]          0                                            \n",
            "__________________________________________________________________________________________________\n",
            "concatenate_26 (Concatenate)    (None, 12)           0           flatten_19[0][0]                 \n",
            "                                                                 input_39[0][0]                   \n",
            "__________________________________________________________________________________________________\n",
            "dense_57 (Dense)                (None, 4)            52          concatenate_26[0][0]             \n",
            "__________________________________________________________________________________________________\n",
            "dense_58 (Dense)                (None, 4)            52          concatenate_26[0][0]             \n",
            "__________________________________________________________________________________________________\n",
            "dense_59 (Dense)                (None, 7)            91          concatenate_26[0][0]             \n",
            "__________________________________________________________________________________________________\n",
            "fe_cat (Activation)             (None, 4)            0           dense_57[0][0]                   \n",
            "__________________________________________________________________________________________________\n",
            "fd_cat (Activation)             (None, 4)            0           dense_58[0][0]                   \n",
            "__________________________________________________________________________________________________\n",
            "fa_cat (Activation)             (None, 7)            0           dense_59[0][0]                   \n",
            "==================================================================================================\n",
            "Total params: 319\n",
            "Trainable params: 303\n",
            "Non-trainable params: 16\n",
            "__________________________________________________________________________________________________\n"
          ]
        }
      ],
      "source": [
        "model_cat = cnnmodel.bulid_model(reg=False,cnn1d=True,klist=[6,1],bclist=[False,False,False],shareinput=False,outlist=None,hidenodes=None)"
      ]
    },
    {
      "cell_type": "code",
      "execution_count": null,
      "metadata": {
        "id": "XewtAodhm49C"
      },
      "outputs": [],
      "source": [
        "version='vn-ok2'\n",
        "logpath = os.path.join(dpath,'train-QCB-mix-cat-{}'.format(version))\n",
        "os.makedirs(logpath, exist_ok=True)\n",
        "wfile = os.path.join(logpath, 'mix-cat-epoch1000.h5')\n",
        "lfile = os.path.join(logpath, 'performance.csv')\n",
        "hfile = os.path.join(logpath, 'hist.pkl')"
      ]
    },
    {
      "cell_type": "code",
      "execution_count": null,
      "metadata": {
        "id": "M0bdzMIUm49D"
      },
      "outputs": [],
      "source": [
        "opt = Adam() #Adam(lr=1e-3, decay=1e-3 / 200, amsgrad=True)\n",
        "sgd = keras.optimizers.SGD(learning_rate=0.01)\n",
        "loslist=['categorical_crossentropy','categorical_crossentropy','categorical_crossentropy']\n",
        "metlist=['accuracy','accuracy','accuracy']\n",
        "cnnmodel.compile_model(model_cat,loss=dict(zip(cat_label,loslist)),opt=opt,\n",
        "                       metrics=dict(zip(cat_label,metlist)))"
      ]
    },
    {
      "cell_type": "code",
      "execution_count": null,
      "metadata": {
        "colab": {
          "base_uri": "https://localhost:8080/"
        },
        "id": "dzjw87NMm49D",
        "outputId": "eb2f86fb-3137-4f7b-f364-c7b82f90ff4b"
      },
      "outputs": [
        {
          "name": "stdout",
          "output_type": "stream",
          "text": [
            "Model Training ...\n",
            "Epoch 1/1000\n",
            "1031/1031 [==============================] - 3s 2ms/step - loss: 55.1719 - fe_cat_loss: 24.7398 - fd_cat_loss: 17.5044 - fa_cat_loss: 12.9277 - fe_cat_accuracy: 0.2589 - fd_cat_accuracy: 0.3000 - fa_cat_accuracy: 0.1964 - val_loss: 3.9304 - val_fe_cat_loss: 1.2830 - val_fd_cat_loss: 1.1879 - val_fa_cat_loss: 1.4595 - val_fe_cat_accuracy: 0.3504 - val_fd_cat_accuracy: 0.4438 - val_fa_cat_accuracy: 0.3720\n",
            "\n",
            "Epoch 00001: val_loss improved from inf to 3.93042, saving model to /gdrive/My Drive/ML_Dataset/Qingchengbei/train-QCB-mix-cat-vn-ok2/mix-cat-epoch1000.h5\n",
            "Epoch 2/1000\n",
            "1031/1031 [==============================] - 2s 1ms/step - loss: 3.8004 - fe_cat_loss: 1.2258 - fd_cat_loss: 1.1617 - fa_cat_loss: 1.4129 - fe_cat_accuracy: 0.4173 - fd_cat_accuracy: 0.4563 - fa_cat_accuracy: 0.4344 - val_loss: 3.4904 - val_fe_cat_loss: 1.0973 - val_fd_cat_loss: 1.0903 - val_fa_cat_loss: 1.3029 - val_fe_cat_accuracy: 0.5680 - val_fd_cat_accuracy: 0.4973 - val_fa_cat_accuracy: 0.4989\n",
            "\n",
            "Epoch 00002: val_loss improved from 3.93042 to 3.49041, saving model to /gdrive/My Drive/ML_Dataset/Qingchengbei/train-QCB-mix-cat-vn-ok2/mix-cat-epoch1000.h5\n",
            "Epoch 3/1000\n",
            "1031/1031 [==============================] - 1s 1ms/step - loss: 3.4503 - fe_cat_loss: 1.0791 - fd_cat_loss: 1.0845 - fa_cat_loss: 1.2867 - fe_cat_accuracy: 0.5608 - fd_cat_accuracy: 0.4898 - fa_cat_accuracy: 0.5530 - val_loss: 3.3204 - val_fe_cat_loss: 1.0234 - val_fd_cat_loss: 1.0487 - val_fa_cat_loss: 1.2483 - val_fe_cat_accuracy: 0.5942 - val_fd_cat_accuracy: 0.5259 - val_fa_cat_accuracy: 0.5879\n",
            "\n",
            "Epoch 00003: val_loss improved from 3.49041 to 3.32043, saving model to /gdrive/My Drive/ML_Dataset/Qingchengbei/train-QCB-mix-cat-vn-ok2/mix-cat-epoch1000.h5\n",
            "Epoch 4/1000\n",
            "1031/1031 [==============================] - 1s 1ms/step - loss: 3.2599 - fe_cat_loss: 1.0058 - fd_cat_loss: 1.0404 - fa_cat_loss: 1.2136 - fe_cat_accuracy: 0.6156 - fd_cat_accuracy: 0.5238 - fa_cat_accuracy: 0.6118 - val_loss: 3.1873 - val_fe_cat_loss: 0.9763 - val_fd_cat_loss: 1.0230 - val_fa_cat_loss: 1.1881 - val_fe_cat_accuracy: 0.5827 - val_fd_cat_accuracy: 0.4823 - val_fa_cat_accuracy: 0.6013\n",
            "\n",
            "Epoch 00004: val_loss improved from 3.32043 to 3.18731, saving model to /gdrive/My Drive/ML_Dataset/Qingchengbei/train-QCB-mix-cat-vn-ok2/mix-cat-epoch1000.h5\n",
            "Epoch 5/1000\n",
            "1031/1031 [==============================] - 2s 1ms/step - loss: 3.1685 - fe_cat_loss: 0.9650 - fd_cat_loss: 1.0169 - fa_cat_loss: 1.1866 - fe_cat_accuracy: 0.6344 - fd_cat_accuracy: 0.5422 - fa_cat_accuracy: 0.6188 - val_loss: 3.0768 - val_fe_cat_loss: 0.9387 - val_fd_cat_loss: 0.9966 - val_fa_cat_loss: 1.1415 - val_fe_cat_accuracy: 0.6037 - val_fd_cat_accuracy: 0.5521 - val_fa_cat_accuracy: 0.6048\n",
            "\n",
            "Epoch 00005: val_loss improved from 3.18731 to 3.07677, saving model to /gdrive/My Drive/ML_Dataset/Qingchengbei/train-QCB-mix-cat-vn-ok2/mix-cat-epoch1000.h5\n",
            "Epoch 6/1000\n",
            "1031/1031 [==============================] - 2s 1ms/step - loss: 3.0575 - fe_cat_loss: 0.9209 - fd_cat_loss: 0.9837 - fa_cat_loss: 1.1528 - fe_cat_accuracy: 0.6681 - fd_cat_accuracy: 0.5730 - fa_cat_accuracy: 0.6400 - val_loss: 2.9861 - val_fe_cat_loss: 0.8976 - val_fd_cat_loss: 0.9678 - val_fa_cat_loss: 1.1207 - val_fe_cat_accuracy: 0.6386 - val_fd_cat_accuracy: 0.5431 - val_fa_cat_accuracy: 0.6908\n",
            "\n",
            "Epoch 00006: val_loss improved from 3.07677 to 2.98610, saving model to /gdrive/My Drive/ML_Dataset/Qingchengbei/train-QCB-mix-cat-vn-ok2/mix-cat-epoch1000.h5\n",
            "Epoch 7/1000\n",
            "1031/1031 [==============================] - 2s 2ms/step - loss: 2.9784 - fe_cat_loss: 0.8909 - fd_cat_loss: 0.9622 - fa_cat_loss: 1.1253 - fe_cat_accuracy: 0.6736 - fd_cat_accuracy: 0.5892 - fa_cat_accuracy: 0.6463 - val_loss: 2.9415 - val_fe_cat_loss: 0.8771 - val_fd_cat_loss: 0.9520 - val_fa_cat_loss: 1.1124 - val_fe_cat_accuracy: 0.6384 - val_fd_cat_accuracy: 0.5849 - val_fa_cat_accuracy: 0.6744\n",
            "\n",
            "Epoch 00007: val_loss improved from 2.98610 to 2.94153, saving model to /gdrive/My Drive/ML_Dataset/Qingchengbei/train-QCB-mix-cat-vn-ok2/mix-cat-epoch1000.h5\n",
            "Epoch 8/1000\n",
            "1031/1031 [==============================] - 2s 1ms/step - loss: 2.9167 - fe_cat_loss: 0.8622 - fd_cat_loss: 0.9414 - fa_cat_loss: 1.1131 - fe_cat_accuracy: 0.6948 - fd_cat_accuracy: 0.5987 - fa_cat_accuracy: 0.6528 - val_loss: 2.8843 - val_fe_cat_loss: 0.8583 - val_fd_cat_loss: 0.9380 - val_fa_cat_loss: 1.0879 - val_fe_cat_accuracy: 0.7216 - val_fd_cat_accuracy: 0.6318 - val_fa_cat_accuracy: 0.6288\n",
            "\n",
            "Epoch 00008: val_loss improved from 2.94153 to 2.88425, saving model to /gdrive/My Drive/ML_Dataset/Qingchengbei/train-QCB-mix-cat-vn-ok2/mix-cat-epoch1000.h5\n",
            "Epoch 9/1000\n",
            "1031/1031 [==============================] - 2s 2ms/step - loss: 2.8329 - fe_cat_loss: 0.8295 - fd_cat_loss: 0.9219 - fa_cat_loss: 1.0816 - fe_cat_accuracy: 0.7141 - fd_cat_accuracy: 0.6167 - fa_cat_accuracy: 0.6661 - val_loss: 2.7709 - val_fe_cat_loss: 0.8138 - val_fd_cat_loss: 0.9040 - val_fa_cat_loss: 1.0531 - val_fe_cat_accuracy: 0.7486 - val_fd_cat_accuracy: 0.6149 - val_fa_cat_accuracy: 0.6725\n",
            "\n",
            "Epoch 00009: val_loss improved from 2.88425 to 2.77088, saving model to /gdrive/My Drive/ML_Dataset/Qingchengbei/train-QCB-mix-cat-vn-ok2/mix-cat-epoch1000.h5\n",
            "Epoch 10/1000\n",
            "1031/1031 [==============================] - 2s 1ms/step - loss: 2.7836 - fe_cat_loss: 0.8095 - fd_cat_loss: 0.9076 - fa_cat_loss: 1.0665 - fe_cat_accuracy: 0.7314 - fd_cat_accuracy: 0.6305 - fa_cat_accuracy: 0.6785 - val_loss: 2.7188 - val_fe_cat_loss: 0.7922 - val_fd_cat_loss: 0.8837 - val_fa_cat_loss: 1.0430 - val_fe_cat_accuracy: 0.7893 - val_fd_cat_accuracy: 0.6771 - val_fa_cat_accuracy: 0.6840\n",
            "\n",
            "Epoch 00010: val_loss improved from 2.77088 to 2.71884, saving model to /gdrive/My Drive/ML_Dataset/Qingchengbei/train-QCB-mix-cat-vn-ok2/mix-cat-epoch1000.h5\n",
            "Epoch 11/1000\n",
            "1031/1031 [==============================] - 2s 2ms/step - loss: 2.7301 - fe_cat_loss: 0.7887 - fd_cat_loss: 0.8904 - fa_cat_loss: 1.0510 - fe_cat_accuracy: 0.7416 - fd_cat_accuracy: 0.6462 - fa_cat_accuracy: 0.6870 - val_loss: 2.6742 - val_fe_cat_loss: 0.7751 - val_fd_cat_loss: 0.8757 - val_fa_cat_loss: 1.0233 - val_fe_cat_accuracy: 0.6905 - val_fd_cat_accuracy: 0.6646 - val_fa_cat_accuracy: 0.7148\n",
            "\n",
            "Epoch 00011: val_loss improved from 2.71884 to 2.67416, saving model to /gdrive/My Drive/ML_Dataset/Qingchengbei/train-QCB-mix-cat-vn-ok2/mix-cat-epoch1000.h5\n",
            "Epoch 12/1000\n",
            "1031/1031 [==============================] - 2s 2ms/step - loss: 2.6874 - fe_cat_loss: 0.7671 - fd_cat_loss: 0.8771 - fa_cat_loss: 1.0431 - fe_cat_accuracy: 0.7449 - fd_cat_accuracy: 0.6470 - fa_cat_accuracy: 0.6854 - val_loss: 2.6276 - val_fe_cat_loss: 0.7537 - val_fd_cat_loss: 0.8561 - val_fa_cat_loss: 1.0178 - val_fe_cat_accuracy: 0.7639 - val_fd_cat_accuracy: 0.7028 - val_fa_cat_accuracy: 0.6788\n",
            "\n",
            "Epoch 00012: val_loss improved from 2.67416 to 2.62761, saving model to /gdrive/My Drive/ML_Dataset/Qingchengbei/train-QCB-mix-cat-vn-ok2/mix-cat-epoch1000.h5\n",
            "Epoch 13/1000\n",
            "1031/1031 [==============================] - 2s 1ms/step - loss: 2.6342 - fe_cat_loss: 0.7478 - fd_cat_loss: 0.8617 - fa_cat_loss: 1.0247 - fe_cat_accuracy: 0.7599 - fd_cat_accuracy: 0.6597 - fa_cat_accuracy: 0.6898 - val_loss: 2.6191 - val_fe_cat_loss: 0.7556 - val_fd_cat_loss: 0.8505 - val_fa_cat_loss: 1.0131 - val_fe_cat_accuracy: 0.6878 - val_fd_cat_accuracy: 0.6717 - val_fa_cat_accuracy: 0.6831\n",
            "\n",
            "Epoch 00013: val_loss improved from 2.62761 to 2.61909, saving model to /gdrive/My Drive/ML_Dataset/Qingchengbei/train-QCB-mix-cat-vn-ok2/mix-cat-epoch1000.h5\n",
            "Epoch 14/1000\n",
            "1031/1031 [==============================] - 2s 1ms/step - loss: 2.5817 - fe_cat_loss: 0.7288 - fd_cat_loss: 0.8465 - fa_cat_loss: 1.0063 - fe_cat_accuracy: 0.7690 - fd_cat_accuracy: 0.6692 - fa_cat_accuracy: 0.6949 - val_loss: 2.5396 - val_fe_cat_loss: 0.7166 - val_fd_cat_loss: 0.8306 - val_fa_cat_loss: 0.9924 - val_fe_cat_accuracy: 0.8261 - val_fd_cat_accuracy: 0.7129 - val_fa_cat_accuracy: 0.7309\n",
            "\n",
            "Epoch 00014: val_loss improved from 2.61909 to 2.53959, saving model to /gdrive/My Drive/ML_Dataset/Qingchengbei/train-QCB-mix-cat-vn-ok2/mix-cat-epoch1000.h5\n",
            "Epoch 15/1000\n",
            "1031/1031 [==============================] - 2s 1ms/step - loss: 2.5530 - fe_cat_loss: 0.7131 - fd_cat_loss: 0.8359 - fa_cat_loss: 1.0040 - fe_cat_accuracy: 0.7758 - fd_cat_accuracy: 0.6757 - fa_cat_accuracy: 0.7001 - val_loss: 2.4943 - val_fe_cat_loss: 0.6979 - val_fd_cat_loss: 0.8167 - val_fa_cat_loss: 0.9797 - val_fe_cat_accuracy: 0.8128 - val_fd_cat_accuracy: 0.6954 - val_fa_cat_accuracy: 0.7309\n",
            "\n",
            "Epoch 00015: val_loss improved from 2.53959 to 2.49426, saving model to /gdrive/My Drive/ML_Dataset/Qingchengbei/train-QCB-mix-cat-vn-ok2/mix-cat-epoch1000.h5\n",
            "Epoch 16/1000\n",
            "1031/1031 [==============================] - 2s 2ms/step - loss: 2.5086 - fe_cat_loss: 0.6951 - fd_cat_loss: 0.8219 - fa_cat_loss: 0.9916 - fe_cat_accuracy: 0.7804 - fd_cat_accuracy: 0.6792 - fa_cat_accuracy: 0.7000 - val_loss: 2.4996 - val_fe_cat_loss: 0.6887 - val_fd_cat_loss: 0.8294 - val_fa_cat_loss: 0.9815 - val_fe_cat_accuracy: 0.7898 - val_fd_cat_accuracy: 0.6618 - val_fa_cat_accuracy: 0.6370\n",
            "\n",
            "Epoch 00016: val_loss did not improve from 2.49426\n",
            "Epoch 17/1000\n",
            "1031/1031 [==============================] - 2s 1ms/step - loss: 2.4945 - fe_cat_loss: 0.6840 - fd_cat_loss: 0.8197 - fa_cat_loss: 0.9909 - fe_cat_accuracy: 0.7927 - fd_cat_accuracy: 0.6768 - fa_cat_accuracy: 0.6987 - val_loss: 2.4535 - val_fe_cat_loss: 0.6810 - val_fd_cat_loss: 0.8014 - val_fa_cat_loss: 0.9711 - val_fe_cat_accuracy: 0.7844 - val_fd_cat_accuracy: 0.6698 - val_fa_cat_accuracy: 0.6728\n",
            "\n",
            "Epoch 00017: val_loss improved from 2.49426 to 2.45349, saving model to /gdrive/My Drive/ML_Dataset/Qingchengbei/train-QCB-mix-cat-vn-ok2/mix-cat-epoch1000.h5\n",
            "Epoch 18/1000\n",
            "1031/1031 [==============================] - 2s 2ms/step - loss: 2.4349 - fe_cat_loss: 0.6645 - fd_cat_loss: 0.8001 - fa_cat_loss: 0.9703 - fe_cat_accuracy: 0.8027 - fd_cat_accuracy: 0.6885 - fa_cat_accuracy: 0.7095 - val_loss: 2.4073 - val_fe_cat_loss: 0.6585 - val_fd_cat_loss: 0.7905 - val_fa_cat_loss: 0.9583 - val_fe_cat_accuracy: 0.8100 - val_fd_cat_accuracy: 0.6880 - val_fa_cat_accuracy: 0.7284\n",
            "\n",
            "Epoch 00018: val_loss improved from 2.45349 to 2.40729, saving model to /gdrive/My Drive/ML_Dataset/Qingchengbei/train-QCB-mix-cat-vn-ok2/mix-cat-epoch1000.h5\n",
            "Epoch 19/1000\n",
            "1031/1031 [==============================] - 2s 1ms/step - loss: 2.4282 - fe_cat_loss: 0.6597 - fd_cat_loss: 0.8013 - fa_cat_loss: 0.9673 - fe_cat_accuracy: 0.8092 - fd_cat_accuracy: 0.6760 - fa_cat_accuracy: 0.7104 - val_loss: 2.3828 - val_fe_cat_loss: 0.6506 - val_fd_cat_loss: 0.7852 - val_fa_cat_loss: 0.9470 - val_fe_cat_accuracy: 0.7615 - val_fd_cat_accuracy: 0.6572 - val_fa_cat_accuracy: 0.7533\n",
            "\n",
            "Epoch 00019: val_loss improved from 2.40729 to 2.38283, saving model to /gdrive/My Drive/ML_Dataset/Qingchengbei/train-QCB-mix-cat-vn-ok2/mix-cat-epoch1000.h5\n",
            "Epoch 20/1000\n",
            "1031/1031 [==============================] - 2s 2ms/step - loss: 2.4189 - fe_cat_loss: 0.6501 - fd_cat_loss: 0.7889 - fa_cat_loss: 0.9799 - fe_cat_accuracy: 0.8072 - fd_cat_accuracy: 0.6898 - fa_cat_accuracy: 0.7049 - val_loss: 2.3468 - val_fe_cat_loss: 0.6340 - val_fd_cat_loss: 0.7740 - val_fa_cat_loss: 0.9389 - val_fe_cat_accuracy: 0.8466 - val_fd_cat_accuracy: 0.6714 - val_fa_cat_accuracy: 0.7148\n",
            "\n",
            "Epoch 00020: val_loss improved from 2.38283 to 2.34684, saving model to /gdrive/My Drive/ML_Dataset/Qingchengbei/train-QCB-mix-cat-vn-ok2/mix-cat-epoch1000.h5\n",
            "Epoch 21/1000\n",
            "1031/1031 [==============================] - 2s 2ms/step - loss: 2.3547 - fe_cat_loss: 0.6324 - fd_cat_loss: 0.7742 - fa_cat_loss: 0.9481 - fe_cat_accuracy: 0.8179 - fd_cat_accuracy: 0.6977 - fa_cat_accuracy: 0.7201 - val_loss: 2.3191 - val_fe_cat_loss: 0.6230 - val_fd_cat_loss: 0.7646 - val_fa_cat_loss: 0.9314 - val_fe_cat_accuracy: 0.8507 - val_fd_cat_accuracy: 0.6875 - val_fa_cat_accuracy: 0.7516\n",
            "\n",
            "Epoch 00021: val_loss improved from 2.34684 to 2.31908, saving model to /gdrive/My Drive/ML_Dataset/Qingchengbei/train-QCB-mix-cat-vn-ok2/mix-cat-epoch1000.h5\n",
            "Epoch 22/1000\n",
            "1031/1031 [==============================] - 2s 1ms/step - loss: 2.3408 - fe_cat_loss: 0.6233 - fd_cat_loss: 0.7693 - fa_cat_loss: 0.9481 - fe_cat_accuracy: 0.8318 - fd_cat_accuracy: 0.7005 - fa_cat_accuracy: 0.7207 - val_loss: 2.2986 - val_fe_cat_loss: 0.6128 - val_fd_cat_loss: 0.7570 - val_fa_cat_loss: 0.9288 - val_fe_cat_accuracy: 0.8090 - val_fd_cat_accuracy: 0.6823 - val_fa_cat_accuracy: 0.7009\n",
            "\n",
            "Epoch 00022: val_loss improved from 2.31908 to 2.29858, saving model to /gdrive/My Drive/ML_Dataset/Qingchengbei/train-QCB-mix-cat-vn-ok2/mix-cat-epoch1000.h5\n",
            "Epoch 23/1000\n",
            "1031/1031 [==============================] - 2s 2ms/step - loss: 2.3122 - fe_cat_loss: 0.6108 - fd_cat_loss: 0.7624 - fa_cat_loss: 0.9390 - fe_cat_accuracy: 0.8325 - fd_cat_accuracy: 0.6980 - fa_cat_accuracy: 0.7221 - val_loss: 2.2961 - val_fe_cat_loss: 0.6037 - val_fd_cat_loss: 0.7681 - val_fa_cat_loss: 0.9243 - val_fe_cat_accuracy: 0.8305 - val_fd_cat_accuracy: 0.6146 - val_fa_cat_accuracy: 0.7399\n",
            "\n",
            "Epoch 00023: val_loss improved from 2.29858 to 2.29614, saving model to /gdrive/My Drive/ML_Dataset/Qingchengbei/train-QCB-mix-cat-vn-ok2/mix-cat-epoch1000.h5\n",
            "Epoch 24/1000\n",
            "1031/1031 [==============================] - 2s 2ms/step - loss: 2.2921 - fe_cat_loss: 0.6027 - fd_cat_loss: 0.7558 - fa_cat_loss: 0.9336 - fe_cat_accuracy: 0.8438 - fd_cat_accuracy: 0.6958 - fa_cat_accuracy: 0.7228 - val_loss: 2.2464 - val_fe_cat_loss: 0.5902 - val_fd_cat_loss: 0.7404 - val_fa_cat_loss: 0.9158 - val_fe_cat_accuracy: 0.8657 - val_fd_cat_accuracy: 0.7088 - val_fa_cat_accuracy: 0.7088\n",
            "\n",
            "Epoch 00024: val_loss improved from 2.29614 to 2.24637, saving model to /gdrive/My Drive/ML_Dataset/Qingchengbei/train-QCB-mix-cat-vn-ok2/mix-cat-epoch1000.h5\n",
            "Epoch 25/1000\n",
            "1031/1031 [==============================] - 2s 2ms/step - loss: 2.2621 - fe_cat_loss: 0.5889 - fd_cat_loss: 0.7420 - fa_cat_loss: 0.9312 - fe_cat_accuracy: 0.8394 - fd_cat_accuracy: 0.7072 - fa_cat_accuracy: 0.7255 - val_loss: 2.2210 - val_fe_cat_loss: 0.5812 - val_fd_cat_loss: 0.7340 - val_fa_cat_loss: 0.9059 - val_fe_cat_accuracy: 0.8638 - val_fd_cat_accuracy: 0.6987 - val_fa_cat_accuracy: 0.7519\n",
            "\n",
            "Epoch 00025: val_loss improved from 2.24637 to 2.22104, saving model to /gdrive/My Drive/ML_Dataset/Qingchengbei/train-QCB-mix-cat-vn-ok2/mix-cat-epoch1000.h5\n",
            "Epoch 26/1000\n",
            "1031/1031 [==============================] - 2s 2ms/step - loss: 2.2316 - fe_cat_loss: 0.5806 - fd_cat_loss: 0.7401 - fa_cat_loss: 0.9109 - fe_cat_accuracy: 0.8468 - fd_cat_accuracy: 0.7068 - fa_cat_accuracy: 0.7322 - val_loss: 2.2099 - val_fe_cat_loss: 0.5801 - val_fd_cat_loss: 0.7285 - val_fa_cat_loss: 0.9014 - val_fe_cat_accuracy: 0.8540 - val_fd_cat_accuracy: 0.7284 - val_fa_cat_accuracy: 0.7317\n",
            "\n",
            "Epoch 00026: val_loss improved from 2.22104 to 2.20992, saving model to /gdrive/My Drive/ML_Dataset/Qingchengbei/train-QCB-mix-cat-vn-ok2/mix-cat-epoch1000.h5\n",
            "Epoch 27/1000\n",
            "1031/1031 [==============================] - 2s 2ms/step - loss: 2.2238 - fe_cat_loss: 0.5751 - fd_cat_loss: 0.7316 - fa_cat_loss: 0.9171 - fe_cat_accuracy: 0.8486 - fd_cat_accuracy: 0.7113 - fa_cat_accuracy: 0.7286 - val_loss: 2.1881 - val_fe_cat_loss: 0.5665 - val_fd_cat_loss: 0.7189 - val_fa_cat_loss: 0.9027 - val_fe_cat_accuracy: 0.8614 - val_fd_cat_accuracy: 0.6973 - val_fa_cat_accuracy: 0.7413\n",
            "\n",
            "Epoch 00027: val_loss improved from 2.20992 to 2.18811, saving model to /gdrive/My Drive/ML_Dataset/Qingchengbei/train-QCB-mix-cat-vn-ok2/mix-cat-epoch1000.h5\n",
            "Epoch 28/1000\n",
            "1031/1031 [==============================] - 2s 1ms/step - loss: 2.2035 - fe_cat_loss: 0.5628 - fd_cat_loss: 0.7262 - fa_cat_loss: 0.9145 - fe_cat_accuracy: 0.8526 - fd_cat_accuracy: 0.7106 - fa_cat_accuracy: 0.7241 - val_loss: 2.1834 - val_fe_cat_loss: 0.5599 - val_fd_cat_loss: 0.7281 - val_fa_cat_loss: 0.8954 - val_fe_cat_accuracy: 0.8526 - val_fd_cat_accuracy: 0.6744 - val_fa_cat_accuracy: 0.7459\n",
            "\n",
            "Epoch 00028: val_loss improved from 2.18811 to 2.18341, saving model to /gdrive/My Drive/ML_Dataset/Qingchengbei/train-QCB-mix-cat-vn-ok2/mix-cat-epoch1000.h5\n",
            "Epoch 29/1000\n",
            "1031/1031 [==============================] - 2s 1ms/step - loss: 2.1720 - fe_cat_loss: 0.5547 - fd_cat_loss: 0.7166 - fa_cat_loss: 0.9007 - fe_cat_accuracy: 0.8569 - fd_cat_accuracy: 0.7167 - fa_cat_accuracy: 0.7377 - val_loss: 2.1560 - val_fe_cat_loss: 0.5508 - val_fd_cat_loss: 0.7071 - val_fa_cat_loss: 0.8981 - val_fe_cat_accuracy: 0.8796 - val_fd_cat_accuracy: 0.7254 - val_fa_cat_accuracy: 0.7134\n",
            "\n",
            "Epoch 00029: val_loss improved from 2.18341 to 2.15599, saving model to /gdrive/My Drive/ML_Dataset/Qingchengbei/train-QCB-mix-cat-vn-ok2/mix-cat-epoch1000.h5\n",
            "Epoch 30/1000\n",
            "1031/1031 [==============================] - 2s 2ms/step - loss: 2.1641 - fe_cat_loss: 0.5491 - fd_cat_loss: 0.7164 - fa_cat_loss: 0.8985 - fe_cat_accuracy: 0.8707 - fd_cat_accuracy: 0.7192 - fa_cat_accuracy: 0.7404 - val_loss: 2.1349 - val_fe_cat_loss: 0.5462 - val_fd_cat_loss: 0.7070 - val_fa_cat_loss: 0.8816 - val_fe_cat_accuracy: 0.8597 - val_fd_cat_accuracy: 0.7003 - val_fa_cat_accuracy: 0.7328\n",
            "\n",
            "Epoch 00030: val_loss improved from 2.15599 to 2.13488, saving model to /gdrive/My Drive/ML_Dataset/Qingchengbei/train-QCB-mix-cat-vn-ok2/mix-cat-epoch1000.h5\n",
            "Epoch 31/1000\n",
            "1031/1031 [==============================] - 2s 2ms/step - loss: 2.1411 - fe_cat_loss: 0.5457 - fd_cat_loss: 0.7109 - fa_cat_loss: 0.8846 - fe_cat_accuracy: 0.8681 - fd_cat_accuracy: 0.7147 - fa_cat_accuracy: 0.7423 - val_loss: 2.1154 - val_fe_cat_loss: 0.5396 - val_fd_cat_loss: 0.6972 - val_fa_cat_loss: 0.8786 - val_fe_cat_accuracy: 0.8652 - val_fd_cat_accuracy: 0.7153 - val_fa_cat_accuracy: 0.7541\n",
            "\n",
            "Epoch 00031: val_loss improved from 2.13488 to 2.11541, saving model to /gdrive/My Drive/ML_Dataset/Qingchengbei/train-QCB-mix-cat-vn-ok2/mix-cat-epoch1000.h5\n",
            "Epoch 32/1000\n",
            "1031/1031 [==============================] - 2s 2ms/step - loss: 2.1360 - fe_cat_loss: 0.5394 - fd_cat_loss: 0.7053 - fa_cat_loss: 0.8912 - fe_cat_accuracy: 0.8675 - fd_cat_accuracy: 0.7173 - fa_cat_accuracy: 0.7412 - val_loss: 2.0946 - val_fe_cat_loss: 0.5312 - val_fd_cat_loss: 0.6911 - val_fa_cat_loss: 0.8723 - val_fe_cat_accuracy: 0.8725 - val_fd_cat_accuracy: 0.7175 - val_fa_cat_accuracy: 0.7530\n",
            "\n",
            "Epoch 00032: val_loss improved from 2.11541 to 2.09459, saving model to /gdrive/My Drive/ML_Dataset/Qingchengbei/train-QCB-mix-cat-vn-ok2/mix-cat-epoch1000.h5\n",
            "Epoch 33/1000\n",
            "1031/1031 [==============================] - 2s 2ms/step - loss: 2.1160 - fe_cat_loss: 0.5302 - fd_cat_loss: 0.7004 - fa_cat_loss: 0.8854 - fe_cat_accuracy: 0.8690 - fd_cat_accuracy: 0.7231 - fa_cat_accuracy: 0.7416 - val_loss: 2.0986 - val_fe_cat_loss: 0.5300 - val_fd_cat_loss: 0.6827 - val_fa_cat_loss: 0.8858 - val_fe_cat_accuracy: 0.8199 - val_fd_cat_accuracy: 0.7492 - val_fa_cat_accuracy: 0.7522\n",
            "\n",
            "Epoch 00033: val_loss did not improve from 2.09459\n",
            "Epoch 34/1000\n",
            "1031/1031 [==============================] - 2s 2ms/step - loss: 2.1109 - fe_cat_loss: 0.5266 - fd_cat_loss: 0.6951 - fa_cat_loss: 0.8892 - fe_cat_accuracy: 0.8715 - fd_cat_accuracy: 0.7246 - fa_cat_accuracy: 0.7377 - val_loss: 2.0854 - val_fe_cat_loss: 0.5329 - val_fd_cat_loss: 0.6918 - val_fa_cat_loss: 0.8607 - val_fe_cat_accuracy: 0.8038 - val_fd_cat_accuracy: 0.6809 - val_fa_cat_accuracy: 0.7710\n",
            "\n",
            "Epoch 00034: val_loss improved from 2.09459 to 2.08538, saving model to /gdrive/My Drive/ML_Dataset/Qingchengbei/train-QCB-mix-cat-vn-ok2/mix-cat-epoch1000.h5\n",
            "Epoch 35/1000\n",
            "1031/1031 [==============================] - 2s 2ms/step - loss: 2.0808 - fe_cat_loss: 0.5166 - fd_cat_loss: 0.6901 - fa_cat_loss: 0.8740 - fe_cat_accuracy: 0.8650 - fd_cat_accuracy: 0.7264 - fa_cat_accuracy: 0.7483 - val_loss: 2.0578 - val_fe_cat_loss: 0.5101 - val_fd_cat_loss: 0.6751 - val_fa_cat_loss: 0.8727 - val_fe_cat_accuracy: 0.8927 - val_fd_cat_accuracy: 0.7358 - val_fa_cat_accuracy: 0.7309\n",
            "\n",
            "Epoch 00035: val_loss improved from 2.08538 to 2.05784, saving model to /gdrive/My Drive/ML_Dataset/Qingchengbei/train-QCB-mix-cat-vn-ok2/mix-cat-epoch1000.h5\n",
            "Epoch 36/1000\n",
            "1031/1031 [==============================] - 2s 2ms/step - loss: 2.0674 - fe_cat_loss: 0.5126 - fd_cat_loss: 0.6877 - fa_cat_loss: 0.8672 - fe_cat_accuracy: 0.8778 - fd_cat_accuracy: 0.7241 - fa_cat_accuracy: 0.7460 - val_loss: 2.0386 - val_fe_cat_loss: 0.5053 - val_fd_cat_loss: 0.6698 - val_fa_cat_loss: 0.8635 - val_fe_cat_accuracy: 0.8919 - val_fd_cat_accuracy: 0.7235 - val_fa_cat_accuracy: 0.7320\n",
            "\n",
            "Epoch 00036: val_loss improved from 2.05784 to 2.03859, saving model to /gdrive/My Drive/ML_Dataset/Qingchengbei/train-QCB-mix-cat-vn-ok2/mix-cat-epoch1000.h5\n",
            "Epoch 37/1000\n",
            "1031/1031 [==============================] - 2s 2ms/step - loss: 2.0495 - fe_cat_loss: 0.5085 - fd_cat_loss: 0.6842 - fa_cat_loss: 0.8569 - fe_cat_accuracy: 0.8739 - fd_cat_accuracy: 0.7299 - fa_cat_accuracy: 0.7535 - val_loss: 2.0168 - val_fe_cat_loss: 0.4996 - val_fd_cat_loss: 0.6647 - val_fa_cat_loss: 0.8526 - val_fe_cat_accuracy: 0.8780 - val_fd_cat_accuracy: 0.7585 - val_fa_cat_accuracy: 0.7691\n",
            "\n",
            "Epoch 00037: val_loss improved from 2.03859 to 2.01683, saving model to /gdrive/My Drive/ML_Dataset/Qingchengbei/train-QCB-mix-cat-vn-ok2/mix-cat-epoch1000.h5\n",
            "Epoch 38/1000\n",
            "1031/1031 [==============================] - 2s 2ms/step - loss: 2.0396 - fe_cat_loss: 0.4993 - fd_cat_loss: 0.6735 - fa_cat_loss: 0.8668 - fe_cat_accuracy: 0.8863 - fd_cat_accuracy: 0.7365 - fa_cat_accuracy: 0.7469 - val_loss: 2.0391 - val_fe_cat_loss: 0.4941 - val_fd_cat_loss: 0.6773 - val_fa_cat_loss: 0.8677 - val_fe_cat_accuracy: 0.8925 - val_fd_cat_accuracy: 0.6981 - val_fa_cat_accuracy: 0.7424\n",
            "\n",
            "Epoch 00038: val_loss did not improve from 2.01683\n",
            "Epoch 39/1000\n",
            "1031/1031 [==============================] - 2s 2ms/step - loss: 2.0250 - fe_cat_loss: 0.4936 - fd_cat_loss: 0.6747 - fa_cat_loss: 0.8568 - fe_cat_accuracy: 0.8842 - fd_cat_accuracy: 0.7255 - fa_cat_accuracy: 0.7536 - val_loss: 1.9963 - val_fe_cat_loss: 0.4889 - val_fd_cat_loss: 0.6619 - val_fa_cat_loss: 0.8455 - val_fe_cat_accuracy: 0.8881 - val_fd_cat_accuracy: 0.7399 - val_fa_cat_accuracy: 0.7718\n",
            "\n",
            "Epoch 00039: val_loss improved from 2.01683 to 1.99630, saving model to /gdrive/My Drive/ML_Dataset/Qingchengbei/train-QCB-mix-cat-vn-ok2/mix-cat-epoch1000.h5\n",
            "Epoch 40/1000\n",
            "1031/1031 [==============================] - 2s 2ms/step - loss: 2.0177 - fe_cat_loss: 0.4899 - fd_cat_loss: 0.6652 - fa_cat_loss: 0.8627 - fe_cat_accuracy: 0.8916 - fd_cat_accuracy: 0.7398 - fa_cat_accuracy: 0.7497 - val_loss: 1.9928 - val_fe_cat_loss: 0.4885 - val_fd_cat_loss: 0.6639 - val_fa_cat_loss: 0.8404 - val_fe_cat_accuracy: 0.8515 - val_fd_cat_accuracy: 0.6930 - val_fa_cat_accuracy: 0.7385\n",
            "\n",
            "Epoch 00040: val_loss improved from 1.99630 to 1.99275, saving model to /gdrive/My Drive/ML_Dataset/Qingchengbei/train-QCB-mix-cat-vn-ok2/mix-cat-epoch1000.h5\n",
            "Epoch 41/1000\n",
            "1031/1031 [==============================] - 2s 2ms/step - loss: 2.0065 - fe_cat_loss: 0.4826 - fd_cat_loss: 0.6643 - fa_cat_loss: 0.8596 - fe_cat_accuracy: 0.8875 - fd_cat_accuracy: 0.7365 - fa_cat_accuracy: 0.7490 - val_loss: 1.9755 - val_fe_cat_loss: 0.4787 - val_fd_cat_loss: 0.6584 - val_fa_cat_loss: 0.8384 - val_fe_cat_accuracy: 0.9187 - val_fd_cat_accuracy: 0.7205 - val_fa_cat_accuracy: 0.7737\n",
            "\n",
            "Epoch 00041: val_loss improved from 1.99275 to 1.97549, saving model to /gdrive/My Drive/ML_Dataset/Qingchengbei/train-QCB-mix-cat-vn-ok2/mix-cat-epoch1000.h5\n",
            "Epoch 42/1000\n",
            "1031/1031 [==============================] - 2s 2ms/step - loss: 2.0063 - fe_cat_loss: 0.4792 - fd_cat_loss: 0.6684 - fa_cat_loss: 0.8587 - fe_cat_accuracy: 0.8920 - fd_cat_accuracy: 0.7293 - fa_cat_accuracy: 0.7486 - val_loss: 1.9613 - val_fe_cat_loss: 0.4727 - val_fd_cat_loss: 0.6502 - val_fa_cat_loss: 0.8384 - val_fe_cat_accuracy: 0.9140 - val_fd_cat_accuracy: 0.7276 - val_fa_cat_accuracy: 0.7243\n",
            "\n",
            "Epoch 00042: val_loss improved from 1.97549 to 1.96132, saving model to /gdrive/My Drive/ML_Dataset/Qingchengbei/train-QCB-mix-cat-vn-ok2/mix-cat-epoch1000.h5\n",
            "Epoch 43/1000\n",
            "1031/1031 [==============================] - 2s 2ms/step - loss: 1.9835 - fe_cat_loss: 0.4772 - fd_cat_loss: 0.6578 - fa_cat_loss: 0.8484 - fe_cat_accuracy: 0.8922 - fd_cat_accuracy: 0.7386 - fa_cat_accuracy: 0.7523 - val_loss: 1.9462 - val_fe_cat_loss: 0.4665 - val_fd_cat_loss: 0.6442 - val_fa_cat_loss: 0.8355 - val_fe_cat_accuracy: 0.9138 - val_fd_cat_accuracy: 0.7361 - val_fa_cat_accuracy: 0.7257\n",
            "\n",
            "Epoch 00043: val_loss improved from 1.96132 to 1.94623, saving model to /gdrive/My Drive/ML_Dataset/Qingchengbei/train-QCB-mix-cat-vn-ok2/mix-cat-epoch1000.h5\n",
            "Epoch 44/1000\n",
            "1031/1031 [==============================] - 2s 2ms/step - loss: 1.9752 - fe_cat_loss: 0.4716 - fd_cat_loss: 0.6550 - fa_cat_loss: 0.8486 - fe_cat_accuracy: 0.8919 - fd_cat_accuracy: 0.7396 - fa_cat_accuracy: 0.7483 - val_loss: 1.9473 - val_fe_cat_loss: 0.4620 - val_fd_cat_loss: 0.6500 - val_fa_cat_loss: 0.8354 - val_fe_cat_accuracy: 0.9012 - val_fd_cat_accuracy: 0.7044 - val_fa_cat_accuracy: 0.7467\n",
            "\n",
            "Epoch 00044: val_loss did not improve from 1.94623\n",
            "Epoch 45/1000\n",
            "1031/1031 [==============================] - 2s 2ms/step - loss: 1.9523 - fe_cat_loss: 0.4632 - fd_cat_loss: 0.6466 - fa_cat_loss: 0.8424 - fe_cat_accuracy: 0.9014 - fd_cat_accuracy: 0.7403 - fa_cat_accuracy: 0.7512 - val_loss: 1.9293 - val_fe_cat_loss: 0.4593 - val_fd_cat_loss: 0.6432 - val_fa_cat_loss: 0.8268 - val_fe_cat_accuracy: 0.9004 - val_fd_cat_accuracy: 0.7197 - val_fa_cat_accuracy: 0.7309\n",
            "\n",
            "Epoch 00045: val_loss improved from 1.94623 to 1.92927, saving model to /gdrive/My Drive/ML_Dataset/Qingchengbei/train-QCB-mix-cat-vn-ok2/mix-cat-epoch1000.h5\n",
            "Epoch 46/1000\n",
            "1031/1031 [==============================] - 2s 2ms/step - loss: 1.9544 - fe_cat_loss: 0.4635 - fd_cat_loss: 0.6500 - fa_cat_loss: 0.8408 - fe_cat_accuracy: 0.9003 - fd_cat_accuracy: 0.7405 - fa_cat_accuracy: 0.7567 - val_loss: 1.9093 - val_fe_cat_loss: 0.4561 - val_fd_cat_loss: 0.6321 - val_fa_cat_loss: 0.8211 - val_fe_cat_accuracy: 0.8930 - val_fd_cat_accuracy: 0.7576 - val_fa_cat_accuracy: 0.7830\n",
            "\n",
            "Epoch 00046: val_loss improved from 1.92927 to 1.90927, saving model to /gdrive/My Drive/ML_Dataset/Qingchengbei/train-QCB-mix-cat-vn-ok2/mix-cat-epoch1000.h5\n",
            "Epoch 47/1000\n",
            "1031/1031 [==============================] - 2s 2ms/step - loss: 1.9359 - fe_cat_loss: 0.4552 - fd_cat_loss: 0.6438 - fa_cat_loss: 0.8368 - fe_cat_accuracy: 0.8971 - fd_cat_accuracy: 0.7411 - fa_cat_accuracy: 0.7530 - val_loss: 1.9025 - val_fe_cat_loss: 0.4508 - val_fd_cat_loss: 0.6308 - val_fa_cat_loss: 0.8210 - val_fe_cat_accuracy: 0.9009 - val_fd_cat_accuracy: 0.7598 - val_fa_cat_accuracy: 0.7877\n",
            "\n",
            "Epoch 00047: val_loss improved from 1.90927 to 1.90250, saving model to /gdrive/My Drive/ML_Dataset/Qingchengbei/train-QCB-mix-cat-vn-ok2/mix-cat-epoch1000.h5\n",
            "Epoch 48/1000\n",
            "1031/1031 [==============================] - 2s 2ms/step - loss: 1.9193 - fe_cat_loss: 0.4505 - fd_cat_loss: 0.6382 - fa_cat_loss: 0.8306 - fe_cat_accuracy: 0.9017 - fd_cat_accuracy: 0.7409 - fa_cat_accuracy: 0.7534 - val_loss: 1.9091 - val_fe_cat_loss: 0.4538 - val_fd_cat_loss: 0.6323 - val_fa_cat_loss: 0.8230 - val_fe_cat_accuracy: 0.9198 - val_fd_cat_accuracy: 0.7639 - val_fa_cat_accuracy: 0.7814\n",
            "\n",
            "Epoch 00048: val_loss did not improve from 1.90250\n",
            "Epoch 49/1000\n",
            "1031/1031 [==============================] - 2s 2ms/step - loss: 1.9114 - fe_cat_loss: 0.4459 - fd_cat_loss: 0.6395 - fa_cat_loss: 0.8260 - fe_cat_accuracy: 0.9054 - fd_cat_accuracy: 0.7437 - fa_cat_accuracy: 0.7611 - val_loss: 1.9022 - val_fe_cat_loss: 0.4471 - val_fd_cat_loss: 0.6411 - val_fa_cat_loss: 0.8140 - val_fe_cat_accuracy: 0.8824 - val_fd_cat_accuracy: 0.7050 - val_fa_cat_accuracy: 0.7814\n",
            "\n",
            "Epoch 00049: val_loss improved from 1.90250 to 1.90224, saving model to /gdrive/My Drive/ML_Dataset/Qingchengbei/train-QCB-mix-cat-vn-ok2/mix-cat-epoch1000.h5\n",
            "Epoch 50/1000\n",
            "1031/1031 [==============================] - 2s 2ms/step - loss: 1.9062 - fe_cat_loss: 0.4452 - fd_cat_loss: 0.6366 - fa_cat_loss: 0.8244 - fe_cat_accuracy: 0.9052 - fd_cat_accuracy: 0.7441 - fa_cat_accuracy: 0.7592 - val_loss: 1.8744 - val_fe_cat_loss: 0.4384 - val_fd_cat_loss: 0.6219 - val_fa_cat_loss: 0.8142 - val_fe_cat_accuracy: 0.9042 - val_fd_cat_accuracy: 0.7672 - val_fa_cat_accuracy: 0.7563\n",
            "\n",
            "Epoch 00050: val_loss improved from 1.90224 to 1.87444, saving model to /gdrive/My Drive/ML_Dataset/Qingchengbei/train-QCB-mix-cat-vn-ok2/mix-cat-epoch1000.h5\n",
            "Epoch 51/1000\n",
            "1031/1031 [==============================] - 2s 2ms/step - loss: 1.9058 - fe_cat_loss: 0.4406 - fd_cat_loss: 0.6364 - fa_cat_loss: 0.8288 - fe_cat_accuracy: 0.9096 - fd_cat_accuracy: 0.7456 - fa_cat_accuracy: 0.7577 - val_loss: 1.8656 - val_fe_cat_loss: 0.4353 - val_fd_cat_loss: 0.6186 - val_fa_cat_loss: 0.8117 - val_fe_cat_accuracy: 0.9088 - val_fd_cat_accuracy: 0.7557 - val_fa_cat_accuracy: 0.7511\n",
            "\n",
            "Epoch 00051: val_loss improved from 1.87444 to 1.86564, saving model to /gdrive/My Drive/ML_Dataset/Qingchengbei/train-QCB-mix-cat-vn-ok2/mix-cat-epoch1000.h5\n",
            "Epoch 52/1000\n",
            "1031/1031 [==============================] - 2s 2ms/step - loss: 1.8948 - fe_cat_loss: 0.4396 - fd_cat_loss: 0.6309 - fa_cat_loss: 0.8244 - fe_cat_accuracy: 0.9061 - fd_cat_accuracy: 0.7492 - fa_cat_accuracy: 0.7581 - val_loss: 1.8569 - val_fe_cat_loss: 0.4289 - val_fd_cat_loss: 0.6200 - val_fa_cat_loss: 0.8080 - val_fe_cat_accuracy: 0.9203 - val_fd_cat_accuracy: 0.7320 - val_fa_cat_accuracy: 0.7604\n",
            "\n",
            "Epoch 00052: val_loss improved from 1.86564 to 1.85691, saving model to /gdrive/My Drive/ML_Dataset/Qingchengbei/train-QCB-mix-cat-vn-ok2/mix-cat-epoch1000.h5\n",
            "Epoch 53/1000\n",
            "1031/1031 [==============================] - 2s 2ms/step - loss: 1.8690 - fe_cat_loss: 0.4299 - fd_cat_loss: 0.6274 - fa_cat_loss: 0.8117 - fe_cat_accuracy: 0.9117 - fd_cat_accuracy: 0.7500 - fa_cat_accuracy: 0.7583 - val_loss: 1.8541 - val_fe_cat_loss: 0.4265 - val_fd_cat_loss: 0.6196 - val_fa_cat_loss: 0.8080 - val_fe_cat_accuracy: 0.9244 - val_fd_cat_accuracy: 0.7279 - val_fa_cat_accuracy: 0.7737\n",
            "\n",
            "Epoch 00053: val_loss improved from 1.85691 to 1.85406, saving model to /gdrive/My Drive/ML_Dataset/Qingchengbei/train-QCB-mix-cat-vn-ok2/mix-cat-epoch1000.h5\n",
            "Epoch 54/1000\n",
            "1031/1031 [==============================] - 2s 2ms/step - loss: 1.8742 - fe_cat_loss: 0.4305 - fd_cat_loss: 0.6281 - fa_cat_loss: 0.8155 - fe_cat_accuracy: 0.9101 - fd_cat_accuracy: 0.7413 - fa_cat_accuracy: 0.7631 - val_loss: 1.8402 - val_fe_cat_loss: 0.4291 - val_fd_cat_loss: 0.6114 - val_fa_cat_loss: 0.7997 - val_fe_cat_accuracy: 0.9034 - val_fd_cat_accuracy: 0.7680 - val_fa_cat_accuracy: 0.7959\n",
            "\n",
            "Epoch 00054: val_loss improved from 1.85406 to 1.84023, saving model to /gdrive/My Drive/ML_Dataset/Qingchengbei/train-QCB-mix-cat-vn-ok2/mix-cat-epoch1000.h5\n",
            "Epoch 55/1000\n",
            "1031/1031 [==============================] - 2s 2ms/step - loss: 1.8574 - fe_cat_loss: 0.4248 - fd_cat_loss: 0.6228 - fa_cat_loss: 0.8098 - fe_cat_accuracy: 0.9106 - fd_cat_accuracy: 0.7493 - fa_cat_accuracy: 0.7658 - val_loss: 1.8259 - val_fe_cat_loss: 0.4180 - val_fd_cat_loss: 0.6116 - val_fa_cat_loss: 0.7963 - val_fe_cat_accuracy: 0.9165 - val_fd_cat_accuracy: 0.7650 - val_fa_cat_accuracy: 0.7980\n",
            "\n",
            "Epoch 00055: val_loss improved from 1.84023 to 1.82593, saving model to /gdrive/My Drive/ML_Dataset/Qingchengbei/train-QCB-mix-cat-vn-ok2/mix-cat-epoch1000.h5\n",
            "Epoch 56/1000\n",
            "1031/1031 [==============================] - 2s 2ms/step - loss: 1.8563 - fe_cat_loss: 0.4198 - fd_cat_loss: 0.6241 - fa_cat_loss: 0.8124 - fe_cat_accuracy: 0.9142 - fd_cat_accuracy: 0.7502 - fa_cat_accuracy: 0.7564 - val_loss: 1.8358 - val_fe_cat_loss: 0.4144 - val_fd_cat_loss: 0.6138 - val_fa_cat_loss: 0.8076 - val_fe_cat_accuracy: 0.9189 - val_fd_cat_accuracy: 0.7385 - val_fa_cat_accuracy: 0.7500\n",
            "\n",
            "Epoch 00056: val_loss did not improve from 1.82593\n",
            "Epoch 57/1000\n",
            "1031/1031 [==============================] - 2s 2ms/step - loss: 1.8368 - fe_cat_loss: 0.4168 - fd_cat_loss: 0.6199 - fa_cat_loss: 0.8001 - fe_cat_accuracy: 0.9112 - fd_cat_accuracy: 0.7444 - fa_cat_accuracy: 0.7671 - val_loss: 1.8230 - val_fe_cat_loss: 0.4168 - val_fd_cat_loss: 0.6069 - val_fa_cat_loss: 0.7993 - val_fe_cat_accuracy: 0.9304 - val_fd_cat_accuracy: 0.7666 - val_fa_cat_accuracy: 0.7475\n",
            "\n",
            "Epoch 00057: val_loss improved from 1.82593 to 1.82295, saving model to /gdrive/My Drive/ML_Dataset/Qingchengbei/train-QCB-mix-cat-vn-ok2/mix-cat-epoch1000.h5\n",
            "Epoch 58/1000\n",
            "1031/1031 [==============================] - 2s 2ms/step - loss: 1.8287 - fe_cat_loss: 0.4156 - fd_cat_loss: 0.6161 - fa_cat_loss: 0.7970 - fe_cat_accuracy: 0.9137 - fd_cat_accuracy: 0.7494 - fa_cat_accuracy: 0.7684 - val_loss: 1.8080 - val_fe_cat_loss: 0.4123 - val_fd_cat_loss: 0.6028 - val_fa_cat_loss: 0.7929 - val_fe_cat_accuracy: 0.9050 - val_fd_cat_accuracy: 0.7705 - val_fa_cat_accuracy: 0.7508\n",
            "\n",
            "Epoch 00058: val_loss improved from 1.82295 to 1.80802, saving model to /gdrive/My Drive/ML_Dataset/Qingchengbei/train-QCB-mix-cat-vn-ok2/mix-cat-epoch1000.h5\n",
            "Epoch 59/1000\n",
            "1031/1031 [==============================] - 2s 2ms/step - loss: 1.8350 - fe_cat_loss: 0.4144 - fd_cat_loss: 0.6208 - fa_cat_loss: 0.7998 - fe_cat_accuracy: 0.9111 - fd_cat_accuracy: 0.7485 - fa_cat_accuracy: 0.7675 - val_loss: 1.8098 - val_fe_cat_loss: 0.4075 - val_fd_cat_loss: 0.6079 - val_fa_cat_loss: 0.7944 - val_fe_cat_accuracy: 0.9214 - val_fd_cat_accuracy: 0.7233 - val_fa_cat_accuracy: 0.7797\n",
            "\n",
            "Epoch 00059: val_loss did not improve from 1.80802\n",
            "Epoch 60/1000\n",
            "1031/1031 [==============================] - 2s 2ms/step - loss: 1.8203 - fe_cat_loss: 0.4041 - fd_cat_loss: 0.6109 - fa_cat_loss: 0.8053 - fe_cat_accuracy: 0.9203 - fd_cat_accuracy: 0.7542 - fa_cat_accuracy: 0.7629 - val_loss: 1.7940 - val_fe_cat_loss: 0.4091 - val_fd_cat_loss: 0.5985 - val_fa_cat_loss: 0.7864 - val_fe_cat_accuracy: 0.9078 - val_fd_cat_accuracy: 0.7737 - val_fa_cat_accuracy: 0.7838\n",
            "\n",
            "Epoch 00060: val_loss improved from 1.80802 to 1.79397, saving model to /gdrive/My Drive/ML_Dataset/Qingchengbei/train-QCB-mix-cat-vn-ok2/mix-cat-epoch1000.h5\n",
            "Epoch 61/1000\n",
            "1031/1031 [==============================] - 2s 2ms/step - loss: 1.8145 - fe_cat_loss: 0.4052 - fd_cat_loss: 0.6081 - fa_cat_loss: 0.8012 - fe_cat_accuracy: 0.9171 - fd_cat_accuracy: 0.7533 - fa_cat_accuracy: 0.7662 - val_loss: 1.7887 - val_fe_cat_loss: 0.4003 - val_fd_cat_loss: 0.6000 - val_fa_cat_loss: 0.7884 - val_fe_cat_accuracy: 0.9195 - val_fd_cat_accuracy: 0.7451 - val_fa_cat_accuracy: 0.7795\n",
            "\n",
            "Epoch 00061: val_loss improved from 1.79397 to 1.78868, saving model to /gdrive/My Drive/ML_Dataset/Qingchengbei/train-QCB-mix-cat-vn-ok2/mix-cat-epoch1000.h5\n",
            "Epoch 62/1000\n",
            "1031/1031 [==============================] - 2s 2ms/step - loss: 1.8150 - fe_cat_loss: 0.4013 - fd_cat_loss: 0.6110 - fa_cat_loss: 0.8028 - fe_cat_accuracy: 0.9199 - fd_cat_accuracy: 0.7550 - fa_cat_accuracy: 0.7645 - val_loss: 1.7724 - val_fe_cat_loss: 0.3969 - val_fd_cat_loss: 0.5940 - val_fa_cat_loss: 0.7815 - val_fe_cat_accuracy: 0.9249 - val_fd_cat_accuracy: 0.7675 - val_fa_cat_accuracy: 0.7953\n",
            "\n",
            "Epoch 00062: val_loss improved from 1.78868 to 1.77239, saving model to /gdrive/My Drive/ML_Dataset/Qingchengbei/train-QCB-mix-cat-vn-ok2/mix-cat-epoch1000.h5\n",
            "Epoch 63/1000\n",
            "1031/1031 [==============================] - 2s 2ms/step - loss: 1.7960 - fe_cat_loss: 0.3969 - fd_cat_loss: 0.6082 - fa_cat_loss: 0.7909 - fe_cat_accuracy: 0.9190 - fd_cat_accuracy: 0.7446 - fa_cat_accuracy: 0.7689 - val_loss: 1.7760 - val_fe_cat_loss: 0.3940 - val_fd_cat_loss: 0.6035 - val_fa_cat_loss: 0.7784 - val_fe_cat_accuracy: 0.9192 - val_fd_cat_accuracy: 0.7197 - val_fa_cat_accuracy: 0.7767\n",
            "\n",
            "Epoch 00063: val_loss did not improve from 1.77239\n",
            "Epoch 64/1000\n",
            "1031/1031 [==============================] - 2s 2ms/step - loss: 1.7888 - fe_cat_loss: 0.3936 - fd_cat_loss: 0.6036 - fa_cat_loss: 0.7916 - fe_cat_accuracy: 0.9212 - fd_cat_accuracy: 0.7551 - fa_cat_accuracy: 0.7664 - val_loss: 1.7742 - val_fe_cat_loss: 0.3912 - val_fd_cat_loss: 0.5959 - val_fa_cat_loss: 0.7871 - val_fe_cat_accuracy: 0.9233 - val_fd_cat_accuracy: 0.7448 - val_fa_cat_accuracy: 0.7399\n",
            "\n",
            "Epoch 00064: val_loss did not improve from 1.77239\n",
            "Epoch 65/1000\n",
            "1031/1031 [==============================] - 2s 2ms/step - loss: 1.7894 - fe_cat_loss: 0.3938 - fd_cat_loss: 0.6041 - fa_cat_loss: 0.7916 - fe_cat_accuracy: 0.9213 - fd_cat_accuracy: 0.7546 - fa_cat_accuracy: 0.7644 - val_loss: 1.7543 - val_fe_cat_loss: 0.3898 - val_fd_cat_loss: 0.5889 - val_fa_cat_loss: 0.7756 - val_fe_cat_accuracy: 0.9200 - val_fd_cat_accuracy: 0.7729 - val_fa_cat_accuracy: 0.7784\n",
            "\n",
            "Epoch 00065: val_loss improved from 1.77239 to 1.75425, saving model to /gdrive/My Drive/ML_Dataset/Qingchengbei/train-QCB-mix-cat-vn-ok2/mix-cat-epoch1000.h5\n",
            "Epoch 66/1000\n",
            "1031/1031 [==============================] - 2s 2ms/step - loss: 1.7718 - fe_cat_loss: 0.3914 - fd_cat_loss: 0.5982 - fa_cat_loss: 0.7822 - fe_cat_accuracy: 0.9192 - fd_cat_accuracy: 0.7593 - fa_cat_accuracy: 0.7673 - val_loss: 1.7626 - val_fe_cat_loss: 0.3897 - val_fd_cat_loss: 0.5862 - val_fa_cat_loss: 0.7867 - val_fe_cat_accuracy: 0.9124 - val_fd_cat_accuracy: 0.7658 - val_fa_cat_accuracy: 0.7530\n",
            "\n",
            "Epoch 00066: val_loss did not improve from 1.75425\n",
            "Epoch 67/1000\n",
            "1031/1031 [==============================] - 2s 2ms/step - loss: 1.7684 - fe_cat_loss: 0.3865 - fd_cat_loss: 0.5969 - fa_cat_loss: 0.7851 - fe_cat_accuracy: 0.9230 - fd_cat_accuracy: 0.7593 - fa_cat_accuracy: 0.7696 - val_loss: 1.7620 - val_fe_cat_loss: 0.3872 - val_fd_cat_loss: 0.5910 - val_fa_cat_loss: 0.7838 - val_fe_cat_accuracy: 0.9329 - val_fd_cat_accuracy: 0.7686 - val_fa_cat_accuracy: 0.7388\n",
            "\n",
            "Epoch 00067: val_loss did not improve from 1.75425\n",
            "Epoch 68/1000\n",
            "1031/1031 [==============================] - 2s 2ms/step - loss: 1.7692 - fe_cat_loss: 0.3849 - fd_cat_loss: 0.5990 - fa_cat_loss: 0.7853 - fe_cat_accuracy: 0.9199 - fd_cat_accuracy: 0.7543 - fa_cat_accuracy: 0.7677 - val_loss: 1.7364 - val_fe_cat_loss: 0.3797 - val_fd_cat_loss: 0.5861 - val_fa_cat_loss: 0.7705 - val_fe_cat_accuracy: 0.9258 - val_fd_cat_accuracy: 0.7781 - val_fa_cat_accuracy: 0.7702\n",
            "\n",
            "Epoch 00068: val_loss improved from 1.75425 to 1.73636, saving model to /gdrive/My Drive/ML_Dataset/Qingchengbei/train-QCB-mix-cat-vn-ok2/mix-cat-epoch1000.h5\n",
            "Epoch 69/1000\n",
            "1031/1031 [==============================] - 2s 2ms/step - loss: 1.7673 - fe_cat_loss: 0.3845 - fd_cat_loss: 0.5973 - fa_cat_loss: 0.7855 - fe_cat_accuracy: 0.9196 - fd_cat_accuracy: 0.7519 - fa_cat_accuracy: 0.7712 - val_loss: 1.7365 - val_fe_cat_loss: 0.3814 - val_fd_cat_loss: 0.5833 - val_fa_cat_loss: 0.7719 - val_fe_cat_accuracy: 0.9116 - val_fd_cat_accuracy: 0.7773 - val_fa_cat_accuracy: 0.7800\n",
            "\n",
            "Epoch 00069: val_loss did not improve from 1.73636\n",
            "Epoch 70/1000\n",
            "1031/1031 [==============================] - 2s 2ms/step - loss: 1.7538 - fe_cat_loss: 0.3796 - fd_cat_loss: 0.5948 - fa_cat_loss: 0.7794 - fe_cat_accuracy: 0.9220 - fd_cat_accuracy: 0.7579 - fa_cat_accuracy: 0.7688 - val_loss: 1.7268 - val_fe_cat_loss: 0.3760 - val_fd_cat_loss: 0.5830 - val_fa_cat_loss: 0.7678 - val_fe_cat_accuracy: 0.9277 - val_fd_cat_accuracy: 0.7757 - val_fa_cat_accuracy: 0.7808\n",
            "\n",
            "Epoch 00070: val_loss improved from 1.73636 to 1.72685, saving model to /gdrive/My Drive/ML_Dataset/Qingchengbei/train-QCB-mix-cat-vn-ok2/mix-cat-epoch1000.h5\n",
            "Epoch 71/1000\n",
            "1031/1031 [==============================] - 2s 2ms/step - loss: 1.7373 - fe_cat_loss: 0.3778 - fd_cat_loss: 0.5874 - fa_cat_loss: 0.7721 - fe_cat_accuracy: 0.9236 - fd_cat_accuracy: 0.7642 - fa_cat_accuracy: 0.7720 - val_loss: 1.7308 - val_fe_cat_loss: 0.3800 - val_fd_cat_loss: 0.5820 - val_fa_cat_loss: 0.7688 - val_fe_cat_accuracy: 0.9113 - val_fd_cat_accuracy: 0.7639 - val_fa_cat_accuracy: 0.7585\n",
            "\n",
            "Epoch 00071: val_loss did not improve from 1.72685\n",
            "Epoch 72/1000\n",
            "1031/1031 [==============================] - 2s 2ms/step - loss: 1.7404 - fe_cat_loss: 0.3764 - fd_cat_loss: 0.5874 - fa_cat_loss: 0.7766 - fe_cat_accuracy: 0.9190 - fd_cat_accuracy: 0.7619 - fa_cat_accuracy: 0.7639 - val_loss: 1.7174 - val_fe_cat_loss: 0.3724 - val_fd_cat_loss: 0.5779 - val_fa_cat_loss: 0.7671 - val_fe_cat_accuracy: 0.9290 - val_fd_cat_accuracy: 0.7615 - val_fa_cat_accuracy: 0.7847\n",
            "\n",
            "Epoch 00072: val_loss improved from 1.72685 to 1.71743, saving model to /gdrive/My Drive/ML_Dataset/Qingchengbei/train-QCB-mix-cat-vn-ok2/mix-cat-epoch1000.h5\n",
            "Epoch 73/1000\n",
            "1031/1031 [==============================] - 2s 2ms/step - loss: 1.7337 - fe_cat_loss: 0.3733 - fd_cat_loss: 0.5900 - fa_cat_loss: 0.7704 - fe_cat_accuracy: 0.9229 - fd_cat_accuracy: 0.7564 - fa_cat_accuracy: 0.7696 - val_loss: 1.7148 - val_fe_cat_loss: 0.3713 - val_fd_cat_loss: 0.5788 - val_fa_cat_loss: 0.7648 - val_fe_cat_accuracy: 0.9222 - val_fd_cat_accuracy: 0.7803 - val_fa_cat_accuracy: 0.7819\n",
            "\n",
            "Epoch 00073: val_loss improved from 1.71743 to 1.71482, saving model to /gdrive/My Drive/ML_Dataset/Qingchengbei/train-QCB-mix-cat-vn-ok2/mix-cat-epoch1000.h5\n",
            "Epoch 74/1000\n",
            "1031/1031 [==============================] - 2s 2ms/step - loss: 1.7364 - fe_cat_loss: 0.3699 - fd_cat_loss: 0.5875 - fa_cat_loss: 0.7789 - fe_cat_accuracy: 0.9239 - fd_cat_accuracy: 0.7605 - fa_cat_accuracy: 0.7673 - val_loss: 1.7001 - val_fe_cat_loss: 0.3651 - val_fd_cat_loss: 0.5767 - val_fa_cat_loss: 0.7584 - val_fe_cat_accuracy: 0.9312 - val_fd_cat_accuracy: 0.7669 - val_fa_cat_accuracy: 0.7986\n",
            "\n",
            "Epoch 00074: val_loss improved from 1.71482 to 1.70014, saving model to /gdrive/My Drive/ML_Dataset/Qingchengbei/train-QCB-mix-cat-vn-ok2/mix-cat-epoch1000.h5\n",
            "Epoch 75/1000\n",
            "1031/1031 [==============================] - 2s 2ms/step - loss: 1.7267 - fe_cat_loss: 0.3684 - fd_cat_loss: 0.5870 - fa_cat_loss: 0.7713 - fe_cat_accuracy: 0.9263 - fd_cat_accuracy: 0.7608 - fa_cat_accuracy: 0.7755 - val_loss: 1.7002 - val_fe_cat_loss: 0.3626 - val_fd_cat_loss: 0.5726 - val_fa_cat_loss: 0.7649 - val_fe_cat_accuracy: 0.9285 - val_fd_cat_accuracy: 0.7819 - val_fa_cat_accuracy: 0.7699\n",
            "\n",
            "Epoch 00075: val_loss did not improve from 1.70014\n",
            "Epoch 76/1000\n",
            "1031/1031 [==============================] - 2s 2ms/step - loss: 1.7283 - fe_cat_loss: 0.3662 - fd_cat_loss: 0.5825 - fa_cat_loss: 0.7795 - fe_cat_accuracy: 0.9257 - fd_cat_accuracy: 0.7648 - fa_cat_accuracy: 0.7667 - val_loss: 1.7041 - val_fe_cat_loss: 0.3635 - val_fd_cat_loss: 0.5797 - val_fa_cat_loss: 0.7610 - val_fe_cat_accuracy: 0.9214 - val_fd_cat_accuracy: 0.7410 - val_fa_cat_accuracy: 0.7707\n",
            "\n",
            "Epoch 00076: val_loss did not improve from 1.70014\n",
            "Epoch 77/1000\n",
            "1031/1031 [==============================] - 2s 2ms/step - loss: 1.7217 - fe_cat_loss: 0.3661 - fd_cat_loss: 0.5863 - fa_cat_loss: 0.7694 - fe_cat_accuracy: 0.9258 - fd_cat_accuracy: 0.7579 - fa_cat_accuracy: 0.7687 - val_loss: 1.7234 - val_fe_cat_loss: 0.3619 - val_fd_cat_loss: 0.5859 - val_fa_cat_loss: 0.7755 - val_fe_cat_accuracy: 0.9200 - val_fd_cat_accuracy: 0.7211 - val_fa_cat_accuracy: 0.7295\n",
            "\n",
            "Epoch 00077: val_loss did not improve from 1.70014\n",
            "Epoch 78/1000\n",
            "1031/1031 [==============================] - 2s 2ms/step - loss: 1.7269 - fe_cat_loss: 0.3661 - fd_cat_loss: 0.5894 - fa_cat_loss: 0.7714 - fe_cat_accuracy: 0.9260 - fd_cat_accuracy: 0.7560 - fa_cat_accuracy: 0.7702 - val_loss: 1.6902 - val_fe_cat_loss: 0.3583 - val_fd_cat_loss: 0.5750 - val_fa_cat_loss: 0.7569 - val_fe_cat_accuracy: 0.9274 - val_fd_cat_accuracy: 0.7421 - val_fa_cat_accuracy: 0.7778\n",
            "\n",
            "Epoch 00078: val_loss improved from 1.70014 to 1.69016, saving model to /gdrive/My Drive/ML_Dataset/Qingchengbei/train-QCB-mix-cat-vn-ok2/mix-cat-epoch1000.h5\n",
            "Epoch 79/1000\n",
            "1031/1031 [==============================] - 2s 2ms/step - loss: 1.7113 - fe_cat_loss: 0.3619 - fd_cat_loss: 0.5811 - fa_cat_loss: 0.7684 - fe_cat_accuracy: 0.9272 - fd_cat_accuracy: 0.7611 - fa_cat_accuracy: 0.7757 - val_loss: 1.6954 - val_fe_cat_loss: 0.3551 - val_fd_cat_loss: 0.5844 - val_fa_cat_loss: 0.7559 - val_fe_cat_accuracy: 0.9296 - val_fd_cat_accuracy: 0.7175 - val_fa_cat_accuracy: 0.7746\n",
            "\n",
            "Epoch 00079: val_loss did not improve from 1.69016\n",
            "Epoch 80/1000\n",
            "1031/1031 [==============================] - 2s 2ms/step - loss: 1.6979 - fe_cat_loss: 0.3605 - fd_cat_loss: 0.5805 - fa_cat_loss: 0.7569 - fe_cat_accuracy: 0.9254 - fd_cat_accuracy: 0.7640 - fa_cat_accuracy: 0.7735 - val_loss: 1.6750 - val_fe_cat_loss: 0.3539 - val_fd_cat_loss: 0.5682 - val_fa_cat_loss: 0.7529 - val_fe_cat_accuracy: 0.9342 - val_fd_cat_accuracy: 0.7533 - val_fa_cat_accuracy: 0.7792\n",
            "\n",
            "Epoch 00080: val_loss improved from 1.69016 to 1.67497, saving model to /gdrive/My Drive/ML_Dataset/Qingchengbei/train-QCB-mix-cat-vn-ok2/mix-cat-epoch1000.h5\n",
            "Epoch 81/1000\n",
            "1031/1031 [==============================] - 2s 2ms/step - loss: 1.7004 - fe_cat_loss: 0.3557 - fd_cat_loss: 0.5758 - fa_cat_loss: 0.7689 - fe_cat_accuracy: 0.9291 - fd_cat_accuracy: 0.7621 - fa_cat_accuracy: 0.7694 - val_loss: 1.6752 - val_fe_cat_loss: 0.3542 - val_fd_cat_loss: 0.5662 - val_fa_cat_loss: 0.7548 - val_fe_cat_accuracy: 0.9350 - val_fd_cat_accuracy: 0.7838 - val_fa_cat_accuracy: 0.7615\n",
            "\n",
            "Epoch 00081: val_loss did not improve from 1.67497\n",
            "Epoch 82/1000\n",
            "1031/1031 [==============================] - 2s 2ms/step - loss: 1.6857 - fe_cat_loss: 0.3558 - fd_cat_loss: 0.5765 - fa_cat_loss: 0.7534 - fe_cat_accuracy: 0.9256 - fd_cat_accuracy: 0.7654 - fa_cat_accuracy: 0.7751 - val_loss: 1.6843 - val_fe_cat_loss: 0.3530 - val_fd_cat_loss: 0.5806 - val_fa_cat_loss: 0.7506 - val_fe_cat_accuracy: 0.9391 - val_fd_cat_accuracy: 0.7334 - val_fa_cat_accuracy: 0.7997\n",
            "\n",
            "Epoch 00082: val_loss did not improve from 1.67497\n",
            "Epoch 83/1000\n",
            "1031/1031 [==============================] - 2s 2ms/step - loss: 1.6997 - fe_cat_loss: 0.3524 - fd_cat_loss: 0.5825 - fa_cat_loss: 0.7647 - fe_cat_accuracy: 0.9279 - fd_cat_accuracy: 0.7612 - fa_cat_accuracy: 0.7694 - val_loss: 1.6693 - val_fe_cat_loss: 0.3516 - val_fd_cat_loss: 0.5678 - val_fa_cat_loss: 0.7499 - val_fe_cat_accuracy: 0.9154 - val_fd_cat_accuracy: 0.7650 - val_fa_cat_accuracy: 0.7784\n",
            "\n",
            "Epoch 00083: val_loss improved from 1.67497 to 1.66930, saving model to /gdrive/My Drive/ML_Dataset/Qingchengbei/train-QCB-mix-cat-vn-ok2/mix-cat-epoch1000.h5\n",
            "Epoch 84/1000\n",
            "1031/1031 [==============================] - 2s 2ms/step - loss: 1.6855 - fe_cat_loss: 0.3513 - fd_cat_loss: 0.5764 - fa_cat_loss: 0.7577 - fe_cat_accuracy: 0.9267 - fd_cat_accuracy: 0.7655 - fa_cat_accuracy: 0.7698 - val_loss: 1.6695 - val_fe_cat_loss: 0.3483 - val_fd_cat_loss: 0.5683 - val_fa_cat_loss: 0.7530 - val_fe_cat_accuracy: 0.9189 - val_fd_cat_accuracy: 0.7372 - val_fa_cat_accuracy: 0.7593\n",
            "\n",
            "Epoch 00084: val_loss did not improve from 1.66930\n",
            "Epoch 85/1000\n",
            "1031/1031 [==============================] - 2s 2ms/step - loss: 1.6807 - fe_cat_loss: 0.3498 - fd_cat_loss: 0.5747 - fa_cat_loss: 0.7562 - fe_cat_accuracy: 0.9274 - fd_cat_accuracy: 0.7626 - fa_cat_accuracy: 0.7682 - val_loss: 1.6684 - val_fe_cat_loss: 0.3489 - val_fd_cat_loss: 0.5676 - val_fa_cat_loss: 0.7520 - val_fe_cat_accuracy: 0.9353 - val_fd_cat_accuracy: 0.7623 - val_fa_cat_accuracy: 0.7751\n",
            "\n",
            "Epoch 00085: val_loss improved from 1.66930 to 1.66843, saving model to /gdrive/My Drive/ML_Dataset/Qingchengbei/train-QCB-mix-cat-vn-ok2/mix-cat-epoch1000.h5\n",
            "Epoch 86/1000\n",
            "1031/1031 [==============================] - 2s 2ms/step - loss: 1.6627 - fe_cat_loss: 0.3448 - fd_cat_loss: 0.5687 - fa_cat_loss: 0.7492 - fe_cat_accuracy: 0.9301 - fd_cat_accuracy: 0.7680 - fa_cat_accuracy: 0.7754 - val_loss: 1.6518 - val_fe_cat_loss: 0.3412 - val_fd_cat_loss: 0.5643 - val_fa_cat_loss: 0.7463 - val_fe_cat_accuracy: 0.9315 - val_fd_cat_accuracy: 0.7533 - val_fa_cat_accuracy: 0.7746\n",
            "\n",
            "Epoch 00086: val_loss improved from 1.66843 to 1.65181, saving model to /gdrive/My Drive/ML_Dataset/Qingchengbei/train-QCB-mix-cat-vn-ok2/mix-cat-epoch1000.h5\n",
            "Epoch 87/1000\n",
            "1031/1031 [==============================] - 2s 2ms/step - loss: 1.6672 - fe_cat_loss: 0.3418 - fd_cat_loss: 0.5685 - fa_cat_loss: 0.7570 - fe_cat_accuracy: 0.9318 - fd_cat_accuracy: 0.7658 - fa_cat_accuracy: 0.7729 - val_loss: 1.6755 - val_fe_cat_loss: 0.3574 - val_fd_cat_loss: 0.5710 - val_fa_cat_loss: 0.7471 - val_fe_cat_accuracy: 0.9378 - val_fd_cat_accuracy: 0.7358 - val_fa_cat_accuracy: 0.7675\n",
            "\n",
            "Epoch 00087: val_loss did not improve from 1.65181\n",
            "Epoch 88/1000\n",
            "1031/1031 [==============================] - 2s 2ms/step - loss: 1.6569 - fe_cat_loss: 0.3345 - fd_cat_loss: 0.5666 - fa_cat_loss: 0.7558 - fe_cat_accuracy: 0.9318 - fd_cat_accuracy: 0.7622 - fa_cat_accuracy: 0.7773 - val_loss: 1.6563 - val_fe_cat_loss: 0.3493 - val_fd_cat_loss: 0.5611 - val_fa_cat_loss: 0.7459 - val_fe_cat_accuracy: 0.9116 - val_fd_cat_accuracy: 0.7661 - val_fa_cat_accuracy: 0.7937\n",
            "\n",
            "Epoch 00088: val_loss did not improve from 1.65181\n",
            "Epoch 89/1000\n",
            "1031/1031 [==============================] - 2s 2ms/step - loss: 1.6671 - fe_cat_loss: 0.3430 - fd_cat_loss: 0.5719 - fa_cat_loss: 0.7522 - fe_cat_accuracy: 0.9304 - fd_cat_accuracy: 0.7623 - fa_cat_accuracy: 0.7781 - val_loss: 1.6358 - val_fe_cat_loss: 0.3381 - val_fd_cat_loss: 0.5599 - val_fa_cat_loss: 0.7379 - val_fe_cat_accuracy: 0.9277 - val_fd_cat_accuracy: 0.7713 - val_fa_cat_accuracy: 0.8079\n",
            "\n",
            "Epoch 00089: val_loss improved from 1.65181 to 1.63583, saving model to /gdrive/My Drive/ML_Dataset/Qingchengbei/train-QCB-mix-cat-vn-ok2/mix-cat-epoch1000.h5\n",
            "Epoch 90/1000\n",
            "1031/1031 [==============================] - 2s 2ms/step - loss: 1.6514 - fe_cat_loss: 0.3379 - fd_cat_loss: 0.5644 - fa_cat_loss: 0.7491 - fe_cat_accuracy: 0.9322 - fd_cat_accuracy: 0.7710 - fa_cat_accuracy: 0.7768 - val_loss: 1.6406 - val_fe_cat_loss: 0.3391 - val_fd_cat_loss: 0.5590 - val_fa_cat_loss: 0.7425 - val_fe_cat_accuracy: 0.9236 - val_fd_cat_accuracy: 0.7863 - val_fa_cat_accuracy: 0.7647\n",
            "\n",
            "Epoch 00090: val_loss did not improve from 1.63583\n",
            "Epoch 91/1000\n",
            "1031/1031 [==============================] - 2s 2ms/step - loss: 1.6451 - fe_cat_loss: 0.3365 - fd_cat_loss: 0.5649 - fa_cat_loss: 0.7436 - fe_cat_accuracy: 0.9285 - fd_cat_accuracy: 0.7717 - fa_cat_accuracy: 0.7770 - val_loss: 1.6359 - val_fe_cat_loss: 0.3358 - val_fd_cat_loss: 0.5596 - val_fa_cat_loss: 0.7405 - val_fe_cat_accuracy: 0.9370 - val_fd_cat_accuracy: 0.7576 - val_fa_cat_accuracy: 0.7844\n",
            "\n",
            "Epoch 00091: val_loss did not improve from 1.63583\n",
            "Epoch 92/1000\n",
            "1031/1031 [==============================] - 2s 2ms/step - loss: 1.6492 - fe_cat_loss: 0.3393 - fd_cat_loss: 0.5691 - fa_cat_loss: 0.7409 - fe_cat_accuracy: 0.9292 - fd_cat_accuracy: 0.7662 - fa_cat_accuracy: 0.7787 - val_loss: 1.6309 - val_fe_cat_loss: 0.3337 - val_fd_cat_loss: 0.5612 - val_fa_cat_loss: 0.7360 - val_fe_cat_accuracy: 0.9378 - val_fd_cat_accuracy: 0.7454 - val_fa_cat_accuracy: 0.7989\n",
            "\n",
            "Epoch 00092: val_loss improved from 1.63583 to 1.63086, saving model to /gdrive/My Drive/ML_Dataset/Qingchengbei/train-QCB-mix-cat-vn-ok2/mix-cat-epoch1000.h5\n",
            "Epoch 93/1000\n",
            "1031/1031 [==============================] - 2s 2ms/step - loss: 1.6547 - fe_cat_loss: 0.3361 - fd_cat_loss: 0.5675 - fa_cat_loss: 0.7510 - fe_cat_accuracy: 0.9302 - fd_cat_accuracy: 0.7683 - fa_cat_accuracy: 0.7812 - val_loss: 1.6227 - val_fe_cat_loss: 0.3298 - val_fd_cat_loss: 0.5570 - val_fa_cat_loss: 0.7359 - val_fe_cat_accuracy: 0.9288 - val_fd_cat_accuracy: 0.7645 - val_fa_cat_accuracy: 0.7754\n",
            "\n",
            "Epoch 00093: val_loss improved from 1.63086 to 1.62275, saving model to /gdrive/My Drive/ML_Dataset/Qingchengbei/train-QCB-mix-cat-vn-ok2/mix-cat-epoch1000.h5\n",
            "Epoch 94/1000\n",
            "1031/1031 [==============================] - 2s 2ms/step - loss: 1.6376 - fe_cat_loss: 0.3299 - fd_cat_loss: 0.5636 - fa_cat_loss: 0.7441 - fe_cat_accuracy: 0.9313 - fd_cat_accuracy: 0.7670 - fa_cat_accuracy: 0.7775 - val_loss: 1.6266 - val_fe_cat_loss: 0.3342 - val_fd_cat_loss: 0.5565 - val_fa_cat_loss: 0.7358 - val_fe_cat_accuracy: 0.9370 - val_fd_cat_accuracy: 0.7819 - val_fa_cat_accuracy: 0.7901\n",
            "\n",
            "Epoch 00094: val_loss did not improve from 1.62275\n",
            "Epoch 95/1000\n",
            "1031/1031 [==============================] - 2s 2ms/step - loss: 1.6291 - fe_cat_loss: 0.3280 - fd_cat_loss: 0.5655 - fa_cat_loss: 0.7356 - fe_cat_accuracy: 0.9318 - fd_cat_accuracy: 0.7656 - fa_cat_accuracy: 0.7800 - val_loss: 1.6130 - val_fe_cat_loss: 0.3282 - val_fd_cat_loss: 0.5521 - val_fa_cat_loss: 0.7327 - val_fe_cat_accuracy: 0.9326 - val_fd_cat_accuracy: 0.7757 - val_fa_cat_accuracy: 0.7716\n",
            "\n",
            "Epoch 00095: val_loss improved from 1.62275 to 1.61301, saving model to /gdrive/My Drive/ML_Dataset/Qingchengbei/train-QCB-mix-cat-vn-ok2/mix-cat-epoch1000.h5\n",
            "Epoch 96/1000\n",
            "1031/1031 [==============================] - 2s 2ms/step - loss: 1.6315 - fe_cat_loss: 0.3302 - fd_cat_loss: 0.5599 - fa_cat_loss: 0.7413 - fe_cat_accuracy: 0.9307 - fd_cat_accuracy: 0.7689 - fa_cat_accuracy: 0.7819 - val_loss: 1.6254 - val_fe_cat_loss: 0.3275 - val_fd_cat_loss: 0.5526 - val_fa_cat_loss: 0.7454 - val_fe_cat_accuracy: 0.9315 - val_fd_cat_accuracy: 0.7830 - val_fa_cat_accuracy: 0.7773\n",
            "\n",
            "Epoch 00096: val_loss did not improve from 1.61301\n",
            "Epoch 97/1000\n",
            "1031/1031 [==============================] - 2s 2ms/step - loss: 1.6335 - fe_cat_loss: 0.3285 - fd_cat_loss: 0.5644 - fa_cat_loss: 0.7406 - fe_cat_accuracy: 0.9302 - fd_cat_accuracy: 0.7666 - fa_cat_accuracy: 0.7764 - val_loss: 1.6056 - val_fe_cat_loss: 0.3258 - val_fd_cat_loss: 0.5493 - val_fa_cat_loss: 0.7305 - val_fe_cat_accuracy: 0.9315 - val_fd_cat_accuracy: 0.7858 - val_fa_cat_accuracy: 0.7855\n",
            "\n",
            "Epoch 00097: val_loss improved from 1.61301 to 1.60562, saving model to /gdrive/My Drive/ML_Dataset/Qingchengbei/train-QCB-mix-cat-vn-ok2/mix-cat-epoch1000.h5\n",
            "Epoch 98/1000\n",
            "1031/1031 [==============================] - 2s 2ms/step - loss: 1.6314 - fe_cat_loss: 0.3265 - fd_cat_loss: 0.5671 - fa_cat_loss: 0.7379 - fe_cat_accuracy: 0.9306 - fd_cat_accuracy: 0.7619 - fa_cat_accuracy: 0.7800 - val_loss: 1.6069 - val_fe_cat_loss: 0.3217 - val_fd_cat_loss: 0.5496 - val_fa_cat_loss: 0.7356 - val_fe_cat_accuracy: 0.9315 - val_fd_cat_accuracy: 0.7762 - val_fa_cat_accuracy: 0.7795\n",
            "\n",
            "Epoch 00098: val_loss did not improve from 1.60562\n",
            "Epoch 99/1000\n",
            "1031/1031 [==============================] - 2s 2ms/step - loss: 1.6279 - fe_cat_loss: 0.3220 - fd_cat_loss: 0.5623 - fa_cat_loss: 0.7436 - fe_cat_accuracy: 0.9335 - fd_cat_accuracy: 0.7689 - fa_cat_accuracy: 0.7743 - val_loss: 1.6362 - val_fe_cat_loss: 0.3199 - val_fd_cat_loss: 0.5774 - val_fa_cat_loss: 0.7389 - val_fe_cat_accuracy: 0.9326 - val_fd_cat_accuracy: 0.7205 - val_fa_cat_accuracy: 0.7661\n",
            "\n",
            "Epoch 00099: val_loss did not improve from 1.60562\n",
            "Epoch 100/1000\n",
            "1031/1031 [==============================] - 2s 2ms/step - loss: 1.6273 - fe_cat_loss: 0.3244 - fd_cat_loss: 0.5619 - fa_cat_loss: 0.7410 - fe_cat_accuracy: 0.9315 - fd_cat_accuracy: 0.7651 - fa_cat_accuracy: 0.7765 - val_loss: 1.5990 - val_fe_cat_loss: 0.3180 - val_fd_cat_loss: 0.5502 - val_fa_cat_loss: 0.7308 - val_fe_cat_accuracy: 0.9359 - val_fd_cat_accuracy: 0.7664 - val_fa_cat_accuracy: 0.7778\n",
            "\n",
            "Epoch 00100: val_loss improved from 1.60562 to 1.59900, saving model to /gdrive/My Drive/ML_Dataset/Qingchengbei/train-QCB-mix-cat-vn-ok2/mix-cat-epoch1000.h5\n",
            "Epoch 101/1000\n",
            "1031/1031 [==============================] - 2s 2ms/step - loss: 1.6145 - fe_cat_loss: 0.3225 - fd_cat_loss: 0.5608 - fa_cat_loss: 0.7312 - fe_cat_accuracy: 0.9329 - fd_cat_accuracy: 0.7677 - fa_cat_accuracy: 0.7811 - val_loss: 1.5985 - val_fe_cat_loss: 0.3262 - val_fd_cat_loss: 0.5468 - val_fa_cat_loss: 0.7255 - val_fe_cat_accuracy: 0.9258 - val_fd_cat_accuracy: 0.7751 - val_fa_cat_accuracy: 0.7909\n",
            "\n",
            "Epoch 00101: val_loss improved from 1.59900 to 1.59848, saving model to /gdrive/My Drive/ML_Dataset/Qingchengbei/train-QCB-mix-cat-vn-ok2/mix-cat-epoch1000.h5\n",
            "Epoch 102/1000\n",
            "1031/1031 [==============================] - 2s 2ms/step - loss: 1.6147 - fe_cat_loss: 0.3212 - fd_cat_loss: 0.5584 - fa_cat_loss: 0.7351 - fe_cat_accuracy: 0.9332 - fd_cat_accuracy: 0.7676 - fa_cat_accuracy: 0.7823 - val_loss: 1.5835 - val_fe_cat_loss: 0.3157 - val_fd_cat_loss: 0.5470 - val_fa_cat_loss: 0.7209 - val_fe_cat_accuracy: 0.9334 - val_fd_cat_accuracy: 0.7885 - val_fa_cat_accuracy: 0.8008\n",
            "\n",
            "Epoch 00102: val_loss improved from 1.59848 to 1.58352, saving model to /gdrive/My Drive/ML_Dataset/Qingchengbei/train-QCB-mix-cat-vn-ok2/mix-cat-epoch1000.h5\n",
            "Epoch 103/1000\n",
            "1031/1031 [==============================] - 2s 2ms/step - loss: 1.6093 - fe_cat_loss: 0.3155 - fd_cat_loss: 0.5566 - fa_cat_loss: 0.7372 - fe_cat_accuracy: 0.9325 - fd_cat_accuracy: 0.7674 - fa_cat_accuracy: 0.7802 - val_loss: 1.5854 - val_fe_cat_loss: 0.3171 - val_fd_cat_loss: 0.5457 - val_fa_cat_loss: 0.7226 - val_fe_cat_accuracy: 0.9293 - val_fd_cat_accuracy: 0.7697 - val_fa_cat_accuracy: 0.7928\n",
            "\n",
            "Epoch 00103: val_loss did not improve from 1.58352\n",
            "Epoch 104/1000\n",
            "1031/1031 [==============================] - 2s 2ms/step - loss: 1.5954 - fe_cat_loss: 0.3186 - fd_cat_loss: 0.5527 - fa_cat_loss: 0.7241 - fe_cat_accuracy: 0.9327 - fd_cat_accuracy: 0.7730 - fa_cat_accuracy: 0.7865 - val_loss: 1.5851 - val_fe_cat_loss: 0.3128 - val_fd_cat_loss: 0.5508 - val_fa_cat_loss: 0.7215 - val_fe_cat_accuracy: 0.9353 - val_fd_cat_accuracy: 0.7735 - val_fa_cat_accuracy: 0.7915\n",
            "\n",
            "Epoch 00104: val_loss did not improve from 1.58352\n",
            "Epoch 105/1000\n",
            "1031/1031 [==============================] - 2s 2ms/step - loss: 1.6038 - fe_cat_loss: 0.3177 - fd_cat_loss: 0.5562 - fa_cat_loss: 0.7300 - fe_cat_accuracy: 0.9341 - fd_cat_accuracy: 0.7720 - fa_cat_accuracy: 0.7840 - val_loss: 1.5802 - val_fe_cat_loss: 0.3142 - val_fd_cat_loss: 0.5436 - val_fa_cat_loss: 0.7225 - val_fe_cat_accuracy: 0.9353 - val_fd_cat_accuracy: 0.7743 - val_fa_cat_accuracy: 0.7707\n",
            "\n",
            "Epoch 00105: val_loss improved from 1.58352 to 1.58022, saving model to /gdrive/My Drive/ML_Dataset/Qingchengbei/train-QCB-mix-cat-vn-ok2/mix-cat-epoch1000.h5\n",
            "Epoch 106/1000\n",
            "1031/1031 [==============================] - 2s 2ms/step - loss: 1.6013 - fe_cat_loss: 0.3158 - fd_cat_loss: 0.5558 - fa_cat_loss: 0.7297 - fe_cat_accuracy: 0.9328 - fd_cat_accuracy: 0.7686 - fa_cat_accuracy: 0.7820 - val_loss: 1.5792 - val_fe_cat_loss: 0.3131 - val_fd_cat_loss: 0.5416 - val_fa_cat_loss: 0.7245 - val_fe_cat_accuracy: 0.9405 - val_fd_cat_accuracy: 0.7898 - val_fa_cat_accuracy: 0.7631\n",
            "\n",
            "Epoch 00106: val_loss improved from 1.58022 to 1.57923, saving model to /gdrive/My Drive/ML_Dataset/Qingchengbei/train-QCB-mix-cat-vn-ok2/mix-cat-epoch1000.h5\n",
            "Epoch 107/1000\n",
            "1031/1031 [==============================] - 2s 2ms/step - loss: 1.5983 - fe_cat_loss: 0.3167 - fd_cat_loss: 0.5522 - fa_cat_loss: 0.7294 - fe_cat_accuracy: 0.9316 - fd_cat_accuracy: 0.7757 - fa_cat_accuracy: 0.7804 - val_loss: 1.5928 - val_fe_cat_loss: 0.3145 - val_fd_cat_loss: 0.5598 - val_fa_cat_loss: 0.7185 - val_fe_cat_accuracy: 0.9402 - val_fd_cat_accuracy: 0.7342 - val_fa_cat_accuracy: 0.8070\n",
            "\n",
            "Epoch 00107: val_loss did not improve from 1.57923\n",
            "Epoch 108/1000\n",
            "1031/1031 [==============================] - 2s 2ms/step - loss: 1.5952 - fe_cat_loss: 0.3138 - fd_cat_loss: 0.5528 - fa_cat_loss: 0.7286 - fe_cat_accuracy: 0.9352 - fd_cat_accuracy: 0.7695 - fa_cat_accuracy: 0.7845 - val_loss: 1.5740 - val_fe_cat_loss: 0.3090 - val_fd_cat_loss: 0.5400 - val_fa_cat_loss: 0.7250 - val_fe_cat_accuracy: 0.9329 - val_fd_cat_accuracy: 0.7847 - val_fa_cat_accuracy: 0.7590\n",
            "\n",
            "Epoch 00108: val_loss improved from 1.57923 to 1.57404, saving model to /gdrive/My Drive/ML_Dataset/Qingchengbei/train-QCB-mix-cat-vn-ok2/mix-cat-epoch1000.h5\n",
            "Epoch 109/1000\n",
            "1031/1031 [==============================] - 2s 2ms/step - loss: 1.5891 - fe_cat_loss: 0.3060 - fd_cat_loss: 0.5527 - fa_cat_loss: 0.7304 - fe_cat_accuracy: 0.9361 - fd_cat_accuracy: 0.7688 - fa_cat_accuracy: 0.7761 - val_loss: 1.5636 - val_fe_cat_loss: 0.3069 - val_fd_cat_loss: 0.5395 - val_fa_cat_loss: 0.7172 - val_fe_cat_accuracy: 0.9323 - val_fd_cat_accuracy: 0.7847 - val_fa_cat_accuracy: 0.7945\n",
            "\n",
            "Epoch 00109: val_loss improved from 1.57404 to 1.56361, saving model to /gdrive/My Drive/ML_Dataset/Qingchengbei/train-QCB-mix-cat-vn-ok2/mix-cat-epoch1000.h5\n",
            "Epoch 110/1000\n",
            "1031/1031 [==============================] - 2s 2ms/step - loss: 1.5852 - fe_cat_loss: 0.3072 - fd_cat_loss: 0.5478 - fa_cat_loss: 0.7302 - fe_cat_accuracy: 0.9345 - fd_cat_accuracy: 0.7722 - fa_cat_accuracy: 0.7792 - val_loss: 1.5690 - val_fe_cat_loss: 0.3055 - val_fd_cat_loss: 0.5469 - val_fa_cat_loss: 0.7167 - val_fe_cat_accuracy: 0.9367 - val_fd_cat_accuracy: 0.7563 - val_fa_cat_accuracy: 0.7909\n",
            "\n",
            "Epoch 00110: val_loss did not improve from 1.56361\n",
            "Epoch 111/1000\n",
            "1031/1031 [==============================] - 2s 2ms/step - loss: 1.5784 - fe_cat_loss: 0.3080 - fd_cat_loss: 0.5546 - fa_cat_loss: 0.7158 - fe_cat_accuracy: 0.9364 - fd_cat_accuracy: 0.7695 - fa_cat_accuracy: 0.7848 - val_loss: 1.5682 - val_fe_cat_loss: 0.3035 - val_fd_cat_loss: 0.5407 - val_fa_cat_loss: 0.7240 - val_fe_cat_accuracy: 0.9345 - val_fd_cat_accuracy: 0.7806 - val_fa_cat_accuracy: 0.7574\n",
            "\n",
            "Epoch 00111: val_loss did not improve from 1.56361\n",
            "Epoch 112/1000\n",
            "1031/1031 [==============================] - 2s 2ms/step - loss: 1.5803 - fe_cat_loss: 0.3065 - fd_cat_loss: 0.5512 - fa_cat_loss: 0.7225 - fe_cat_accuracy: 0.9358 - fd_cat_accuracy: 0.7698 - fa_cat_accuracy: 0.7760 - val_loss: 1.5551 - val_fe_cat_loss: 0.3057 - val_fd_cat_loss: 0.5377 - val_fa_cat_loss: 0.7117 - val_fe_cat_accuracy: 0.9361 - val_fd_cat_accuracy: 0.7844 - val_fa_cat_accuracy: 0.7909\n",
            "\n",
            "Epoch 00112: val_loss improved from 1.56361 to 1.55506, saving model to /gdrive/My Drive/ML_Dataset/Qingchengbei/train-QCB-mix-cat-vn-ok2/mix-cat-epoch1000.h5\n",
            "Epoch 113/1000\n",
            "1031/1031 [==============================] - 2s 2ms/step - loss: 1.5735 - fe_cat_loss: 0.3044 - fd_cat_loss: 0.5470 - fa_cat_loss: 0.7222 - fe_cat_accuracy: 0.9345 - fd_cat_accuracy: 0.7697 - fa_cat_accuracy: 0.7818 - val_loss: 1.5732 - val_fe_cat_loss: 0.3109 - val_fd_cat_loss: 0.5475 - val_fa_cat_loss: 0.7148 - val_fe_cat_accuracy: 0.9176 - val_fd_cat_accuracy: 0.7451 - val_fa_cat_accuracy: 0.7907\n",
            "\n",
            "Epoch 00113: val_loss did not improve from 1.55506\n",
            "Epoch 114/1000\n",
            "1031/1031 [==============================] - 2s 2ms/step - loss: 1.5841 - fe_cat_loss: 0.3087 - fd_cat_loss: 0.5522 - fa_cat_loss: 0.7232 - fe_cat_accuracy: 0.9314 - fd_cat_accuracy: 0.7642 - fa_cat_accuracy: 0.7827 - val_loss: 1.5596 - val_fe_cat_loss: 0.3058 - val_fd_cat_loss: 0.5391 - val_fa_cat_loss: 0.7147 - val_fe_cat_accuracy: 0.9309 - val_fd_cat_accuracy: 0.7828 - val_fa_cat_accuracy: 0.7885\n",
            "\n",
            "Epoch 00114: val_loss did not improve from 1.55506\n",
            "Epoch 115/1000\n",
            "1031/1031 [==============================] - 2s 2ms/step - loss: 1.5620 - fe_cat_loss: 0.3000 - fd_cat_loss: 0.5428 - fa_cat_loss: 0.7192 - fe_cat_accuracy: 0.9342 - fd_cat_accuracy: 0.7770 - fa_cat_accuracy: 0.7897 - val_loss: 1.5596 - val_fe_cat_loss: 0.2989 - val_fd_cat_loss: 0.5424 - val_fa_cat_loss: 0.7183 - val_fe_cat_accuracy: 0.9359 - val_fd_cat_accuracy: 0.7576 - val_fa_cat_accuracy: 0.7566\n",
            "\n",
            "Epoch 00115: val_loss did not improve from 1.55506\n",
            "Epoch 116/1000\n",
            "1031/1031 [==============================] - 2s 2ms/step - loss: 1.5599 - fe_cat_loss: 0.3028 - fd_cat_loss: 0.5478 - fa_cat_loss: 0.7093 - fe_cat_accuracy: 0.9338 - fd_cat_accuracy: 0.7696 - fa_cat_accuracy: 0.7866 - val_loss: 1.5497 - val_fe_cat_loss: 0.2999 - val_fd_cat_loss: 0.5395 - val_fa_cat_loss: 0.7103 - val_fe_cat_accuracy: 0.9334 - val_fd_cat_accuracy: 0.7620 - val_fa_cat_accuracy: 0.8040\n",
            "\n",
            "Epoch 00116: val_loss improved from 1.55506 to 1.54970, saving model to /gdrive/My Drive/ML_Dataset/Qingchengbei/train-QCB-mix-cat-vn-ok2/mix-cat-epoch1000.h5\n",
            "Epoch 117/1000\n",
            "1031/1031 [==============================] - 2s 2ms/step - loss: 1.5549 - fe_cat_loss: 0.3042 - fd_cat_loss: 0.5429 - fa_cat_loss: 0.7078 - fe_cat_accuracy: 0.9352 - fd_cat_accuracy: 0.7737 - fa_cat_accuracy: 0.7861 - val_loss: 1.5526 - val_fe_cat_loss: 0.2968 - val_fd_cat_loss: 0.5351 - val_fa_cat_loss: 0.7207 - val_fe_cat_accuracy: 0.9350 - val_fd_cat_accuracy: 0.7787 - val_fa_cat_accuracy: 0.7754\n",
            "\n",
            "Epoch 00117: val_loss did not improve from 1.54970\n",
            "Epoch 118/1000\n",
            "1031/1031 [==============================] - 2s 2ms/step - loss: 1.5548 - fe_cat_loss: 0.2979 - fd_cat_loss: 0.5428 - fa_cat_loss: 0.7141 - fe_cat_accuracy: 0.9372 - fd_cat_accuracy: 0.7786 - fa_cat_accuracy: 0.7845 - val_loss: 1.5401 - val_fe_cat_loss: 0.2970 - val_fd_cat_loss: 0.5351 - val_fa_cat_loss: 0.7080 - val_fe_cat_accuracy: 0.9353 - val_fd_cat_accuracy: 0.7765 - val_fa_cat_accuracy: 0.7967\n",
            "\n",
            "Epoch 00118: val_loss improved from 1.54970 to 1.54006, saving model to /gdrive/My Drive/ML_Dataset/Qingchengbei/train-QCB-mix-cat-vn-ok2/mix-cat-epoch1000.h5\n",
            "Epoch 119/1000\n",
            "1031/1031 [==============================] - 2s 2ms/step - loss: 1.5538 - fe_cat_loss: 0.2955 - fd_cat_loss: 0.5422 - fa_cat_loss: 0.7160 - fe_cat_accuracy: 0.9370 - fd_cat_accuracy: 0.7763 - fa_cat_accuracy: 0.7812 - val_loss: 1.5431 - val_fe_cat_loss: 0.2981 - val_fd_cat_loss: 0.5395 - val_fa_cat_loss: 0.7054 - val_fe_cat_accuracy: 0.9323 - val_fd_cat_accuracy: 0.7781 - val_fa_cat_accuracy: 0.7989\n",
            "\n",
            "Epoch 00119: val_loss did not improve from 1.54006\n",
            "Epoch 120/1000\n",
            "1031/1031 [==============================] - 2s 2ms/step - loss: 1.5641 - fe_cat_loss: 0.2958 - fd_cat_loss: 0.5461 - fa_cat_loss: 0.7222 - fe_cat_accuracy: 0.9375 - fd_cat_accuracy: 0.7739 - fa_cat_accuracy: 0.7853 - val_loss: 1.5351 - val_fe_cat_loss: 0.2933 - val_fd_cat_loss: 0.5345 - val_fa_cat_loss: 0.7073 - val_fe_cat_accuracy: 0.9370 - val_fd_cat_accuracy: 0.7797 - val_fa_cat_accuracy: 0.7800\n",
            "\n",
            "Epoch 00120: val_loss improved from 1.54006 to 1.53509, saving model to /gdrive/My Drive/ML_Dataset/Qingchengbei/train-QCB-mix-cat-vn-ok2/mix-cat-epoch1000.h5\n",
            "Epoch 121/1000\n",
            "1031/1031 [==============================] - 2s 2ms/step - loss: 1.5528 - fe_cat_loss: 0.2939 - fd_cat_loss: 0.5437 - fa_cat_loss: 0.7152 - fe_cat_accuracy: 0.9394 - fd_cat_accuracy: 0.7763 - fa_cat_accuracy: 0.7868 - val_loss: 1.5349 - val_fe_cat_loss: 0.2925 - val_fd_cat_loss: 0.5332 - val_fa_cat_loss: 0.7091 - val_fe_cat_accuracy: 0.9370 - val_fd_cat_accuracy: 0.7767 - val_fa_cat_accuracy: 0.7926\n",
            "\n",
            "Epoch 00121: val_loss improved from 1.53509 to 1.53487, saving model to /gdrive/My Drive/ML_Dataset/Qingchengbei/train-QCB-mix-cat-vn-ok2/mix-cat-epoch1000.h5\n",
            "Epoch 122/1000\n",
            "1031/1031 [==============================] - 2s 2ms/step - loss: 1.5525 - fe_cat_loss: 0.2949 - fd_cat_loss: 0.5397 - fa_cat_loss: 0.7180 - fe_cat_accuracy: 0.9395 - fd_cat_accuracy: 0.7768 - fa_cat_accuracy: 0.7812 - val_loss: 1.5498 - val_fe_cat_loss: 0.2980 - val_fd_cat_loss: 0.5313 - val_fa_cat_loss: 0.7205 - val_fe_cat_accuracy: 0.9304 - val_fd_cat_accuracy: 0.7828 - val_fa_cat_accuracy: 0.7407\n",
            "\n",
            "Epoch 00122: val_loss did not improve from 1.53487\n",
            "Epoch 123/1000\n",
            "1031/1031 [==============================] - 2s 2ms/step - loss: 1.5527 - fe_cat_loss: 0.2942 - fd_cat_loss: 0.5440 - fa_cat_loss: 0.7145 - fe_cat_accuracy: 0.9368 - fd_cat_accuracy: 0.7785 - fa_cat_accuracy: 0.7837 - val_loss: 1.5298 - val_fe_cat_loss: 0.2924 - val_fd_cat_loss: 0.5336 - val_fa_cat_loss: 0.7038 - val_fe_cat_accuracy: 0.9334 - val_fd_cat_accuracy: 0.7830 - val_fa_cat_accuracy: 0.8010\n",
            "\n",
            "Epoch 00123: val_loss improved from 1.53487 to 1.52982, saving model to /gdrive/My Drive/ML_Dataset/Qingchengbei/train-QCB-mix-cat-vn-ok2/mix-cat-epoch1000.h5\n",
            "Epoch 124/1000\n",
            "1031/1031 [==============================] - 2s 2ms/step - loss: 1.5355 - fe_cat_loss: 0.2894 - fd_cat_loss: 0.5387 - fa_cat_loss: 0.7074 - fe_cat_accuracy: 0.9378 - fd_cat_accuracy: 0.7754 - fa_cat_accuracy: 0.7903 - val_loss: 1.5565 - val_fe_cat_loss: 0.2912 - val_fd_cat_loss: 0.5511 - val_fa_cat_loss: 0.7142 - val_fe_cat_accuracy: 0.9410 - val_fd_cat_accuracy: 0.7287 - val_fa_cat_accuracy: 0.7647\n",
            "\n",
            "Epoch 00124: val_loss did not improve from 1.52982\n",
            "Epoch 125/1000\n",
            "1031/1031 [==============================] - 2s 2ms/step - loss: 1.5389 - fe_cat_loss: 0.2892 - fd_cat_loss: 0.5430 - fa_cat_loss: 0.7067 - fe_cat_accuracy: 0.9372 - fd_cat_accuracy: 0.7715 - fa_cat_accuracy: 0.7872 - val_loss: 1.5273 - val_fe_cat_loss: 0.2931 - val_fd_cat_loss: 0.5356 - val_fa_cat_loss: 0.6985 - val_fe_cat_accuracy: 0.9326 - val_fd_cat_accuracy: 0.7694 - val_fa_cat_accuracy: 0.8076\n",
            "\n",
            "Epoch 00125: val_loss improved from 1.52982 to 1.52729, saving model to /gdrive/My Drive/ML_Dataset/Qingchengbei/train-QCB-mix-cat-vn-ok2/mix-cat-epoch1000.h5\n",
            "Epoch 126/1000\n",
            "1031/1031 [==============================] - 2s 2ms/step - loss: 1.5387 - fe_cat_loss: 0.2892 - fd_cat_loss: 0.5389 - fa_cat_loss: 0.7107 - fe_cat_accuracy: 0.9381 - fd_cat_accuracy: 0.7775 - fa_cat_accuracy: 0.7887 - val_loss: 1.5228 - val_fe_cat_loss: 0.2879 - val_fd_cat_loss: 0.5306 - val_fa_cat_loss: 0.7043 - val_fe_cat_accuracy: 0.9348 - val_fd_cat_accuracy: 0.7795 - val_fa_cat_accuracy: 0.7707\n",
            "\n",
            "Epoch 00126: val_loss improved from 1.52729 to 1.52278, saving model to /gdrive/My Drive/ML_Dataset/Qingchengbei/train-QCB-mix-cat-vn-ok2/mix-cat-epoch1000.h5\n",
            "Epoch 127/1000\n",
            "1031/1031 [==============================] - 2s 2ms/step - loss: 1.5501 - fe_cat_loss: 0.2958 - fd_cat_loss: 0.5401 - fa_cat_loss: 0.7143 - fe_cat_accuracy: 0.9360 - fd_cat_accuracy: 0.7781 - fa_cat_accuracy: 0.7839 - val_loss: 1.5249 - val_fe_cat_loss: 0.2954 - val_fd_cat_loss: 0.5291 - val_fa_cat_loss: 0.7004 - val_fe_cat_accuracy: 0.9340 - val_fd_cat_accuracy: 0.7822 - val_fa_cat_accuracy: 0.7939\n",
            "\n",
            "Epoch 00127: val_loss did not improve from 1.52278\n",
            "Epoch 128/1000\n",
            "1031/1031 [==============================] - 2s 2ms/step - loss: 1.5496 - fe_cat_loss: 0.2904 - fd_cat_loss: 0.5450 - fa_cat_loss: 0.7142 - fe_cat_accuracy: 0.9369 - fd_cat_accuracy: 0.7746 - fa_cat_accuracy: 0.7862 - val_loss: 1.5205 - val_fe_cat_loss: 0.2869 - val_fd_cat_loss: 0.5362 - val_fa_cat_loss: 0.6973 - val_fe_cat_accuracy: 0.9361 - val_fd_cat_accuracy: 0.7727 - val_fa_cat_accuracy: 0.8038\n",
            "\n",
            "Epoch 00128: val_loss improved from 1.52278 to 1.52051, saving model to /gdrive/My Drive/ML_Dataset/Qingchengbei/train-QCB-mix-cat-vn-ok2/mix-cat-epoch1000.h5\n",
            "Epoch 129/1000\n",
            "1031/1031 [==============================] - 2s 2ms/step - loss: 1.5402 - fe_cat_loss: 0.2895 - fd_cat_loss: 0.5378 - fa_cat_loss: 0.7129 - fe_cat_accuracy: 0.9373 - fd_cat_accuracy: 0.7786 - fa_cat_accuracy: 0.7858 - val_loss: 1.5209 - val_fe_cat_loss: 0.2897 - val_fd_cat_loss: 0.5300 - val_fa_cat_loss: 0.7012 - val_fe_cat_accuracy: 0.9419 - val_fd_cat_accuracy: 0.7901 - val_fa_cat_accuracy: 0.7877\n",
            "\n",
            "Epoch 00129: val_loss did not improve from 1.52051\n",
            "Epoch 130/1000\n",
            "1031/1031 [==============================] - 2s 2ms/step - loss: 1.5250 - fe_cat_loss: 0.2871 - fd_cat_loss: 0.5370 - fa_cat_loss: 0.7009 - fe_cat_accuracy: 0.9374 - fd_cat_accuracy: 0.7759 - fa_cat_accuracy: 0.7871 - val_loss: 1.5159 - val_fe_cat_loss: 0.2877 - val_fd_cat_loss: 0.5300 - val_fa_cat_loss: 0.6982 - val_fe_cat_accuracy: 0.9457 - val_fd_cat_accuracy: 0.7702 - val_fa_cat_accuracy: 0.7849\n",
            "\n",
            "Epoch 00130: val_loss improved from 1.52051 to 1.51591, saving model to /gdrive/My Drive/ML_Dataset/Qingchengbei/train-QCB-mix-cat-vn-ok2/mix-cat-epoch1000.h5\n",
            "Epoch 131/1000\n",
            "1031/1031 [==============================] - 2s 2ms/step - loss: 1.5350 - fe_cat_loss: 0.2863 - fd_cat_loss: 0.5400 - fa_cat_loss: 0.7087 - fe_cat_accuracy: 0.9390 - fd_cat_accuracy: 0.7764 - fa_cat_accuracy: 0.7841 - val_loss: 1.5329 - val_fe_cat_loss: 0.2868 - val_fd_cat_loss: 0.5488 - val_fa_cat_loss: 0.6974 - val_fe_cat_accuracy: 0.9391 - val_fd_cat_accuracy: 0.7388 - val_fa_cat_accuracy: 0.8024\n",
            "\n",
            "Epoch 00131: val_loss did not improve from 1.51591\n",
            "Epoch 132/1000\n",
            "1031/1031 [==============================] - 2s 2ms/step - loss: 1.5255 - fe_cat_loss: 0.2826 - fd_cat_loss: 0.5349 - fa_cat_loss: 0.7080 - fe_cat_accuracy: 0.9397 - fd_cat_accuracy: 0.7791 - fa_cat_accuracy: 0.7859 - val_loss: 1.5133 - val_fe_cat_loss: 0.2829 - val_fd_cat_loss: 0.5322 - val_fa_cat_loss: 0.6983 - val_fe_cat_accuracy: 0.9416 - val_fd_cat_accuracy: 0.7702 - val_fa_cat_accuracy: 0.7789\n",
            "\n",
            "Epoch 00132: val_loss improved from 1.51591 to 1.51333, saving model to /gdrive/My Drive/ML_Dataset/Qingchengbei/train-QCB-mix-cat-vn-ok2/mix-cat-epoch1000.h5\n",
            "Epoch 133/1000\n",
            "1031/1031 [==============================] - 2s 2ms/step - loss: 1.5197 - fe_cat_loss: 0.2845 - fd_cat_loss: 0.5361 - fa_cat_loss: 0.6992 - fe_cat_accuracy: 0.9370 - fd_cat_accuracy: 0.7756 - fa_cat_accuracy: 0.7889 - val_loss: 1.5127 - val_fe_cat_loss: 0.2876 - val_fd_cat_loss: 0.5277 - val_fa_cat_loss: 0.6974 - val_fe_cat_accuracy: 0.9359 - val_fd_cat_accuracy: 0.7759 - val_fa_cat_accuracy: 0.7918\n",
            "\n",
            "Epoch 00133: val_loss improved from 1.51333 to 1.51268, saving model to /gdrive/My Drive/ML_Dataset/Qingchengbei/train-QCB-mix-cat-vn-ok2/mix-cat-epoch1000.h5\n",
            "Epoch 134/1000\n",
            "1031/1031 [==============================] - 2s 2ms/step - loss: 1.5190 - fe_cat_loss: 0.2862 - fd_cat_loss: 0.5347 - fa_cat_loss: 0.6981 - fe_cat_accuracy: 0.9355 - fd_cat_accuracy: 0.7795 - fa_cat_accuracy: 0.7865 - val_loss: 1.5025 - val_fe_cat_loss: 0.2827 - val_fd_cat_loss: 0.5253 - val_fa_cat_loss: 0.6946 - val_fe_cat_accuracy: 0.9430 - val_fd_cat_accuracy: 0.7882 - val_fa_cat_accuracy: 0.7926\n",
            "\n",
            "Epoch 00134: val_loss improved from 1.51268 to 1.50255, saving model to /gdrive/My Drive/ML_Dataset/Qingchengbei/train-QCB-mix-cat-vn-ok2/mix-cat-epoch1000.h5\n",
            "Epoch 135/1000\n",
            "1031/1031 [==============================] - 2s 2ms/step - loss: 1.5191 - fe_cat_loss: 0.2818 - fd_cat_loss: 0.5374 - fa_cat_loss: 0.6998 - fe_cat_accuracy: 0.9405 - fd_cat_accuracy: 0.7798 - fa_cat_accuracy: 0.7875 - val_loss: 1.5030 - val_fe_cat_loss: 0.2841 - val_fd_cat_loss: 0.5263 - val_fa_cat_loss: 0.6926 - val_fe_cat_accuracy: 0.9342 - val_fd_cat_accuracy: 0.7847 - val_fa_cat_accuracy: 0.8144\n",
            "\n",
            "Epoch 00135: val_loss did not improve from 1.50255\n",
            "Epoch 136/1000\n",
            "1031/1031 [==============================] - 2s 2ms/step - loss: 1.5132 - fe_cat_loss: 0.2794 - fd_cat_loss: 0.5361 - fa_cat_loss: 0.6978 - fe_cat_accuracy: 0.9393 - fd_cat_accuracy: 0.7800 - fa_cat_accuracy: 0.7900 - val_loss: 1.5342 - val_fe_cat_loss: 0.2870 - val_fd_cat_loss: 0.5245 - val_fa_cat_loss: 0.7227 - val_fe_cat_accuracy: 0.9383 - val_fd_cat_accuracy: 0.7855 - val_fa_cat_accuracy: 0.7628\n",
            "\n",
            "Epoch 00136: val_loss did not improve from 1.50255\n",
            "Epoch 137/1000\n",
            "1031/1031 [==============================] - 2s 2ms/step - loss: 1.5122 - fe_cat_loss: 0.2802 - fd_cat_loss: 0.5354 - fa_cat_loss: 0.6966 - fe_cat_accuracy: 0.9389 - fd_cat_accuracy: 0.7746 - fa_cat_accuracy: 0.7860 - val_loss: 1.5065 - val_fe_cat_loss: 0.2817 - val_fd_cat_loss: 0.5258 - val_fa_cat_loss: 0.6990 - val_fe_cat_accuracy: 0.9318 - val_fd_cat_accuracy: 0.7718 - val_fa_cat_accuracy: 0.7789\n",
            "\n",
            "Epoch 00137: val_loss did not improve from 1.50255\n",
            "Epoch 138/1000\n",
            "1031/1031 [==============================] - 2s 2ms/step - loss: 1.5222 - fe_cat_loss: 0.2795 - fd_cat_loss: 0.5399 - fa_cat_loss: 0.7028 - fe_cat_accuracy: 0.9386 - fd_cat_accuracy: 0.7803 - fa_cat_accuracy: 0.7878 - val_loss: 1.5038 - val_fe_cat_loss: 0.2763 - val_fd_cat_loss: 0.5347 - val_fa_cat_loss: 0.6928 - val_fe_cat_accuracy: 0.9408 - val_fd_cat_accuracy: 0.7516 - val_fa_cat_accuracy: 0.8029\n",
            "\n",
            "Epoch 00138: val_loss did not improve from 1.50255\n",
            "Epoch 139/1000\n",
            "1031/1031 [==============================] - 2s 2ms/step - loss: 1.5158 - fe_cat_loss: 0.2791 - fd_cat_loss: 0.5350 - fa_cat_loss: 0.7017 - fe_cat_accuracy: 0.9398 - fd_cat_accuracy: 0.7777 - fa_cat_accuracy: 0.7864 - val_loss: 1.5084 - val_fe_cat_loss: 0.2757 - val_fd_cat_loss: 0.5297 - val_fa_cat_loss: 0.7031 - val_fe_cat_accuracy: 0.9449 - val_fd_cat_accuracy: 0.7658 - val_fa_cat_accuracy: 0.7705\n",
            "\n",
            "Epoch 00139: val_loss did not improve from 1.50255\n",
            "Epoch 140/1000\n",
            "1031/1031 [==============================] - 2s 2ms/step - loss: 1.5095 - fe_cat_loss: 0.2774 - fd_cat_loss: 0.5352 - fa_cat_loss: 0.6969 - fe_cat_accuracy: 0.9395 - fd_cat_accuracy: 0.7757 - fa_cat_accuracy: 0.7877 - val_loss: 1.4911 - val_fe_cat_loss: 0.2753 - val_fd_cat_loss: 0.5224 - val_fa_cat_loss: 0.6935 - val_fe_cat_accuracy: 0.9380 - val_fd_cat_accuracy: 0.7858 - val_fa_cat_accuracy: 0.7950\n",
            "\n",
            "Epoch 00140: val_loss improved from 1.50255 to 1.49113, saving model to /gdrive/My Drive/ML_Dataset/Qingchengbei/train-QCB-mix-cat-vn-ok2/mix-cat-epoch1000.h5\n",
            "Epoch 141/1000\n",
            "1031/1031 [==============================] - 2s 2ms/step - loss: 1.5030 - fe_cat_loss: 0.2753 - fd_cat_loss: 0.5331 - fa_cat_loss: 0.6946 - fe_cat_accuracy: 0.9397 - fd_cat_accuracy: 0.7782 - fa_cat_accuracy: 0.7838 - val_loss: 1.4896 - val_fe_cat_loss: 0.2748 - val_fd_cat_loss: 0.5242 - val_fa_cat_loss: 0.6906 - val_fe_cat_accuracy: 0.9419 - val_fd_cat_accuracy: 0.7721 - val_fa_cat_accuracy: 0.7901\n",
            "\n",
            "Epoch 00141: val_loss improved from 1.49113 to 1.48965, saving model to /gdrive/My Drive/ML_Dataset/Qingchengbei/train-QCB-mix-cat-vn-ok2/mix-cat-epoch1000.h5\n",
            "Epoch 142/1000\n",
            "1031/1031 [==============================] - 2s 2ms/step - loss: 1.5368 - fe_cat_loss: 0.2827 - fd_cat_loss: 0.5400 - fa_cat_loss: 0.7141 - fe_cat_accuracy: 0.9381 - fd_cat_accuracy: 0.7754 - fa_cat_accuracy: 0.7811 - val_loss: 1.4824 - val_fe_cat_loss: 0.2731 - val_fd_cat_loss: 0.5224 - val_fa_cat_loss: 0.6869 - val_fe_cat_accuracy: 0.9416 - val_fd_cat_accuracy: 0.7863 - val_fa_cat_accuracy: 0.8046\n",
            "\n",
            "Epoch 00142: val_loss improved from 1.48965 to 1.48243, saving model to /gdrive/My Drive/ML_Dataset/Qingchengbei/train-QCB-mix-cat-vn-ok2/mix-cat-epoch1000.h5\n",
            "Epoch 143/1000\n",
            "1031/1031 [==============================] - 2s 2ms/step - loss: 1.5037 - fe_cat_loss: 0.2788 - fd_cat_loss: 0.5331 - fa_cat_loss: 0.6918 - fe_cat_accuracy: 0.9403 - fd_cat_accuracy: 0.7833 - fa_cat_accuracy: 0.7909 - val_loss: 1.4869 - val_fe_cat_loss: 0.2743 - val_fd_cat_loss: 0.5240 - val_fa_cat_loss: 0.6886 - val_fe_cat_accuracy: 0.9389 - val_fd_cat_accuracy: 0.7787 - val_fa_cat_accuracy: 0.7847\n",
            "\n",
            "Epoch 00143: val_loss did not improve from 1.48243\n",
            "Epoch 144/1000\n",
            "1031/1031 [==============================] - 2s 2ms/step - loss: 1.4923 - fe_cat_loss: 0.2721 - fd_cat_loss: 0.5307 - fa_cat_loss: 0.6895 - fe_cat_accuracy: 0.9403 - fd_cat_accuracy: 0.7809 - fa_cat_accuracy: 0.7884 - val_loss: 1.4833 - val_fe_cat_loss: 0.2734 - val_fd_cat_loss: 0.5245 - val_fa_cat_loss: 0.6855 - val_fe_cat_accuracy: 0.9359 - val_fd_cat_accuracy: 0.7718 - val_fa_cat_accuracy: 0.8016\n",
            "\n",
            "Epoch 00144: val_loss did not improve from 1.48243\n",
            "Epoch 145/1000\n",
            "1031/1031 [==============================] - 2s 2ms/step - loss: 1.5012 - fe_cat_loss: 0.2745 - fd_cat_loss: 0.5335 - fa_cat_loss: 0.6932 - fe_cat_accuracy: 0.9396 - fd_cat_accuracy: 0.7756 - fa_cat_accuracy: 0.7886 - val_loss: 1.4902 - val_fe_cat_loss: 0.2784 - val_fd_cat_loss: 0.5232 - val_fa_cat_loss: 0.6886 - val_fe_cat_accuracy: 0.9408 - val_fd_cat_accuracy: 0.7814 - val_fa_cat_accuracy: 0.7934\n",
            "\n",
            "Epoch 00145: val_loss did not improve from 1.48243\n",
            "Epoch 146/1000\n",
            "1031/1031 [==============================] - 2s 2ms/step - loss: 1.4988 - fe_cat_loss: 0.2754 - fd_cat_loss: 0.5318 - fa_cat_loss: 0.6916 - fe_cat_accuracy: 0.9409 - fd_cat_accuracy: 0.7795 - fa_cat_accuracy: 0.7924 - val_loss: 1.4851 - val_fe_cat_loss: 0.2716 - val_fd_cat_loss: 0.5268 - val_fa_cat_loss: 0.6867 - val_fe_cat_accuracy: 0.9410 - val_fd_cat_accuracy: 0.7650 - val_fa_cat_accuracy: 0.8024\n",
            "\n",
            "Epoch 00146: val_loss did not improve from 1.48243\n",
            "Epoch 147/1000\n",
            "1031/1031 [==============================] - 2s 2ms/step - loss: 1.5030 - fe_cat_loss: 0.2775 - fd_cat_loss: 0.5325 - fa_cat_loss: 0.6930 - fe_cat_accuracy: 0.9383 - fd_cat_accuracy: 0.7776 - fa_cat_accuracy: 0.7927 - val_loss: 1.4885 - val_fe_cat_loss: 0.2718 - val_fd_cat_loss: 0.5253 - val_fa_cat_loss: 0.6914 - val_fe_cat_accuracy: 0.9361 - val_fd_cat_accuracy: 0.7645 - val_fa_cat_accuracy: 0.7688\n",
            "\n",
            "Epoch 00147: val_loss did not improve from 1.48243\n",
            "Epoch 148/1000\n",
            "1031/1031 [==============================] - 2s 2ms/step - loss: 1.4933 - fe_cat_loss: 0.2743 - fd_cat_loss: 0.5314 - fa_cat_loss: 0.6875 - fe_cat_accuracy: 0.9388 - fd_cat_accuracy: 0.7827 - fa_cat_accuracy: 0.7916 - val_loss: 1.4832 - val_fe_cat_loss: 0.2718 - val_fd_cat_loss: 0.5262 - val_fa_cat_loss: 0.6852 - val_fe_cat_accuracy: 0.9400 - val_fd_cat_accuracy: 0.7740 - val_fa_cat_accuracy: 0.8029\n",
            "\n",
            "Epoch 00148: val_loss did not improve from 1.48243\n",
            "Epoch 149/1000\n",
            "1031/1031 [==============================] - 2s 2ms/step - loss: 1.5019 - fe_cat_loss: 0.2681 - fd_cat_loss: 0.5326 - fa_cat_loss: 0.7012 - fe_cat_accuracy: 0.9428 - fd_cat_accuracy: 0.7785 - fa_cat_accuracy: 0.7825 - val_loss: 1.4815 - val_fe_cat_loss: 0.2702 - val_fd_cat_loss: 0.5253 - val_fa_cat_loss: 0.6860 - val_fe_cat_accuracy: 0.9419 - val_fd_cat_accuracy: 0.7866 - val_fa_cat_accuracy: 0.7852\n",
            "\n",
            "Epoch 00149: val_loss improved from 1.48243 to 1.48149, saving model to /gdrive/My Drive/ML_Dataset/Qingchengbei/train-QCB-mix-cat-vn-ok2/mix-cat-epoch1000.h5\n",
            "Epoch 150/1000\n",
            "1031/1031 [==============================] - 2s 2ms/step - loss: 1.4950 - fe_cat_loss: 0.2681 - fd_cat_loss: 0.5291 - fa_cat_loss: 0.6978 - fe_cat_accuracy: 0.9409 - fd_cat_accuracy: 0.7789 - fa_cat_accuracy: 0.7870 - val_loss: 1.4802 - val_fe_cat_loss: 0.2674 - val_fd_cat_loss: 0.5291 - val_fa_cat_loss: 0.6837 - val_fe_cat_accuracy: 0.9462 - val_fd_cat_accuracy: 0.7525 - val_fa_cat_accuracy: 0.7866\n",
            "\n",
            "Epoch 00150: val_loss improved from 1.48149 to 1.48020, saving model to /gdrive/My Drive/ML_Dataset/Qingchengbei/train-QCB-mix-cat-vn-ok2/mix-cat-epoch1000.h5\n",
            "Epoch 151/1000\n",
            "1031/1031 [==============================] - 2s 2ms/step - loss: 1.4904 - fe_cat_loss: 0.2703 - fd_cat_loss: 0.5304 - fa_cat_loss: 0.6898 - fe_cat_accuracy: 0.9425 - fd_cat_accuracy: 0.7774 - fa_cat_accuracy: 0.7860 - val_loss: 1.4952 - val_fe_cat_loss: 0.2738 - val_fd_cat_loss: 0.5318 - val_fa_cat_loss: 0.6897 - val_fe_cat_accuracy: 0.9340 - val_fd_cat_accuracy: 0.7497 - val_fa_cat_accuracy: 0.7959\n",
            "\n",
            "Epoch 00151: val_loss did not improve from 1.48020\n",
            "Epoch 152/1000\n",
            "1031/1031 [==============================] - 2s 2ms/step - loss: 1.4809 - fe_cat_loss: 0.2690 - fd_cat_loss: 0.5257 - fa_cat_loss: 0.6862 - fe_cat_accuracy: 0.9406 - fd_cat_accuracy: 0.7798 - fa_cat_accuracy: 0.7937 - val_loss: 1.4668 - val_fe_cat_loss: 0.2664 - val_fd_cat_loss: 0.5188 - val_fa_cat_loss: 0.6816 - val_fe_cat_accuracy: 0.9413 - val_fd_cat_accuracy: 0.7852 - val_fa_cat_accuracy: 0.8106\n",
            "\n",
            "Epoch 00152: val_loss improved from 1.48020 to 1.46678, saving model to /gdrive/My Drive/ML_Dataset/Qingchengbei/train-QCB-mix-cat-vn-ok2/mix-cat-epoch1000.h5\n",
            "Epoch 153/1000\n",
            "1031/1031 [==============================] - 2s 2ms/step - loss: 1.4972 - fe_cat_loss: 0.2633 - fd_cat_loss: 0.5341 - fa_cat_loss: 0.6997 - fe_cat_accuracy: 0.9426 - fd_cat_accuracy: 0.7746 - fa_cat_accuracy: 0.7849 - val_loss: 1.4814 - val_fe_cat_loss: 0.2668 - val_fd_cat_loss: 0.5235 - val_fa_cat_loss: 0.6912 - val_fe_cat_accuracy: 0.9476 - val_fd_cat_accuracy: 0.7871 - val_fa_cat_accuracy: 0.7683\n",
            "\n",
            "Epoch 00153: val_loss did not improve from 1.46678\n",
            "Epoch 154/1000\n",
            "1031/1031 [==============================] - 2s 2ms/step - loss: 1.4852 - fe_cat_loss: 0.2673 - fd_cat_loss: 0.5304 - fa_cat_loss: 0.6875 - fe_cat_accuracy: 0.9432 - fd_cat_accuracy: 0.7763 - fa_cat_accuracy: 0.7920 - val_loss: 1.4658 - val_fe_cat_loss: 0.2645 - val_fd_cat_loss: 0.5183 - val_fa_cat_loss: 0.6830 - val_fe_cat_accuracy: 0.9405 - val_fd_cat_accuracy: 0.7866 - val_fa_cat_accuracy: 0.8029\n",
            "\n",
            "Epoch 00154: val_loss improved from 1.46678 to 1.46584, saving model to /gdrive/My Drive/ML_Dataset/Qingchengbei/train-QCB-mix-cat-vn-ok2/mix-cat-epoch1000.h5\n",
            "Epoch 155/1000\n",
            "1031/1031 [==============================] - 2s 2ms/step - loss: 1.4798 - fe_cat_loss: 0.2649 - fd_cat_loss: 0.5288 - fa_cat_loss: 0.6861 - fe_cat_accuracy: 0.9439 - fd_cat_accuracy: 0.7817 - fa_cat_accuracy: 0.7916 - val_loss: 1.4669 - val_fe_cat_loss: 0.2638 - val_fd_cat_loss: 0.5221 - val_fa_cat_loss: 0.6810 - val_fe_cat_accuracy: 0.9451 - val_fd_cat_accuracy: 0.7724 - val_fa_cat_accuracy: 0.8046\n",
            "\n",
            "Epoch 00155: val_loss did not improve from 1.46584\n",
            "Epoch 156/1000\n",
            "1031/1031 [==============================] - 2s 2ms/step - loss: 1.4847 - fe_cat_loss: 0.2680 - fd_cat_loss: 0.5296 - fa_cat_loss: 0.6871 - fe_cat_accuracy: 0.9407 - fd_cat_accuracy: 0.7793 - fa_cat_accuracy: 0.7941 - val_loss: 1.4608 - val_fe_cat_loss: 0.2629 - val_fd_cat_loss: 0.5180 - val_fa_cat_loss: 0.6799 - val_fe_cat_accuracy: 0.9413 - val_fd_cat_accuracy: 0.7825 - val_fa_cat_accuracy: 0.8040\n",
            "\n",
            "Epoch 00156: val_loss improved from 1.46584 to 1.46082, saving model to /gdrive/My Drive/ML_Dataset/Qingchengbei/train-QCB-mix-cat-vn-ok2/mix-cat-epoch1000.h5\n",
            "Epoch 157/1000\n",
            "1031/1031 [==============================] - 2s 2ms/step - loss: 1.4741 - fe_cat_loss: 0.2649 - fd_cat_loss: 0.5262 - fa_cat_loss: 0.6831 - fe_cat_accuracy: 0.9413 - fd_cat_accuracy: 0.7823 - fa_cat_accuracy: 0.7917 - val_loss: 1.4623 - val_fe_cat_loss: 0.2635 - val_fd_cat_loss: 0.5219 - val_fa_cat_loss: 0.6769 - val_fe_cat_accuracy: 0.9443 - val_fd_cat_accuracy: 0.7814 - val_fa_cat_accuracy: 0.8125\n",
            "\n",
            "Epoch 00157: val_loss did not improve from 1.46082\n",
            "Epoch 158/1000\n",
            "1031/1031 [==============================] - 2s 2ms/step - loss: 1.4813 - fe_cat_loss: 0.2660 - fd_cat_loss: 0.5264 - fa_cat_loss: 0.6889 - fe_cat_accuracy: 0.9413 - fd_cat_accuracy: 0.7788 - fa_cat_accuracy: 0.7914 - val_loss: 1.4616 - val_fe_cat_loss: 0.2629 - val_fd_cat_loss: 0.5176 - val_fa_cat_loss: 0.6810 - val_fe_cat_accuracy: 0.9430 - val_fd_cat_accuracy: 0.7868 - val_fa_cat_accuracy: 0.8021\n",
            "\n",
            "Epoch 00158: val_loss did not improve from 1.46082\n",
            "Epoch 159/1000\n",
            "1031/1031 [==============================] - 2s 2ms/step - loss: 1.4786 - fe_cat_loss: 0.2630 - fd_cat_loss: 0.5289 - fa_cat_loss: 0.6868 - fe_cat_accuracy: 0.9437 - fd_cat_accuracy: 0.7766 - fa_cat_accuracy: 0.7880 - val_loss: 1.4554 - val_fe_cat_loss: 0.2615 - val_fd_cat_loss: 0.5175 - val_fa_cat_loss: 0.6763 - val_fe_cat_accuracy: 0.9462 - val_fd_cat_accuracy: 0.7773 - val_fa_cat_accuracy: 0.7983\n",
            "\n",
            "Epoch 00159: val_loss improved from 1.46082 to 1.45537, saving model to /gdrive/My Drive/ML_Dataset/Qingchengbei/train-QCB-mix-cat-vn-ok2/mix-cat-epoch1000.h5\n",
            "Epoch 160/1000\n",
            "1031/1031 [==============================] - 2s 2ms/step - loss: 1.4853 - fe_cat_loss: 0.2657 - fd_cat_loss: 0.5264 - fa_cat_loss: 0.6932 - fe_cat_accuracy: 0.9414 - fd_cat_accuracy: 0.7799 - fa_cat_accuracy: 0.7863 - val_loss: 1.4662 - val_fe_cat_loss: 0.2635 - val_fd_cat_loss: 0.5230 - val_fa_cat_loss: 0.6798 - val_fe_cat_accuracy: 0.9419 - val_fd_cat_accuracy: 0.7579 - val_fa_cat_accuracy: 0.7959\n",
            "\n",
            "Epoch 00160: val_loss did not improve from 1.45537\n",
            "Epoch 161/1000\n",
            "1031/1031 [==============================] - 2s 2ms/step - loss: 1.4638 - fe_cat_loss: 0.2608 - fd_cat_loss: 0.5253 - fa_cat_loss: 0.6777 - fe_cat_accuracy: 0.9435 - fd_cat_accuracy: 0.7794 - fa_cat_accuracy: 0.7898 - val_loss: 1.4553 - val_fe_cat_loss: 0.2614 - val_fd_cat_loss: 0.5193 - val_fa_cat_loss: 0.6746 - val_fe_cat_accuracy: 0.9449 - val_fd_cat_accuracy: 0.7795 - val_fa_cat_accuracy: 0.7991\n",
            "\n",
            "Epoch 00161: val_loss improved from 1.45537 to 1.45525, saving model to /gdrive/My Drive/ML_Dataset/Qingchengbei/train-QCB-mix-cat-vn-ok2/mix-cat-epoch1000.h5\n",
            "Epoch 162/1000\n",
            "1031/1031 [==============================] - 2s 2ms/step - loss: 1.4794 - fe_cat_loss: 0.2670 - fd_cat_loss: 0.5282 - fa_cat_loss: 0.6842 - fe_cat_accuracy: 0.9392 - fd_cat_accuracy: 0.7806 - fa_cat_accuracy: 0.7916 - val_loss: 1.4609 - val_fe_cat_loss: 0.2624 - val_fd_cat_loss: 0.5240 - val_fa_cat_loss: 0.6745 - val_fe_cat_accuracy: 0.9370 - val_fd_cat_accuracy: 0.7544 - val_fa_cat_accuracy: 0.8095\n",
            "\n",
            "Epoch 00162: val_loss did not improve from 1.45525\n",
            "Epoch 163/1000\n",
            "1031/1031 [==============================] - 2s 2ms/step - loss: 1.4692 - fe_cat_loss: 0.2583 - fd_cat_loss: 0.5278 - fa_cat_loss: 0.6831 - fe_cat_accuracy: 0.9453 - fd_cat_accuracy: 0.7802 - fa_cat_accuracy: 0.7899 - val_loss: 1.4527 - val_fe_cat_loss: 0.2586 - val_fd_cat_loss: 0.5165 - val_fa_cat_loss: 0.6775 - val_fe_cat_accuracy: 0.9413 - val_fd_cat_accuracy: 0.7748 - val_fa_cat_accuracy: 0.8059\n",
            "\n",
            "Epoch 00163: val_loss improved from 1.45525 to 1.45266, saving model to /gdrive/My Drive/ML_Dataset/Qingchengbei/train-QCB-mix-cat-vn-ok2/mix-cat-epoch1000.h5\n",
            "Epoch 164/1000\n",
            "1031/1031 [==============================] - 2s 2ms/step - loss: 1.4618 - fe_cat_loss: 0.2561 - fd_cat_loss: 0.5191 - fa_cat_loss: 0.6866 - fe_cat_accuracy: 0.9458 - fd_cat_accuracy: 0.7839 - fa_cat_accuracy: 0.7888 - val_loss: 1.4579 - val_fe_cat_loss: 0.2616 - val_fd_cat_loss: 0.5178 - val_fa_cat_loss: 0.6786 - val_fe_cat_accuracy: 0.9479 - val_fd_cat_accuracy: 0.7773 - val_fa_cat_accuracy: 0.7841\n",
            "\n",
            "Epoch 00164: val_loss did not improve from 1.45266\n",
            "Epoch 165/1000\n",
            "1031/1031 [==============================] - 2s 2ms/step - loss: 1.4649 - fe_cat_loss: 0.2617 - fd_cat_loss: 0.5254 - fa_cat_loss: 0.6778 - fe_cat_accuracy: 0.9417 - fd_cat_accuracy: 0.7802 - fa_cat_accuracy: 0.7938 - val_loss: 1.4477 - val_fe_cat_loss: 0.2596 - val_fd_cat_loss: 0.5157 - val_fa_cat_loss: 0.6723 - val_fe_cat_accuracy: 0.9443 - val_fd_cat_accuracy: 0.7828 - val_fa_cat_accuracy: 0.7959\n",
            "\n",
            "Epoch 00165: val_loss improved from 1.45266 to 1.44771, saving model to /gdrive/My Drive/ML_Dataset/Qingchengbei/train-QCB-mix-cat-vn-ok2/mix-cat-epoch1000.h5\n",
            "Epoch 166/1000\n",
            "1031/1031 [==============================] - 2s 2ms/step - loss: 1.4564 - fe_cat_loss: 0.2597 - fd_cat_loss: 0.5202 - fa_cat_loss: 0.6766 - fe_cat_accuracy: 0.9425 - fd_cat_accuracy: 0.7820 - fa_cat_accuracy: 0.7929 - val_loss: 1.4495 - val_fe_cat_loss: 0.2575 - val_fd_cat_loss: 0.5178 - val_fa_cat_loss: 0.6741 - val_fe_cat_accuracy: 0.9405 - val_fd_cat_accuracy: 0.7707 - val_fa_cat_accuracy: 0.8046\n",
            "\n",
            "Epoch 00166: val_loss did not improve from 1.44771\n",
            "Epoch 167/1000\n",
            "1031/1031 [==============================] - 2s 2ms/step - loss: 1.4653 - fe_cat_loss: 0.2621 - fd_cat_loss: 0.5223 - fa_cat_loss: 0.6809 - fe_cat_accuracy: 0.9417 - fd_cat_accuracy: 0.7864 - fa_cat_accuracy: 0.7905 - val_loss: 1.4485 - val_fe_cat_loss: 0.2567 - val_fd_cat_loss: 0.5189 - val_fa_cat_loss: 0.6729 - val_fe_cat_accuracy: 0.9419 - val_fd_cat_accuracy: 0.7751 - val_fa_cat_accuracy: 0.7915\n",
            "\n",
            "Epoch 00167: val_loss did not improve from 1.44771\n",
            "Epoch 168/1000\n",
            "1031/1031 [==============================] - 2s 2ms/step - loss: 1.4576 - fe_cat_loss: 0.2563 - fd_cat_loss: 0.5234 - fa_cat_loss: 0.6778 - fe_cat_accuracy: 0.9434 - fd_cat_accuracy: 0.7834 - fa_cat_accuracy: 0.7897 - val_loss: 1.4413 - val_fe_cat_loss: 0.2577 - val_fd_cat_loss: 0.5130 - val_fa_cat_loss: 0.6706 - val_fe_cat_accuracy: 0.9451 - val_fd_cat_accuracy: 0.7923 - val_fa_cat_accuracy: 0.8057\n",
            "\n",
            "Epoch 00168: val_loss improved from 1.44771 to 1.44133, saving model to /gdrive/My Drive/ML_Dataset/Qingchengbei/train-QCB-mix-cat-vn-ok2/mix-cat-epoch1000.h5\n",
            "Epoch 169/1000\n",
            "1031/1031 [==============================] - 2s 2ms/step - loss: 1.4662 - fe_cat_loss: 0.2607 - fd_cat_loss: 0.5213 - fa_cat_loss: 0.6842 - fe_cat_accuracy: 0.9429 - fd_cat_accuracy: 0.7842 - fa_cat_accuracy: 0.7876 - val_loss: 1.4403 - val_fe_cat_loss: 0.2558 - val_fd_cat_loss: 0.5133 - val_fa_cat_loss: 0.6713 - val_fe_cat_accuracy: 0.9430 - val_fd_cat_accuracy: 0.7885 - val_fa_cat_accuracy: 0.7918\n",
            "\n",
            "Epoch 00169: val_loss improved from 1.44133 to 1.44035, saving model to /gdrive/My Drive/ML_Dataset/Qingchengbei/train-QCB-mix-cat-vn-ok2/mix-cat-epoch1000.h5\n",
            "Epoch 170/1000\n",
            "1031/1031 [==============================] - 2s 2ms/step - loss: 1.4566 - fe_cat_loss: 0.2599 - fd_cat_loss: 0.5239 - fa_cat_loss: 0.6728 - fe_cat_accuracy: 0.9427 - fd_cat_accuracy: 0.7818 - fa_cat_accuracy: 0.7984 - val_loss: 1.4455 - val_fe_cat_loss: 0.2574 - val_fd_cat_loss: 0.5167 - val_fa_cat_loss: 0.6714 - val_fe_cat_accuracy: 0.9443 - val_fd_cat_accuracy: 0.7746 - val_fa_cat_accuracy: 0.8038\n",
            "\n",
            "Epoch 00170: val_loss did not improve from 1.44035\n",
            "Epoch 171/1000\n",
            "1031/1031 [==============================] - 2s 2ms/step - loss: 1.4525 - fe_cat_loss: 0.2546 - fd_cat_loss: 0.5230 - fa_cat_loss: 0.6748 - fe_cat_accuracy: 0.9457 - fd_cat_accuracy: 0.7790 - fa_cat_accuracy: 0.7903 - val_loss: 1.4428 - val_fe_cat_loss: 0.2588 - val_fd_cat_loss: 0.5126 - val_fa_cat_loss: 0.6714 - val_fe_cat_accuracy: 0.9441 - val_fd_cat_accuracy: 0.7888 - val_fa_cat_accuracy: 0.8068\n",
            "\n",
            "Epoch 00171: val_loss did not improve from 1.44035\n",
            "Epoch 172/1000\n",
            "1031/1031 [==============================] - 2s 2ms/step - loss: 1.4648 - fe_cat_loss: 0.2575 - fd_cat_loss: 0.5247 - fa_cat_loss: 0.6826 - fe_cat_accuracy: 0.9430 - fd_cat_accuracy: 0.7787 - fa_cat_accuracy: 0.7929 - val_loss: 1.4452 - val_fe_cat_loss: 0.2640 - val_fd_cat_loss: 0.5116 - val_fa_cat_loss: 0.6695 - val_fe_cat_accuracy: 0.9342 - val_fd_cat_accuracy: 0.7863 - val_fa_cat_accuracy: 0.8049\n",
            "\n",
            "Epoch 00172: val_loss did not improve from 1.44035\n",
            "Epoch 173/1000\n",
            "1031/1031 [==============================] - 2s 2ms/step - loss: 1.4569 - fe_cat_loss: 0.2547 - fd_cat_loss: 0.5217 - fa_cat_loss: 0.6805 - fe_cat_accuracy: 0.9445 - fd_cat_accuracy: 0.7802 - fa_cat_accuracy: 0.7925 - val_loss: 1.4439 - val_fe_cat_loss: 0.2544 - val_fd_cat_loss: 0.5125 - val_fa_cat_loss: 0.6769 - val_fe_cat_accuracy: 0.9473 - val_fd_cat_accuracy: 0.7893 - val_fa_cat_accuracy: 0.7727\n",
            "\n",
            "Epoch 00173: val_loss did not improve from 1.44035\n",
            "Epoch 174/1000\n",
            "1031/1031 [==============================] - 2s 2ms/step - loss: 1.4608 - fe_cat_loss: 0.2537 - fd_cat_loss: 0.5260 - fa_cat_loss: 0.6812 - fe_cat_accuracy: 0.9439 - fd_cat_accuracy: 0.7787 - fa_cat_accuracy: 0.7911 - val_loss: 1.4391 - val_fe_cat_loss: 0.2526 - val_fd_cat_loss: 0.5118 - val_fa_cat_loss: 0.6747 - val_fe_cat_accuracy: 0.9457 - val_fd_cat_accuracy: 0.7855 - val_fa_cat_accuracy: 0.7901\n",
            "\n",
            "Epoch 00174: val_loss improved from 1.44035 to 1.43911, saving model to /gdrive/My Drive/ML_Dataset/Qingchengbei/train-QCB-mix-cat-vn-ok2/mix-cat-epoch1000.h5\n",
            "Epoch 175/1000\n",
            "1031/1031 [==============================] - 2s 2ms/step - loss: 1.4613 - fe_cat_loss: 0.2582 - fd_cat_loss: 0.5239 - fa_cat_loss: 0.6792 - fe_cat_accuracy: 0.9445 - fd_cat_accuracy: 0.7805 - fa_cat_accuracy: 0.7876 - val_loss: 1.4371 - val_fe_cat_loss: 0.2512 - val_fd_cat_loss: 0.5121 - val_fa_cat_loss: 0.6738 - val_fe_cat_accuracy: 0.9462 - val_fd_cat_accuracy: 0.7732 - val_fa_cat_accuracy: 0.7847\n",
            "\n",
            "Epoch 00175: val_loss improved from 1.43911 to 1.43709, saving model to /gdrive/My Drive/ML_Dataset/Qingchengbei/train-QCB-mix-cat-vn-ok2/mix-cat-epoch1000.h5\n",
            "Epoch 176/1000\n",
            "1031/1031 [==============================] - 2s 2ms/step - loss: 1.4597 - fe_cat_loss: 0.2607 - fd_cat_loss: 0.5236 - fa_cat_loss: 0.6754 - fe_cat_accuracy: 0.9429 - fd_cat_accuracy: 0.7770 - fa_cat_accuracy: 0.7872 - val_loss: 1.4430 - val_fe_cat_loss: 0.2533 - val_fd_cat_loss: 0.5111 - val_fa_cat_loss: 0.6786 - val_fe_cat_accuracy: 0.9421 - val_fd_cat_accuracy: 0.7893 - val_fa_cat_accuracy: 0.7784\n",
            "\n",
            "Epoch 00176: val_loss did not improve from 1.43709\n",
            "Epoch 177/1000\n",
            "1031/1031 [==============================] - 2s 2ms/step - loss: 1.4577 - fe_cat_loss: 0.2575 - fd_cat_loss: 0.5239 - fa_cat_loss: 0.6762 - fe_cat_accuracy: 0.9437 - fd_cat_accuracy: 0.7826 - fa_cat_accuracy: 0.7883 - val_loss: 1.4410 - val_fe_cat_loss: 0.2510 - val_fd_cat_loss: 0.5164 - val_fa_cat_loss: 0.6735 - val_fe_cat_accuracy: 0.9438 - val_fd_cat_accuracy: 0.7620 - val_fa_cat_accuracy: 0.7808\n",
            "\n",
            "Epoch 00177: val_loss did not improve from 1.43709\n",
            "Epoch 178/1000\n",
            "1031/1031 [==============================] - 2s 2ms/step - loss: 1.4538 - fe_cat_loss: 0.2557 - fd_cat_loss: 0.5242 - fa_cat_loss: 0.6740 - fe_cat_accuracy: 0.9432 - fd_cat_accuracy: 0.7811 - fa_cat_accuracy: 0.7917 - val_loss: 1.4285 - val_fe_cat_loss: 0.2508 - val_fd_cat_loss: 0.5132 - val_fa_cat_loss: 0.6646 - val_fe_cat_accuracy: 0.9441 - val_fd_cat_accuracy: 0.7858 - val_fa_cat_accuracy: 0.8046\n",
            "\n",
            "Epoch 00178: val_loss improved from 1.43709 to 1.42851, saving model to /gdrive/My Drive/ML_Dataset/Qingchengbei/train-QCB-mix-cat-vn-ok2/mix-cat-epoch1000.h5\n",
            "Epoch 179/1000\n",
            "1031/1031 [==============================] - 2s 2ms/step - loss: 1.4502 - fe_cat_loss: 0.2575 - fd_cat_loss: 0.5188 - fa_cat_loss: 0.6740 - fe_cat_accuracy: 0.9427 - fd_cat_accuracy: 0.7857 - fa_cat_accuracy: 0.7928 - val_loss: 1.4382 - val_fe_cat_loss: 0.2494 - val_fd_cat_loss: 0.5154 - val_fa_cat_loss: 0.6734 - val_fe_cat_accuracy: 0.9465 - val_fd_cat_accuracy: 0.7868 - val_fa_cat_accuracy: 0.7948\n",
            "\n",
            "Epoch 00179: val_loss did not improve from 1.42851\n",
            "Epoch 180/1000\n",
            "1031/1031 [==============================] - 2s 2ms/step - loss: 1.4482 - fe_cat_loss: 0.2520 - fd_cat_loss: 0.5202 - fa_cat_loss: 0.6760 - fe_cat_accuracy: 0.9439 - fd_cat_accuracy: 0.7852 - fa_cat_accuracy: 0.7934 - val_loss: 1.4356 - val_fe_cat_loss: 0.2505 - val_fd_cat_loss: 0.5105 - val_fa_cat_loss: 0.6747 - val_fe_cat_accuracy: 0.9405 - val_fd_cat_accuracy: 0.7945 - val_fa_cat_accuracy: 0.7898\n",
            "\n",
            "Epoch 00180: val_loss did not improve from 1.42851\n",
            "Epoch 181/1000\n",
            "1031/1031 [==============================] - 2s 2ms/step - loss: 1.4473 - fe_cat_loss: 0.2485 - fd_cat_loss: 0.5269 - fa_cat_loss: 0.6719 - fe_cat_accuracy: 0.9462 - fd_cat_accuracy: 0.7819 - fa_cat_accuracy: 0.7887 - val_loss: 1.4303 - val_fe_cat_loss: 0.2496 - val_fd_cat_loss: 0.5134 - val_fa_cat_loss: 0.6673 - val_fe_cat_accuracy: 0.9424 - val_fd_cat_accuracy: 0.7762 - val_fa_cat_accuracy: 0.7874\n",
            "\n",
            "Epoch 00181: val_loss did not improve from 1.42851\n",
            "Epoch 182/1000\n",
            "1031/1031 [==============================] - 2s 2ms/step - loss: 1.4532 - fe_cat_loss: 0.2566 - fd_cat_loss: 0.5228 - fa_cat_loss: 0.6739 - fe_cat_accuracy: 0.9423 - fd_cat_accuracy: 0.7791 - fa_cat_accuracy: 0.7944 - val_loss: 1.4253 - val_fe_cat_loss: 0.2476 - val_fd_cat_loss: 0.5090 - val_fa_cat_loss: 0.6686 - val_fe_cat_accuracy: 0.9465 - val_fd_cat_accuracy: 0.7918 - val_fa_cat_accuracy: 0.7896\n",
            "\n",
            "Epoch 00182: val_loss improved from 1.42851 to 1.42528, saving model to /gdrive/My Drive/ML_Dataset/Qingchengbei/train-QCB-mix-cat-vn-ok2/mix-cat-epoch1000.h5\n",
            "Epoch 183/1000\n",
            "1031/1031 [==============================] - 2s 2ms/step - loss: 1.4459 - fe_cat_loss: 0.2499 - fd_cat_loss: 0.5206 - fa_cat_loss: 0.6754 - fe_cat_accuracy: 0.9433 - fd_cat_accuracy: 0.7841 - fa_cat_accuracy: 0.7897 - val_loss: 1.4234 - val_fe_cat_loss: 0.2501 - val_fd_cat_loss: 0.5114 - val_fa_cat_loss: 0.6619 - val_fe_cat_accuracy: 0.9419 - val_fd_cat_accuracy: 0.7877 - val_fa_cat_accuracy: 0.8106\n",
            "\n",
            "Epoch 00183: val_loss improved from 1.42528 to 1.42338, saving model to /gdrive/My Drive/ML_Dataset/Qingchengbei/train-QCB-mix-cat-vn-ok2/mix-cat-epoch1000.h5\n",
            "Epoch 184/1000\n",
            "1031/1031 [==============================] - 2s 2ms/step - loss: 1.4408 - fe_cat_loss: 0.2501 - fd_cat_loss: 0.5194 - fa_cat_loss: 0.6713 - fe_cat_accuracy: 0.9448 - fd_cat_accuracy: 0.7834 - fa_cat_accuracy: 0.7948 - val_loss: 1.4216 - val_fe_cat_loss: 0.2480 - val_fd_cat_loss: 0.5118 - val_fa_cat_loss: 0.6619 - val_fe_cat_accuracy: 0.9435 - val_fd_cat_accuracy: 0.7686 - val_fa_cat_accuracy: 0.8111\n",
            "\n",
            "Epoch 00184: val_loss improved from 1.42338 to 1.42161, saving model to /gdrive/My Drive/ML_Dataset/Qingchengbei/train-QCB-mix-cat-vn-ok2/mix-cat-epoch1000.h5\n",
            "Epoch 185/1000\n",
            "1031/1031 [==============================] - 2s 2ms/step - loss: 1.4434 - fe_cat_loss: 0.2508 - fd_cat_loss: 0.5211 - fa_cat_loss: 0.6715 - fe_cat_accuracy: 0.9450 - fd_cat_accuracy: 0.7802 - fa_cat_accuracy: 0.7895 - val_loss: 1.4182 - val_fe_cat_loss: 0.2466 - val_fd_cat_loss: 0.5115 - val_fa_cat_loss: 0.6601 - val_fe_cat_accuracy: 0.9449 - val_fd_cat_accuracy: 0.7871 - val_fa_cat_accuracy: 0.8076\n",
            "\n",
            "Epoch 00185: val_loss improved from 1.42161 to 1.41819, saving model to /gdrive/My Drive/ML_Dataset/Qingchengbei/train-QCB-mix-cat-vn-ok2/mix-cat-epoch1000.h5\n",
            "Epoch 186/1000\n",
            "1031/1031 [==============================] - 2s 2ms/step - loss: 1.4385 - fe_cat_loss: 0.2488 - fd_cat_loss: 0.5198 - fa_cat_loss: 0.6699 - fe_cat_accuracy: 0.9459 - fd_cat_accuracy: 0.7840 - fa_cat_accuracy: 0.7911 - val_loss: 1.4189 - val_fe_cat_loss: 0.2461 - val_fd_cat_loss: 0.5110 - val_fa_cat_loss: 0.6618 - val_fe_cat_accuracy: 0.9451 - val_fd_cat_accuracy: 0.7803 - val_fa_cat_accuracy: 0.8057\n",
            "\n",
            "Epoch 00186: val_loss did not improve from 1.41819\n",
            "Epoch 187/1000\n",
            "1031/1031 [==============================] - 2s 2ms/step - loss: 1.4352 - fe_cat_loss: 0.2456 - fd_cat_loss: 0.5176 - fa_cat_loss: 0.6720 - fe_cat_accuracy: 0.9483 - fd_cat_accuracy: 0.7855 - fa_cat_accuracy: 0.7924 - val_loss: 1.4158 - val_fe_cat_loss: 0.2456 - val_fd_cat_loss: 0.5106 - val_fa_cat_loss: 0.6596 - val_fe_cat_accuracy: 0.9438 - val_fd_cat_accuracy: 0.7830 - val_fa_cat_accuracy: 0.8084\n",
            "\n",
            "Epoch 00187: val_loss improved from 1.41819 to 1.41580, saving model to /gdrive/My Drive/ML_Dataset/Qingchengbei/train-QCB-mix-cat-vn-ok2/mix-cat-epoch1000.h5\n",
            "Epoch 188/1000\n",
            "1031/1031 [==============================] - 2s 2ms/step - loss: 1.4305 - fe_cat_loss: 0.2439 - fd_cat_loss: 0.5174 - fa_cat_loss: 0.6692 - fe_cat_accuracy: 0.9461 - fd_cat_accuracy: 0.7830 - fa_cat_accuracy: 0.7928 - val_loss: 1.4298 - val_fe_cat_loss: 0.2452 - val_fd_cat_loss: 0.5162 - val_fa_cat_loss: 0.6684 - val_fe_cat_accuracy: 0.9451 - val_fd_cat_accuracy: 0.7598 - val_fa_cat_accuracy: 0.7934\n",
            "\n",
            "Epoch 00188: val_loss did not improve from 1.41580\n",
            "Epoch 189/1000\n",
            "1031/1031 [==============================] - 2s 2ms/step - loss: 1.4297 - fe_cat_loss: 0.2469 - fd_cat_loss: 0.5146 - fa_cat_loss: 0.6682 - fe_cat_accuracy: 0.9450 - fd_cat_accuracy: 0.7846 - fa_cat_accuracy: 0.7880 - val_loss: 1.4267 - val_fe_cat_loss: 0.2444 - val_fd_cat_loss: 0.5124 - val_fa_cat_loss: 0.6699 - val_fe_cat_accuracy: 0.9457 - val_fd_cat_accuracy: 0.7789 - val_fa_cat_accuracy: 0.7803\n",
            "\n",
            "Epoch 00189: val_loss did not improve from 1.41580\n",
            "Epoch 190/1000\n",
            "1031/1031 [==============================] - 2s 2ms/step - loss: 1.4247 - fe_cat_loss: 0.2419 - fd_cat_loss: 0.5130 - fa_cat_loss: 0.6698 - fe_cat_accuracy: 0.9465 - fd_cat_accuracy: 0.7859 - fa_cat_accuracy: 0.7886 - val_loss: 1.4338 - val_fe_cat_loss: 0.2493 - val_fd_cat_loss: 0.5203 - val_fa_cat_loss: 0.6643 - val_fe_cat_accuracy: 0.9383 - val_fd_cat_accuracy: 0.7445 - val_fa_cat_accuracy: 0.7904\n",
            "\n",
            "Epoch 00190: val_loss did not improve from 1.41580\n",
            "Epoch 191/1000\n",
            "1031/1031 [==============================] - 2s 2ms/step - loss: 1.4249 - fe_cat_loss: 0.2432 - fd_cat_loss: 0.5118 - fa_cat_loss: 0.6700 - fe_cat_accuracy: 0.9467 - fd_cat_accuracy: 0.7879 - fa_cat_accuracy: 0.7898 - val_loss: 1.4126 - val_fe_cat_loss: 0.2476 - val_fd_cat_loss: 0.5068 - val_fa_cat_loss: 0.6582 - val_fe_cat_accuracy: 0.9432 - val_fd_cat_accuracy: 0.7874 - val_fa_cat_accuracy: 0.8059\n",
            "\n",
            "Epoch 00191: val_loss improved from 1.41580 to 1.41265, saving model to /gdrive/My Drive/ML_Dataset/Qingchengbei/train-QCB-mix-cat-vn-ok2/mix-cat-epoch1000.h5\n",
            "Epoch 192/1000\n",
            "1031/1031 [==============================] - 2s 2ms/step - loss: 1.4223 - fe_cat_loss: 0.2460 - fd_cat_loss: 0.5138 - fa_cat_loss: 0.6626 - fe_cat_accuracy: 0.9460 - fd_cat_accuracy: 0.7796 - fa_cat_accuracy: 0.7942 - val_loss: 1.4247 - val_fe_cat_loss: 0.2471 - val_fd_cat_loss: 0.5117 - val_fa_cat_loss: 0.6659 - val_fe_cat_accuracy: 0.9441 - val_fd_cat_accuracy: 0.7721 - val_fa_cat_accuracy: 0.7877\n",
            "\n",
            "Epoch 00192: val_loss did not improve from 1.41265\n",
            "Epoch 193/1000\n",
            "1031/1031 [==============================] - 2s 2ms/step - loss: 1.4375 - fe_cat_loss: 0.2438 - fd_cat_loss: 0.5246 - fa_cat_loss: 0.6691 - fe_cat_accuracy: 0.9470 - fd_cat_accuracy: 0.7758 - fa_cat_accuracy: 0.7931 - val_loss: 1.4212 - val_fe_cat_loss: 0.2492 - val_fd_cat_loss: 0.5078 - val_fa_cat_loss: 0.6642 - val_fe_cat_accuracy: 0.9342 - val_fd_cat_accuracy: 0.7808 - val_fa_cat_accuracy: 0.7918\n",
            "\n",
            "Epoch 00193: val_loss did not improve from 1.41265\n",
            "Epoch 194/1000\n",
            "1031/1031 [==============================] - 2s 2ms/step - loss: 1.4323 - fe_cat_loss: 0.2462 - fd_cat_loss: 0.5187 - fa_cat_loss: 0.6673 - fe_cat_accuracy: 0.9435 - fd_cat_accuracy: 0.7806 - fa_cat_accuracy: 0.7937 - val_loss: 1.4243 - val_fe_cat_loss: 0.2423 - val_fd_cat_loss: 0.5192 - val_fa_cat_loss: 0.6628 - val_fe_cat_accuracy: 0.9443 - val_fd_cat_accuracy: 0.7443 - val_fa_cat_accuracy: 0.7926\n",
            "\n",
            "Epoch 00194: val_loss did not improve from 1.41265\n",
            "Epoch 195/1000\n",
            "1031/1031 [==============================] - 2s 2ms/step - loss: 1.4283 - fe_cat_loss: 0.2458 - fd_cat_loss: 0.5181 - fa_cat_loss: 0.6643 - fe_cat_accuracy: 0.9452 - fd_cat_accuracy: 0.7810 - fa_cat_accuracy: 0.7903 - val_loss: 1.4173 - val_fe_cat_loss: 0.2439 - val_fd_cat_loss: 0.5152 - val_fa_cat_loss: 0.6582 - val_fe_cat_accuracy: 0.9430 - val_fd_cat_accuracy: 0.7519 - val_fa_cat_accuracy: 0.7934\n",
            "\n",
            "Epoch 00195: val_loss did not improve from 1.41265\n",
            "Epoch 196/1000\n",
            "1031/1031 [==============================] - 2s 2ms/step - loss: 1.4289 - fe_cat_loss: 0.2464 - fd_cat_loss: 0.5176 - fa_cat_loss: 0.6648 - fe_cat_accuracy: 0.9443 - fd_cat_accuracy: 0.7842 - fa_cat_accuracy: 0.7920 - val_loss: 1.4302 - val_fe_cat_loss: 0.2434 - val_fd_cat_loss: 0.5205 - val_fa_cat_loss: 0.6663 - val_fe_cat_accuracy: 0.9468 - val_fd_cat_accuracy: 0.7478 - val_fa_cat_accuracy: 0.7950\n",
            "\n",
            "Epoch 00196: val_loss did not improve from 1.41265\n",
            "Epoch 197/1000\n",
            "1031/1031 [==============================] - 2s 2ms/step - loss: 1.4276 - fe_cat_loss: 0.2445 - fd_cat_loss: 0.5173 - fa_cat_loss: 0.6658 - fe_cat_accuracy: 0.9459 - fd_cat_accuracy: 0.7805 - fa_cat_accuracy: 0.7910 - val_loss: 1.4147 - val_fe_cat_loss: 0.2417 - val_fd_cat_loss: 0.5156 - val_fa_cat_loss: 0.6574 - val_fe_cat_accuracy: 0.9443 - val_fd_cat_accuracy: 0.7552 - val_fa_cat_accuracy: 0.8010\n",
            "\n",
            "Epoch 00197: val_loss did not improve from 1.41265\n",
            "Epoch 198/1000\n",
            "1031/1031 [==============================] - 2s 2ms/step - loss: 1.4270 - fe_cat_loss: 0.2454 - fd_cat_loss: 0.5159 - fa_cat_loss: 0.6657 - fe_cat_accuracy: 0.9460 - fd_cat_accuracy: 0.7836 - fa_cat_accuracy: 0.7890 - val_loss: 1.4112 - val_fe_cat_loss: 0.2490 - val_fd_cat_loss: 0.5060 - val_fa_cat_loss: 0.6562 - val_fe_cat_accuracy: 0.9364 - val_fd_cat_accuracy: 0.7923 - val_fa_cat_accuracy: 0.8051\n",
            "\n",
            "Epoch 00198: val_loss improved from 1.41265 to 1.41120, saving model to /gdrive/My Drive/ML_Dataset/Qingchengbei/train-QCB-mix-cat-vn-ok2/mix-cat-epoch1000.h5\n",
            "Epoch 199/1000\n",
            "1031/1031 [==============================] - 2s 2ms/step - loss: 1.4279 - fe_cat_loss: 0.2453 - fd_cat_loss: 0.5185 - fa_cat_loss: 0.6641 - fe_cat_accuracy: 0.9425 - fd_cat_accuracy: 0.7824 - fa_cat_accuracy: 0.7929 - val_loss: 1.3995 - val_fe_cat_loss: 0.2399 - val_fd_cat_loss: 0.5050 - val_fa_cat_loss: 0.6547 - val_fe_cat_accuracy: 0.9468 - val_fd_cat_accuracy: 0.7909 - val_fa_cat_accuracy: 0.8010\n",
            "\n",
            "Epoch 00199: val_loss improved from 1.41120 to 1.39953, saving model to /gdrive/My Drive/ML_Dataset/Qingchengbei/train-QCB-mix-cat-vn-ok2/mix-cat-epoch1000.h5\n",
            "Epoch 200/1000\n",
            "1031/1031 [==============================] - 2s 2ms/step - loss: 1.4171 - fe_cat_loss: 0.2385 - fd_cat_loss: 0.5167 - fa_cat_loss: 0.6619 - fe_cat_accuracy: 0.9482 - fd_cat_accuracy: 0.7835 - fa_cat_accuracy: 0.7975 - val_loss: 1.4278 - val_fe_cat_loss: 0.2415 - val_fd_cat_loss: 0.5139 - val_fa_cat_loss: 0.6725 - val_fe_cat_accuracy: 0.9449 - val_fd_cat_accuracy: 0.7735 - val_fa_cat_accuracy: 0.7645\n",
            "\n",
            "Epoch 00200: val_loss did not improve from 1.39953\n",
            "Epoch 201/1000\n",
            "1031/1031 [==============================] - 2s 2ms/step - loss: 1.4271 - fe_cat_loss: 0.2496 - fd_cat_loss: 0.5155 - fa_cat_loss: 0.6620 - fe_cat_accuracy: 0.9415 - fd_cat_accuracy: 0.7810 - fa_cat_accuracy: 0.7910 - val_loss: 1.4123 - val_fe_cat_loss: 0.2396 - val_fd_cat_loss: 0.5090 - val_fa_cat_loss: 0.6637 - val_fe_cat_accuracy: 0.9441 - val_fd_cat_accuracy: 0.7787 - val_fa_cat_accuracy: 0.7833\n",
            "\n",
            "Epoch 00201: val_loss did not improve from 1.39953\n",
            "Epoch 202/1000\n",
            "1031/1031 [==============================] - 2s 2ms/step - loss: 1.4226 - fe_cat_loss: 0.2433 - fd_cat_loss: 0.5121 - fa_cat_loss: 0.6672 - fe_cat_accuracy: 0.9434 - fd_cat_accuracy: 0.7868 - fa_cat_accuracy: 0.7884 - val_loss: 1.3973 - val_fe_cat_loss: 0.2394 - val_fd_cat_loss: 0.5054 - val_fa_cat_loss: 0.6525 - val_fe_cat_accuracy: 0.9446 - val_fd_cat_accuracy: 0.7964 - val_fa_cat_accuracy: 0.8035\n",
            "\n",
            "Epoch 00202: val_loss improved from 1.39953 to 1.39727, saving model to /gdrive/My Drive/ML_Dataset/Qingchengbei/train-QCB-mix-cat-vn-ok2/mix-cat-epoch1000.h5\n",
            "Epoch 203/1000\n",
            "1031/1031 [==============================] - 2s 2ms/step - loss: 1.4113 - fe_cat_loss: 0.2423 - fd_cat_loss: 0.5123 - fa_cat_loss: 0.6567 - fe_cat_accuracy: 0.9470 - fd_cat_accuracy: 0.7873 - fa_cat_accuracy: 0.7921 - val_loss: 1.4027 - val_fe_cat_loss: 0.2439 - val_fd_cat_loss: 0.5046 - val_fa_cat_loss: 0.6542 - val_fe_cat_accuracy: 0.9438 - val_fd_cat_accuracy: 0.7918 - val_fa_cat_accuracy: 0.7961\n",
            "\n",
            "Epoch 00203: val_loss did not improve from 1.39727\n",
            "Epoch 204/1000\n",
            "1031/1031 [==============================] - 2s 2ms/step - loss: 1.4116 - fe_cat_loss: 0.2416 - fd_cat_loss: 0.5130 - fa_cat_loss: 0.6569 - fe_cat_accuracy: 0.9463 - fd_cat_accuracy: 0.7838 - fa_cat_accuracy: 0.7935 - val_loss: 1.4008 - val_fe_cat_loss: 0.2399 - val_fd_cat_loss: 0.5066 - val_fa_cat_loss: 0.6543 - val_fe_cat_accuracy: 0.9446 - val_fd_cat_accuracy: 0.7806 - val_fa_cat_accuracy: 0.8002\n",
            "\n",
            "Epoch 00204: val_loss did not improve from 1.39727\n",
            "Epoch 205/1000\n",
            "1031/1031 [==============================] - 2s 2ms/step - loss: 1.4120 - fe_cat_loss: 0.2394 - fd_cat_loss: 0.5122 - fa_cat_loss: 0.6605 - fe_cat_accuracy: 0.9452 - fd_cat_accuracy: 0.7841 - fa_cat_accuracy: 0.7902 - val_loss: 1.4018 - val_fe_cat_loss: 0.2404 - val_fd_cat_loss: 0.5091 - val_fa_cat_loss: 0.6523 - val_fe_cat_accuracy: 0.9449 - val_fd_cat_accuracy: 0.7797 - val_fa_cat_accuracy: 0.7986\n",
            "\n",
            "Epoch 00205: val_loss did not improve from 1.39727\n",
            "Epoch 206/1000\n",
            "1031/1031 [==============================] - 2s 2ms/step - loss: 1.4083 - fe_cat_loss: 0.2366 - fd_cat_loss: 0.5125 - fa_cat_loss: 0.6592 - fe_cat_accuracy: 0.9475 - fd_cat_accuracy: 0.7868 - fa_cat_accuracy: 0.7929 - val_loss: 1.3972 - val_fe_cat_loss: 0.2392 - val_fd_cat_loss: 0.5047 - val_fa_cat_loss: 0.6533 - val_fe_cat_accuracy: 0.9421 - val_fd_cat_accuracy: 0.7907 - val_fa_cat_accuracy: 0.7901\n",
            "\n",
            "Epoch 00206: val_loss improved from 1.39727 to 1.39720, saving model to /gdrive/My Drive/ML_Dataset/Qingchengbei/train-QCB-mix-cat-vn-ok2/mix-cat-epoch1000.h5\n",
            "Epoch 207/1000\n",
            "1031/1031 [==============================] - 2s 2ms/step - loss: 1.4076 - fe_cat_loss: 0.2383 - fd_cat_loss: 0.5120 - fa_cat_loss: 0.6573 - fe_cat_accuracy: 0.9464 - fd_cat_accuracy: 0.7858 - fa_cat_accuracy: 0.7934 - val_loss: 1.3974 - val_fe_cat_loss: 0.2366 - val_fd_cat_loss: 0.5078 - val_fa_cat_loss: 0.6530 - val_fe_cat_accuracy: 0.9457 - val_fd_cat_accuracy: 0.7871 - val_fa_cat_accuracy: 0.7893\n",
            "\n",
            "Epoch 00207: val_loss did not improve from 1.39720\n",
            "Epoch 208/1000\n",
            "1031/1031 [==============================] - 2s 2ms/step - loss: 1.4166 - fe_cat_loss: 0.2400 - fd_cat_loss: 0.5129 - fa_cat_loss: 0.6637 - fe_cat_accuracy: 0.9453 - fd_cat_accuracy: 0.7815 - fa_cat_accuracy: 0.7928 - val_loss: 1.3982 - val_fe_cat_loss: 0.2385 - val_fd_cat_loss: 0.5080 - val_fa_cat_loss: 0.6517 - val_fe_cat_accuracy: 0.9432 - val_fd_cat_accuracy: 0.7792 - val_fa_cat_accuracy: 0.8054\n",
            "\n",
            "Epoch 00208: val_loss did not improve from 1.39720\n",
            "Epoch 209/1000\n",
            "1031/1031 [==============================] - 2s 2ms/step - loss: 1.3995 - fe_cat_loss: 0.2315 - fd_cat_loss: 0.5092 - fa_cat_loss: 0.6588 - fe_cat_accuracy: 0.9509 - fd_cat_accuracy: 0.7909 - fa_cat_accuracy: 0.7923 - val_loss: 1.4070 - val_fe_cat_loss: 0.2405 - val_fd_cat_loss: 0.5084 - val_fa_cat_loss: 0.6581 - val_fe_cat_accuracy: 0.9424 - val_fd_cat_accuracy: 0.7778 - val_fa_cat_accuracy: 0.7866\n",
            "\n",
            "Epoch 00209: val_loss did not improve from 1.39720\n",
            "Epoch 210/1000\n",
            "1031/1031 [==============================] - 2s 2ms/step - loss: 1.4129 - fe_cat_loss: 0.2343 - fd_cat_loss: 0.5163 - fa_cat_loss: 0.6623 - fe_cat_accuracy: 0.9475 - fd_cat_accuracy: 0.7829 - fa_cat_accuracy: 0.7947 - val_loss: 1.3934 - val_fe_cat_loss: 0.2372 - val_fd_cat_loss: 0.5082 - val_fa_cat_loss: 0.6480 - val_fe_cat_accuracy: 0.9462 - val_fd_cat_accuracy: 0.7945 - val_fa_cat_accuracy: 0.8106\n",
            "\n",
            "Epoch 00210: val_loss improved from 1.39720 to 1.39341, saving model to /gdrive/My Drive/ML_Dataset/Qingchengbei/train-QCB-mix-cat-vn-ok2/mix-cat-epoch1000.h5\n",
            "Epoch 211/1000\n",
            "1031/1031 [==============================] - 2s 2ms/step - loss: 1.4055 - fe_cat_loss: 0.2333 - fd_cat_loss: 0.5135 - fa_cat_loss: 0.6588 - fe_cat_accuracy: 0.9480 - fd_cat_accuracy: 0.7829 - fa_cat_accuracy: 0.7919 - val_loss: 1.3934 - val_fe_cat_loss: 0.2359 - val_fd_cat_loss: 0.5080 - val_fa_cat_loss: 0.6496 - val_fe_cat_accuracy: 0.9460 - val_fd_cat_accuracy: 0.7724 - val_fa_cat_accuracy: 0.8079\n",
            "\n",
            "Epoch 00211: val_loss did not improve from 1.39341\n",
            "Epoch 212/1000\n",
            "1031/1031 [==============================] - 2s 2ms/step - loss: 1.4083 - fe_cat_loss: 0.2372 - fd_cat_loss: 0.5140 - fa_cat_loss: 0.6570 - fe_cat_accuracy: 0.9469 - fd_cat_accuracy: 0.7834 - fa_cat_accuracy: 0.7881 - val_loss: 1.4142 - val_fe_cat_loss: 0.2353 - val_fd_cat_loss: 0.5185 - val_fa_cat_loss: 0.6605 - val_fe_cat_accuracy: 0.9460 - val_fd_cat_accuracy: 0.7546 - val_fa_cat_accuracy: 0.7811\n",
            "\n",
            "Epoch 00212: val_loss did not improve from 1.39341\n",
            "Epoch 213/1000\n",
            "1031/1031 [==============================] - 2s 2ms/step - loss: 1.4012 - fe_cat_loss: 0.2322 - fd_cat_loss: 0.5110 - fa_cat_loss: 0.6580 - fe_cat_accuracy: 0.9464 - fd_cat_accuracy: 0.7844 - fa_cat_accuracy: 0.7917 - val_loss: 1.3984 - val_fe_cat_loss: 0.2375 - val_fd_cat_loss: 0.5107 - val_fa_cat_loss: 0.6502 - val_fe_cat_accuracy: 0.9413 - val_fd_cat_accuracy: 0.7795 - val_fa_cat_accuracy: 0.8010\n",
            "\n",
            "Epoch 00213: val_loss did not improve from 1.39341\n",
            "Epoch 214/1000\n",
            "1031/1031 [==============================] - 2s 2ms/step - loss: 1.4056 - fe_cat_loss: 0.2362 - fd_cat_loss: 0.5127 - fa_cat_loss: 0.6567 - fe_cat_accuracy: 0.9437 - fd_cat_accuracy: 0.7828 - fa_cat_accuracy: 0.7948 - val_loss: 1.3896 - val_fe_cat_loss: 0.2371 - val_fd_cat_loss: 0.5043 - val_fa_cat_loss: 0.6482 - val_fe_cat_accuracy: 0.9424 - val_fd_cat_accuracy: 0.7896 - val_fa_cat_accuracy: 0.8073\n",
            "\n",
            "Epoch 00214: val_loss improved from 1.39341 to 1.38959, saving model to /gdrive/My Drive/ML_Dataset/Qingchengbei/train-QCB-mix-cat-vn-ok2/mix-cat-epoch1000.h5\n",
            "Epoch 215/1000\n",
            "1031/1031 [==============================] - 2s 2ms/step - loss: 1.3956 - fe_cat_loss: 0.2309 - fd_cat_loss: 0.5077 - fa_cat_loss: 0.6570 - fe_cat_accuracy: 0.9469 - fd_cat_accuracy: 0.7859 - fa_cat_accuracy: 0.7943 - val_loss: 1.4132 - val_fe_cat_loss: 0.2336 - val_fd_cat_loss: 0.5249 - val_fa_cat_loss: 0.6547 - val_fe_cat_accuracy: 0.9451 - val_fd_cat_accuracy: 0.7391 - val_fa_cat_accuracy: 0.8019\n",
            "\n",
            "Epoch 00215: val_loss did not improve from 1.38959\n",
            "Epoch 216/1000\n",
            "1031/1031 [==============================] - 2s 2ms/step - loss: 1.4091 - fe_cat_loss: 0.2380 - fd_cat_loss: 0.5135 - fa_cat_loss: 0.6575 - fe_cat_accuracy: 0.9453 - fd_cat_accuracy: 0.7809 - fa_cat_accuracy: 0.7930 - val_loss: 1.3814 - val_fe_cat_loss: 0.2334 - val_fd_cat_loss: 0.5018 - val_fa_cat_loss: 0.6463 - val_fe_cat_accuracy: 0.9457 - val_fd_cat_accuracy: 0.7934 - val_fa_cat_accuracy: 0.8070\n",
            "\n",
            "Epoch 00216: val_loss improved from 1.38959 to 1.38142, saving model to /gdrive/My Drive/ML_Dataset/Qingchengbei/train-QCB-mix-cat-vn-ok2/mix-cat-epoch1000.h5\n",
            "Epoch 217/1000\n",
            "1031/1031 [==============================] - 2s 2ms/step - loss: 1.3988 - fe_cat_loss: 0.2324 - fd_cat_loss: 0.5120 - fa_cat_loss: 0.6544 - fe_cat_accuracy: 0.9489 - fd_cat_accuracy: 0.7859 - fa_cat_accuracy: 0.7978 - val_loss: 1.3880 - val_fe_cat_loss: 0.2327 - val_fd_cat_loss: 0.5030 - val_fa_cat_loss: 0.6522 - val_fe_cat_accuracy: 0.9465 - val_fd_cat_accuracy: 0.7825 - val_fa_cat_accuracy: 0.7863\n",
            "\n",
            "Epoch 00217: val_loss did not improve from 1.38142\n",
            "Epoch 218/1000\n",
            "1031/1031 [==============================] - 2s 2ms/step - loss: 1.4014 - fe_cat_loss: 0.2377 - fd_cat_loss: 0.5145 - fa_cat_loss: 0.6492 - fe_cat_accuracy: 0.9443 - fd_cat_accuracy: 0.7819 - fa_cat_accuracy: 0.7913 - val_loss: 1.3923 - val_fe_cat_loss: 0.2346 - val_fd_cat_loss: 0.5015 - val_fa_cat_loss: 0.6563 - val_fe_cat_accuracy: 0.9432 - val_fd_cat_accuracy: 0.7907 - val_fa_cat_accuracy: 0.7817\n",
            "\n",
            "Epoch 00218: val_loss did not improve from 1.38142\n",
            "Epoch 219/1000\n",
            "1031/1031 [==============================] - 2s 2ms/step - loss: 1.3976 - fe_cat_loss: 0.2372 - fd_cat_loss: 0.5112 - fa_cat_loss: 0.6492 - fe_cat_accuracy: 0.9446 - fd_cat_accuracy: 0.7859 - fa_cat_accuracy: 0.7988 - val_loss: 1.3856 - val_fe_cat_loss: 0.2331 - val_fd_cat_loss: 0.5021 - val_fa_cat_loss: 0.6503 - val_fe_cat_accuracy: 0.9476 - val_fd_cat_accuracy: 0.7912 - val_fa_cat_accuracy: 0.7912\n",
            "\n",
            "Epoch 00219: val_loss did not improve from 1.38142\n",
            "Epoch 220/1000\n",
            "1031/1031 [==============================] - 2s 2ms/step - loss: 1.3991 - fe_cat_loss: 0.2355 - fd_cat_loss: 0.5112 - fa_cat_loss: 0.6525 - fe_cat_accuracy: 0.9454 - fd_cat_accuracy: 0.7835 - fa_cat_accuracy: 0.7921 - val_loss: 1.3936 - val_fe_cat_loss: 0.2332 - val_fd_cat_loss: 0.5050 - val_fa_cat_loss: 0.6554 - val_fe_cat_accuracy: 0.9473 - val_fd_cat_accuracy: 0.7773 - val_fa_cat_accuracy: 0.7967\n",
            "\n",
            "Epoch 00220: val_loss did not improve from 1.38142\n",
            "Epoch 221/1000\n",
            "1031/1031 [==============================] - 2s 2ms/step - loss: 1.3999 - fe_cat_loss: 0.2362 - fd_cat_loss: 0.5129 - fa_cat_loss: 0.6507 - fe_cat_accuracy: 0.9457 - fd_cat_accuracy: 0.7850 - fa_cat_accuracy: 0.7929 - val_loss: 1.3878 - val_fe_cat_loss: 0.2320 - val_fd_cat_loss: 0.5023 - val_fa_cat_loss: 0.6534 - val_fe_cat_accuracy: 0.9449 - val_fd_cat_accuracy: 0.7937 - val_fa_cat_accuracy: 0.7735\n",
            "\n",
            "Epoch 00221: val_loss did not improve from 1.38142\n",
            "Epoch 222/1000\n",
            "1031/1031 [==============================] - 2s 2ms/step - loss: 1.4007 - fe_cat_loss: 0.2363 - fd_cat_loss: 0.5119 - fa_cat_loss: 0.6525 - fe_cat_accuracy: 0.9447 - fd_cat_accuracy: 0.7859 - fa_cat_accuracy: 0.7920 - val_loss: 1.3948 - val_fe_cat_loss: 0.2317 - val_fd_cat_loss: 0.5125 - val_fa_cat_loss: 0.6506 - val_fe_cat_accuracy: 0.9462 - val_fd_cat_accuracy: 0.7576 - val_fa_cat_accuracy: 0.7961\n",
            "\n",
            "Epoch 00222: val_loss did not improve from 1.38142\n",
            "Epoch 223/1000\n",
            "1031/1031 [==============================] - 2s 2ms/step - loss: 1.4012 - fe_cat_loss: 0.2353 - fd_cat_loss: 0.5089 - fa_cat_loss: 0.6570 - fe_cat_accuracy: 0.9438 - fd_cat_accuracy: 0.7858 - fa_cat_accuracy: 0.7944 - val_loss: 1.3893 - val_fe_cat_loss: 0.2377 - val_fd_cat_loss: 0.5074 - val_fa_cat_loss: 0.6442 - val_fe_cat_accuracy: 0.9372 - val_fd_cat_accuracy: 0.7847 - val_fa_cat_accuracy: 0.8068\n",
            "\n",
            "Epoch 00223: val_loss did not improve from 1.38142\n",
            "Epoch 224/1000\n",
            "1031/1031 [==============================] - 2s 2ms/step - loss: 1.3908 - fe_cat_loss: 0.2305 - fd_cat_loss: 0.5095 - fa_cat_loss: 0.6507 - fe_cat_accuracy: 0.9473 - fd_cat_accuracy: 0.7878 - fa_cat_accuracy: 0.7953 - val_loss: 1.4265 - val_fe_cat_loss: 0.2325 - val_fd_cat_loss: 0.5408 - val_fa_cat_loss: 0.6533 - val_fe_cat_accuracy: 0.9435 - val_fd_cat_accuracy: 0.7287 - val_fa_cat_accuracy: 0.7879\n",
            "\n",
            "Epoch 00224: val_loss did not improve from 1.38142\n",
            "Epoch 225/1000\n",
            "1031/1031 [==============================] - 2s 2ms/step - loss: 1.4041 - fe_cat_loss: 0.2294 - fd_cat_loss: 0.5165 - fa_cat_loss: 0.6583 - fe_cat_accuracy: 0.9469 - fd_cat_accuracy: 0.7806 - fa_cat_accuracy: 0.7915 - val_loss: 1.3896 - val_fe_cat_loss: 0.2302 - val_fd_cat_loss: 0.5035 - val_fa_cat_loss: 0.6558 - val_fe_cat_accuracy: 0.9454 - val_fd_cat_accuracy: 0.7746 - val_fa_cat_accuracy: 0.7888\n",
            "\n",
            "Epoch 00225: val_loss did not improve from 1.38142\n",
            "Epoch 226/1000\n",
            "1031/1031 [==============================] - 2s 2ms/step - loss: 1.3913 - fe_cat_loss: 0.2332 - fd_cat_loss: 0.5036 - fa_cat_loss: 0.6544 - fe_cat_accuracy: 0.9457 - fd_cat_accuracy: 0.7873 - fa_cat_accuracy: 0.7927 - val_loss: 1.3794 - val_fe_cat_loss: 0.2303 - val_fd_cat_loss: 0.5018 - val_fa_cat_loss: 0.6472 - val_fe_cat_accuracy: 0.9451 - val_fd_cat_accuracy: 0.7942 - val_fa_cat_accuracy: 0.7931\n",
            "\n",
            "Epoch 00226: val_loss improved from 1.38142 to 1.37940, saving model to /gdrive/My Drive/ML_Dataset/Qingchengbei/train-QCB-mix-cat-vn-ok2/mix-cat-epoch1000.h5\n",
            "Epoch 227/1000\n",
            "1031/1031 [==============================] - 2s 2ms/step - loss: 1.3995 - fe_cat_loss: 0.2346 - fd_cat_loss: 0.5094 - fa_cat_loss: 0.6555 - fe_cat_accuracy: 0.9455 - fd_cat_accuracy: 0.7838 - fa_cat_accuracy: 0.7935 - val_loss: 1.3783 - val_fe_cat_loss: 0.2312 - val_fd_cat_loss: 0.5010 - val_fa_cat_loss: 0.6461 - val_fe_cat_accuracy: 0.9443 - val_fd_cat_accuracy: 0.7852 - val_fa_cat_accuracy: 0.7967\n",
            "\n",
            "Epoch 00227: val_loss improved from 1.37940 to 1.37834, saving model to /gdrive/My Drive/ML_Dataset/Qingchengbei/train-QCB-mix-cat-vn-ok2/mix-cat-epoch1000.h5\n",
            "Epoch 228/1000\n",
            "1031/1031 [==============================] - 2s 2ms/step - loss: 1.4027 - fe_cat_loss: 0.2321 - fd_cat_loss: 0.5061 - fa_cat_loss: 0.6645 - fe_cat_accuracy: 0.9461 - fd_cat_accuracy: 0.7880 - fa_cat_accuracy: 0.7916 - val_loss: 1.3814 - val_fe_cat_loss: 0.2380 - val_fd_cat_loss: 0.5003 - val_fa_cat_loss: 0.6430 - val_fe_cat_accuracy: 0.9424 - val_fd_cat_accuracy: 0.7882 - val_fa_cat_accuracy: 0.8079\n",
            "\n",
            "Epoch 00228: val_loss did not improve from 1.37834\n",
            "Epoch 229/1000\n",
            "1031/1031 [==============================] - 2s 2ms/step - loss: 1.3918 - fe_cat_loss: 0.2261 - fd_cat_loss: 0.5092 - fa_cat_loss: 0.6566 - fe_cat_accuracy: 0.9480 - fd_cat_accuracy: 0.7871 - fa_cat_accuracy: 0.7945 - val_loss: 1.3888 - val_fe_cat_loss: 0.2346 - val_fd_cat_loss: 0.5010 - val_fa_cat_loss: 0.6532 - val_fe_cat_accuracy: 0.9375 - val_fd_cat_accuracy: 0.7817 - val_fa_cat_accuracy: 0.7784\n",
            "\n",
            "Epoch 00229: val_loss did not improve from 1.37834\n",
            "Epoch 230/1000\n",
            "1031/1031 [==============================] - 2s 2ms/step - loss: 1.3967 - fe_cat_loss: 0.2330 - fd_cat_loss: 0.5112 - fa_cat_loss: 0.6525 - fe_cat_accuracy: 0.9438 - fd_cat_accuracy: 0.7821 - fa_cat_accuracy: 0.7906 - val_loss: 1.3714 - val_fe_cat_loss: 0.2288 - val_fd_cat_loss: 0.5011 - val_fa_cat_loss: 0.6415 - val_fe_cat_accuracy: 0.9465 - val_fd_cat_accuracy: 0.7814 - val_fa_cat_accuracy: 0.8046\n",
            "\n",
            "Epoch 00230: val_loss improved from 1.37834 to 1.37137, saving model to /gdrive/My Drive/ML_Dataset/Qingchengbei/train-QCB-mix-cat-vn-ok2/mix-cat-epoch1000.h5\n",
            "Epoch 231/1000\n",
            "1031/1031 [==============================] - 2s 2ms/step - loss: 1.3869 - fe_cat_loss: 0.2276 - fd_cat_loss: 0.5084 - fa_cat_loss: 0.6509 - fe_cat_accuracy: 0.9463 - fd_cat_accuracy: 0.7858 - fa_cat_accuracy: 0.7961 - val_loss: 1.3755 - val_fe_cat_loss: 0.2288 - val_fd_cat_loss: 0.5006 - val_fa_cat_loss: 0.6461 - val_fe_cat_accuracy: 0.9462 - val_fd_cat_accuracy: 0.7959 - val_fa_cat_accuracy: 0.7833\n",
            "\n",
            "Epoch 00231: val_loss did not improve from 1.37137\n",
            "Epoch 232/1000\n",
            "1031/1031 [==============================] - 2s 2ms/step - loss: 1.3888 - fe_cat_loss: 0.2300 - fd_cat_loss: 0.5102 - fa_cat_loss: 0.6487 - fe_cat_accuracy: 0.9445 - fd_cat_accuracy: 0.7850 - fa_cat_accuracy: 0.7958 - val_loss: 1.3769 - val_fe_cat_loss: 0.2343 - val_fd_cat_loss: 0.5028 - val_fa_cat_loss: 0.6398 - val_fe_cat_accuracy: 0.9457 - val_fd_cat_accuracy: 0.7792 - val_fa_cat_accuracy: 0.8035\n",
            "\n",
            "Epoch 00232: val_loss did not improve from 1.37137\n",
            "Epoch 233/1000\n",
            "1031/1031 [==============================] - 2s 2ms/step - loss: 1.3868 - fe_cat_loss: 0.2327 - fd_cat_loss: 0.5070 - fa_cat_loss: 0.6470 - fe_cat_accuracy: 0.9439 - fd_cat_accuracy: 0.7846 - fa_cat_accuracy: 0.7906 - val_loss: 1.3786 - val_fe_cat_loss: 0.2303 - val_fd_cat_loss: 0.5038 - val_fa_cat_loss: 0.6445 - val_fe_cat_accuracy: 0.9441 - val_fd_cat_accuracy: 0.7797 - val_fa_cat_accuracy: 0.7948\n",
            "\n",
            "Epoch 00233: val_loss did not improve from 1.37137\n",
            "Epoch 234/1000\n",
            "1031/1031 [==============================] - 2s 2ms/step - loss: 1.3735 - fe_cat_loss: 0.2238 - fd_cat_loss: 0.5028 - fa_cat_loss: 0.6469 - fe_cat_accuracy: 0.9468 - fd_cat_accuracy: 0.7909 - fa_cat_accuracy: 0.7922 - val_loss: 1.3777 - val_fe_cat_loss: 0.2299 - val_fd_cat_loss: 0.5051 - val_fa_cat_loss: 0.6428 - val_fe_cat_accuracy: 0.9457 - val_fd_cat_accuracy: 0.7882 - val_fa_cat_accuracy: 0.8029\n",
            "\n",
            "Epoch 00234: val_loss did not improve from 1.37137\n",
            "Epoch 235/1000\n",
            "1031/1031 [==============================] - 2s 2ms/step - loss: 1.3736 - fe_cat_loss: 0.2286 - fd_cat_loss: 0.5050 - fa_cat_loss: 0.6400 - fe_cat_accuracy: 0.9458 - fd_cat_accuracy: 0.7873 - fa_cat_accuracy: 0.7956 - val_loss: 1.3729 - val_fe_cat_loss: 0.2298 - val_fd_cat_loss: 0.5033 - val_fa_cat_loss: 0.6398 - val_fe_cat_accuracy: 0.9476 - val_fd_cat_accuracy: 0.7879 - val_fa_cat_accuracy: 0.8021\n",
            "\n",
            "Epoch 00235: val_loss did not improve from 1.37137\n",
            "Epoch 236/1000\n",
            "1031/1031 [==============================] - 2s 2ms/step - loss: 1.3817 - fe_cat_loss: 0.2304 - fd_cat_loss: 0.5077 - fa_cat_loss: 0.6436 - fe_cat_accuracy: 0.9440 - fd_cat_accuracy: 0.7828 - fa_cat_accuracy: 0.7973 - val_loss: 1.3680 - val_fe_cat_loss: 0.2286 - val_fd_cat_loss: 0.4991 - val_fa_cat_loss: 0.6402 - val_fe_cat_accuracy: 0.9432 - val_fd_cat_accuracy: 0.7969 - val_fa_cat_accuracy: 0.8002\n",
            "\n",
            "Epoch 00236: val_loss improved from 1.37137 to 1.36801, saving model to /gdrive/My Drive/ML_Dataset/Qingchengbei/train-QCB-mix-cat-vn-ok2/mix-cat-epoch1000.h5\n",
            "Epoch 237/1000\n",
            "1031/1031 [==============================] - 2s 2ms/step - loss: 1.3887 - fe_cat_loss: 0.2298 - fd_cat_loss: 0.5104 - fa_cat_loss: 0.6485 - fe_cat_accuracy: 0.9466 - fd_cat_accuracy: 0.7865 - fa_cat_accuracy: 0.7923 - val_loss: 1.3773 - val_fe_cat_loss: 0.2298 - val_fd_cat_loss: 0.5064 - val_fa_cat_loss: 0.6411 - val_fe_cat_accuracy: 0.9457 - val_fd_cat_accuracy: 0.7874 - val_fa_cat_accuracy: 0.8027\n",
            "\n",
            "Epoch 00237: val_loss did not improve from 1.36801\n",
            "Epoch 238/1000\n",
            "1031/1031 [==============================] - 2s 2ms/step - loss: 1.3884 - fe_cat_loss: 0.2302 - fd_cat_loss: 0.5129 - fa_cat_loss: 0.6452 - fe_cat_accuracy: 0.9462 - fd_cat_accuracy: 0.7826 - fa_cat_accuracy: 0.7965 - val_loss: 1.3676 - val_fe_cat_loss: 0.2299 - val_fd_cat_loss: 0.5002 - val_fa_cat_loss: 0.6375 - val_fe_cat_accuracy: 0.9457 - val_fd_cat_accuracy: 0.7953 - val_fa_cat_accuracy: 0.8049\n",
            "\n",
            "Epoch 00238: val_loss improved from 1.36801 to 1.36764, saving model to /gdrive/My Drive/ML_Dataset/Qingchengbei/train-QCB-mix-cat-vn-ok2/mix-cat-epoch1000.h5\n",
            "Epoch 239/1000\n",
            "1031/1031 [==============================] - 2s 2ms/step - loss: 1.3792 - fe_cat_loss: 0.2261 - fd_cat_loss: 0.5101 - fa_cat_loss: 0.6430 - fe_cat_accuracy: 0.9471 - fd_cat_accuracy: 0.7874 - fa_cat_accuracy: 0.7988 - val_loss: 1.3714 - val_fe_cat_loss: 0.2256 - val_fd_cat_loss: 0.5011 - val_fa_cat_loss: 0.6447 - val_fe_cat_accuracy: 0.9460 - val_fd_cat_accuracy: 0.7931 - val_fa_cat_accuracy: 0.7882\n",
            "\n",
            "Epoch 00239: val_loss did not improve from 1.36764\n",
            "Epoch 240/1000\n",
            "1031/1031 [==============================] - 2s 2ms/step - loss: 1.3804 - fe_cat_loss: 0.2245 - fd_cat_loss: 0.5069 - fa_cat_loss: 0.6491 - fe_cat_accuracy: 0.9474 - fd_cat_accuracy: 0.7863 - fa_cat_accuracy: 0.7942 - val_loss: 1.3652 - val_fe_cat_loss: 0.2266 - val_fd_cat_loss: 0.4993 - val_fa_cat_loss: 0.6394 - val_fe_cat_accuracy: 0.9484 - val_fd_cat_accuracy: 0.7937 - val_fa_cat_accuracy: 0.7986\n",
            "\n",
            "Epoch 00240: val_loss improved from 1.36764 to 1.36521, saving model to /gdrive/My Drive/ML_Dataset/Qingchengbei/train-QCB-mix-cat-vn-ok2/mix-cat-epoch1000.h5\n",
            "Epoch 241/1000\n",
            "1031/1031 [==============================] - 2s 2ms/step - loss: 1.3832 - fe_cat_loss: 0.2307 - fd_cat_loss: 0.5049 - fa_cat_loss: 0.6477 - fe_cat_accuracy: 0.9436 - fd_cat_accuracy: 0.7858 - fa_cat_accuracy: 0.7941 - val_loss: 1.3644 - val_fe_cat_loss: 0.2265 - val_fd_cat_loss: 0.5022 - val_fa_cat_loss: 0.6357 - val_fe_cat_accuracy: 0.9435 - val_fd_cat_accuracy: 0.7956 - val_fa_cat_accuracy: 0.8065\n",
            "\n",
            "Epoch 00241: val_loss improved from 1.36521 to 1.36444, saving model to /gdrive/My Drive/ML_Dataset/Qingchengbei/train-QCB-mix-cat-vn-ok2/mix-cat-epoch1000.h5\n",
            "Epoch 242/1000\n",
            "1031/1031 [==============================] - 2s 2ms/step - loss: 1.3818 - fe_cat_loss: 0.2259 - fd_cat_loss: 0.5101 - fa_cat_loss: 0.6458 - fe_cat_accuracy: 0.9462 - fd_cat_accuracy: 0.7849 - fa_cat_accuracy: 0.7988 - val_loss: 1.3756 - val_fe_cat_loss: 0.2256 - val_fd_cat_loss: 0.5083 - val_fa_cat_loss: 0.6416 - val_fe_cat_accuracy: 0.9457 - val_fd_cat_accuracy: 0.7950 - val_fa_cat_accuracy: 0.7920\n",
            "\n",
            "Epoch 00242: val_loss did not improve from 1.36444\n",
            "Epoch 243/1000\n",
            "1031/1031 [==============================] - 2s 2ms/step - loss: 1.3807 - fe_cat_loss: 0.2276 - fd_cat_loss: 0.5098 - fa_cat_loss: 0.6433 - fe_cat_accuracy: 0.9459 - fd_cat_accuracy: 0.7827 - fa_cat_accuracy: 0.7992 - val_loss: 1.3816 - val_fe_cat_loss: 0.2281 - val_fd_cat_loss: 0.5037 - val_fa_cat_loss: 0.6498 - val_fe_cat_accuracy: 0.9476 - val_fd_cat_accuracy: 0.7661 - val_fa_cat_accuracy: 0.7828\n",
            "\n",
            "Epoch 00243: val_loss did not improve from 1.36444\n",
            "Epoch 244/1000\n",
            "1031/1031 [==============================] - 2s 2ms/step - loss: 1.3830 - fe_cat_loss: 0.2262 - fd_cat_loss: 0.5065 - fa_cat_loss: 0.6503 - fe_cat_accuracy: 0.9453 - fd_cat_accuracy: 0.7876 - fa_cat_accuracy: 0.7898 - val_loss: 1.3609 - val_fe_cat_loss: 0.2255 - val_fd_cat_loss: 0.4984 - val_fa_cat_loss: 0.6371 - val_fe_cat_accuracy: 0.9484 - val_fd_cat_accuracy: 0.7828 - val_fa_cat_accuracy: 0.8065\n",
            "\n",
            "Epoch 00244: val_loss improved from 1.36444 to 1.36094, saving model to /gdrive/My Drive/ML_Dataset/Qingchengbei/train-QCB-mix-cat-vn-ok2/mix-cat-epoch1000.h5\n",
            "Epoch 245/1000\n",
            "1031/1031 [==============================] - 2s 2ms/step - loss: 1.3742 - fe_cat_loss: 0.2289 - fd_cat_loss: 0.5073 - fa_cat_loss: 0.6380 - fe_cat_accuracy: 0.9449 - fd_cat_accuracy: 0.7842 - fa_cat_accuracy: 0.7968 - val_loss: 1.3653 - val_fe_cat_loss: 0.2278 - val_fd_cat_loss: 0.5000 - val_fa_cat_loss: 0.6374 - val_fe_cat_accuracy: 0.9424 - val_fd_cat_accuracy: 0.7961 - val_fa_cat_accuracy: 0.8040\n",
            "\n",
            "Epoch 00245: val_loss did not improve from 1.36094\n",
            "Epoch 246/1000\n",
            "1031/1031 [==============================] - 2s 2ms/step - loss: 1.3807 - fe_cat_loss: 0.2262 - fd_cat_loss: 0.5075 - fa_cat_loss: 0.6470 - fe_cat_accuracy: 0.9461 - fd_cat_accuracy: 0.7841 - fa_cat_accuracy: 0.7936 - val_loss: 1.3627 - val_fe_cat_loss: 0.2247 - val_fd_cat_loss: 0.4989 - val_fa_cat_loss: 0.6391 - val_fe_cat_accuracy: 0.9476 - val_fd_cat_accuracy: 0.7909 - val_fa_cat_accuracy: 0.7959\n",
            "\n",
            "Epoch 00246: val_loss did not improve from 1.36094\n",
            "Epoch 247/1000\n",
            "1031/1031 [==============================] - 2s 2ms/step - loss: 1.3806 - fe_cat_loss: 0.2280 - fd_cat_loss: 0.5111 - fa_cat_loss: 0.6416 - fe_cat_accuracy: 0.9450 - fd_cat_accuracy: 0.7866 - fa_cat_accuracy: 0.7926 - val_loss: 1.3997 - val_fe_cat_loss: 0.2274 - val_fd_cat_loss: 0.5209 - val_fa_cat_loss: 0.6515 - val_fe_cat_accuracy: 0.9451 - val_fd_cat_accuracy: 0.7413 - val_fa_cat_accuracy: 0.7552\n",
            "\n",
            "Epoch 00247: val_loss did not improve from 1.36094\n",
            "Epoch 248/1000\n",
            "1031/1031 [==============================] - 2s 2ms/step - loss: 1.3716 - fe_cat_loss: 0.2265 - fd_cat_loss: 0.5065 - fa_cat_loss: 0.6386 - fe_cat_accuracy: 0.9450 - fd_cat_accuracy: 0.7864 - fa_cat_accuracy: 0.7940 - val_loss: 1.3643 - val_fe_cat_loss: 0.2245 - val_fd_cat_loss: 0.5022 - val_fa_cat_loss: 0.6377 - val_fe_cat_accuracy: 0.9446 - val_fd_cat_accuracy: 0.7732 - val_fa_cat_accuracy: 0.7991\n",
            "\n",
            "Epoch 00248: val_loss did not improve from 1.36094\n",
            "Epoch 249/1000\n",
            "1031/1031 [==============================] - 2s 2ms/step - loss: 1.3785 - fe_cat_loss: 0.2233 - fd_cat_loss: 0.5117 - fa_cat_loss: 0.6436 - fe_cat_accuracy: 0.9474 - fd_cat_accuracy: 0.7803 - fa_cat_accuracy: 0.7934 - val_loss: 1.3619 - val_fe_cat_loss: 0.2282 - val_fd_cat_loss: 0.4972 - val_fa_cat_loss: 0.6366 - val_fe_cat_accuracy: 0.9389 - val_fd_cat_accuracy: 0.7934 - val_fa_cat_accuracy: 0.7999\n",
            "\n",
            "Epoch 00249: val_loss did not improve from 1.36094\n",
            "Epoch 250/1000\n",
            "1031/1031 [==============================] - 2s 2ms/step - loss: 1.3749 - fe_cat_loss: 0.2242 - fd_cat_loss: 0.5033 - fa_cat_loss: 0.6475 - fe_cat_accuracy: 0.9467 - fd_cat_accuracy: 0.7885 - fa_cat_accuracy: 0.7905 - val_loss: 1.3670 - val_fe_cat_loss: 0.2233 - val_fd_cat_loss: 0.4966 - val_fa_cat_loss: 0.6471 - val_fe_cat_accuracy: 0.9449 - val_fd_cat_accuracy: 0.7893 - val_fa_cat_accuracy: 0.7814\n",
            "\n",
            "Epoch 00250: val_loss did not improve from 1.36094\n",
            "Epoch 251/1000\n",
            "1031/1031 [==============================] - 2s 2ms/step - loss: 1.3754 - fe_cat_loss: 0.2269 - fd_cat_loss: 0.5081 - fa_cat_loss: 0.6404 - fe_cat_accuracy: 0.9468 - fd_cat_accuracy: 0.7858 - fa_cat_accuracy: 0.8001 - val_loss: 1.3549 - val_fe_cat_loss: 0.2228 - val_fd_cat_loss: 0.4982 - val_fa_cat_loss: 0.6338 - val_fe_cat_accuracy: 0.9503 - val_fd_cat_accuracy: 0.7975 - val_fa_cat_accuracy: 0.8070\n",
            "\n",
            "Epoch 00251: val_loss improved from 1.36094 to 1.35486, saving model to /gdrive/My Drive/ML_Dataset/Qingchengbei/train-QCB-mix-cat-vn-ok2/mix-cat-epoch1000.h5\n",
            "Epoch 252/1000\n",
            "1031/1031 [==============================] - 2s 2ms/step - loss: 1.3778 - fe_cat_loss: 0.2241 - fd_cat_loss: 0.5082 - fa_cat_loss: 0.6455 - fe_cat_accuracy: 0.9460 - fd_cat_accuracy: 0.7838 - fa_cat_accuracy: 0.7920 - val_loss: 1.3685 - val_fe_cat_loss: 0.2256 - val_fd_cat_loss: 0.5082 - val_fa_cat_loss: 0.6347 - val_fe_cat_accuracy: 0.9465 - val_fd_cat_accuracy: 0.7836 - val_fa_cat_accuracy: 0.7942\n",
            "\n",
            "Epoch 00252: val_loss did not improve from 1.35486\n",
            "Epoch 253/1000\n",
            "1031/1031 [==============================] - 2s 2ms/step - loss: 1.3628 - fe_cat_loss: 0.2173 - fd_cat_loss: 0.5071 - fa_cat_loss: 0.6385 - fe_cat_accuracy: 0.9481 - fd_cat_accuracy: 0.7850 - fa_cat_accuracy: 0.7944 - val_loss: 1.3707 - val_fe_cat_loss: 0.2276 - val_fd_cat_loss: 0.5044 - val_fa_cat_loss: 0.6387 - val_fe_cat_accuracy: 0.9383 - val_fd_cat_accuracy: 0.7781 - val_fa_cat_accuracy: 0.7904\n",
            "\n",
            "Epoch 00253: val_loss did not improve from 1.35486\n",
            "Epoch 254/1000\n",
            "1031/1031 [==============================] - 2s 2ms/step - loss: 1.3687 - fe_cat_loss: 0.2242 - fd_cat_loss: 0.5073 - fa_cat_loss: 0.6372 - fe_cat_accuracy: 0.9454 - fd_cat_accuracy: 0.7819 - fa_cat_accuracy: 0.7993 - val_loss: 1.3526 - val_fe_cat_loss: 0.2228 - val_fd_cat_loss: 0.4969 - val_fa_cat_loss: 0.6329 - val_fe_cat_accuracy: 0.9441 - val_fd_cat_accuracy: 0.7858 - val_fa_cat_accuracy: 0.8040\n",
            "\n",
            "Epoch 00254: val_loss improved from 1.35486 to 1.35257, saving model to /gdrive/My Drive/ML_Dataset/Qingchengbei/train-QCB-mix-cat-vn-ok2/mix-cat-epoch1000.h5\n",
            "Epoch 255/1000\n",
            "1031/1031 [==============================] - 2s 2ms/step - loss: 1.3783 - fe_cat_loss: 0.2259 - fd_cat_loss: 0.5107 - fa_cat_loss: 0.6418 - fe_cat_accuracy: 0.9458 - fd_cat_accuracy: 0.7828 - fa_cat_accuracy: 0.7967 - val_loss: 1.3745 - val_fe_cat_loss: 0.2226 - val_fd_cat_loss: 0.4970 - val_fa_cat_loss: 0.6549 - val_fe_cat_accuracy: 0.9443 - val_fd_cat_accuracy: 0.7841 - val_fa_cat_accuracy: 0.7716\n",
            "\n",
            "Epoch 00255: val_loss did not improve from 1.35257\n",
            "Epoch 256/1000\n",
            "1031/1031 [==============================] - 2s 2ms/step - loss: 1.3798 - fe_cat_loss: 0.2233 - fd_cat_loss: 0.5095 - fa_cat_loss: 0.6469 - fe_cat_accuracy: 0.9468 - fd_cat_accuracy: 0.7854 - fa_cat_accuracy: 0.7918 - val_loss: 1.3553 - val_fe_cat_loss: 0.2221 - val_fd_cat_loss: 0.4970 - val_fa_cat_loss: 0.6362 - val_fe_cat_accuracy: 0.9441 - val_fd_cat_accuracy: 0.7833 - val_fa_cat_accuracy: 0.8051\n",
            "\n",
            "Epoch 00256: val_loss did not improve from 1.35257\n",
            "Epoch 257/1000\n",
            "1031/1031 [==============================] - 2s 2ms/step - loss: 1.3825 - fe_cat_loss: 0.2256 - fd_cat_loss: 0.5054 - fa_cat_loss: 0.6515 - fe_cat_accuracy: 0.9444 - fd_cat_accuracy: 0.7894 - fa_cat_accuracy: 0.7934 - val_loss: 1.3507 - val_fe_cat_loss: 0.2210 - val_fd_cat_loss: 0.4972 - val_fa_cat_loss: 0.6326 - val_fe_cat_accuracy: 0.9471 - val_fd_cat_accuracy: 0.7778 - val_fa_cat_accuracy: 0.8049\n",
            "\n",
            "Epoch 00257: val_loss improved from 1.35257 to 1.35073, saving model to /gdrive/My Drive/ML_Dataset/Qingchengbei/train-QCB-mix-cat-vn-ok2/mix-cat-epoch1000.h5\n",
            "Epoch 258/1000\n",
            "1031/1031 [==============================] - 2s 2ms/step - loss: 1.3685 - fe_cat_loss: 0.2197 - fd_cat_loss: 0.5065 - fa_cat_loss: 0.6422 - fe_cat_accuracy: 0.9470 - fd_cat_accuracy: 0.7861 - fa_cat_accuracy: 0.7950 - val_loss: 1.3544 - val_fe_cat_loss: 0.2203 - val_fd_cat_loss: 0.4965 - val_fa_cat_loss: 0.6376 - val_fe_cat_accuracy: 0.9479 - val_fd_cat_accuracy: 0.7860 - val_fa_cat_accuracy: 0.7863\n",
            "\n",
            "Epoch 00258: val_loss did not improve from 1.35073\n",
            "Epoch 259/1000\n",
            "1031/1031 [==============================] - 2s 2ms/step - loss: 1.3643 - fe_cat_loss: 0.2188 - fd_cat_loss: 0.5033 - fa_cat_loss: 0.6422 - fe_cat_accuracy: 0.9476 - fd_cat_accuracy: 0.7867 - fa_cat_accuracy: 0.7957 - val_loss: 1.3611 - val_fe_cat_loss: 0.2216 - val_fd_cat_loss: 0.5034 - val_fa_cat_loss: 0.6361 - val_fe_cat_accuracy: 0.9457 - val_fd_cat_accuracy: 0.7650 - val_fa_cat_accuracy: 0.7937\n",
            "\n",
            "Epoch 00259: val_loss did not improve from 1.35073\n",
            "Epoch 260/1000\n",
            "1031/1031 [==============================] - 2s 2ms/step - loss: 1.3695 - fe_cat_loss: 0.2212 - fd_cat_loss: 0.5067 - fa_cat_loss: 0.6415 - fe_cat_accuracy: 0.9457 - fd_cat_accuracy: 0.7831 - fa_cat_accuracy: 0.7919 - val_loss: 1.3593 - val_fe_cat_loss: 0.2225 - val_fd_cat_loss: 0.5016 - val_fa_cat_loss: 0.6352 - val_fe_cat_accuracy: 0.9479 - val_fd_cat_accuracy: 0.7912 - val_fa_cat_accuracy: 0.7896\n",
            "\n",
            "Epoch 00260: val_loss did not improve from 1.35073\n",
            "Epoch 261/1000\n",
            "1031/1031 [==============================] - 2s 2ms/step - loss: 1.3613 - fe_cat_loss: 0.2220 - fd_cat_loss: 0.5065 - fa_cat_loss: 0.6328 - fe_cat_accuracy: 0.9475 - fd_cat_accuracy: 0.7869 - fa_cat_accuracy: 0.7944 - val_loss: 1.3580 - val_fe_cat_loss: 0.2247 - val_fd_cat_loss: 0.4969 - val_fa_cat_loss: 0.6365 - val_fe_cat_accuracy: 0.9383 - val_fd_cat_accuracy: 0.7975 - val_fa_cat_accuracy: 0.7918\n",
            "\n",
            "Epoch 00261: val_loss did not improve from 1.35073\n",
            "Epoch 262/1000\n",
            "1031/1031 [==============================] - 2s 2ms/step - loss: 1.3664 - fe_cat_loss: 0.2218 - fd_cat_loss: 0.5063 - fa_cat_loss: 0.6382 - fe_cat_accuracy: 0.9461 - fd_cat_accuracy: 0.7893 - fa_cat_accuracy: 0.7959 - val_loss: 1.3444 - val_fe_cat_loss: 0.2197 - val_fd_cat_loss: 0.4950 - val_fa_cat_loss: 0.6297 - val_fe_cat_accuracy: 0.9473 - val_fd_cat_accuracy: 0.7950 - val_fa_cat_accuracy: 0.8029\n",
            "\n",
            "Epoch 00262: val_loss improved from 1.35073 to 1.34440, saving model to /gdrive/My Drive/ML_Dataset/Qingchengbei/train-QCB-mix-cat-vn-ok2/mix-cat-epoch1000.h5\n",
            "Epoch 263/1000\n",
            "1031/1031 [==============================] - 2s 2ms/step - loss: 1.3584 - fe_cat_loss: 0.2190 - fd_cat_loss: 0.5015 - fa_cat_loss: 0.6380 - fe_cat_accuracy: 0.9463 - fd_cat_accuracy: 0.7887 - fa_cat_accuracy: 0.7966 - val_loss: 1.3580 - val_fe_cat_loss: 0.2222 - val_fd_cat_loss: 0.5026 - val_fa_cat_loss: 0.6332 - val_fe_cat_accuracy: 0.9465 - val_fd_cat_accuracy: 0.7710 - val_fa_cat_accuracy: 0.7931\n",
            "\n",
            "Epoch 00263: val_loss did not improve from 1.34440\n",
            "Epoch 264/1000\n",
            "1031/1031 [==============================] - 2s 2ms/step - loss: 1.3689 - fe_cat_loss: 0.2235 - fd_cat_loss: 0.5075 - fa_cat_loss: 0.6379 - fe_cat_accuracy: 0.9457 - fd_cat_accuracy: 0.7841 - fa_cat_accuracy: 0.7951 - val_loss: 1.3548 - val_fe_cat_loss: 0.2190 - val_fd_cat_loss: 0.4983 - val_fa_cat_loss: 0.6375 - val_fe_cat_accuracy: 0.9471 - val_fd_cat_accuracy: 0.7980 - val_fa_cat_accuracy: 0.7868\n",
            "\n",
            "Epoch 00264: val_loss did not improve from 1.34440\n",
            "Epoch 265/1000\n",
            "1031/1031 [==============================] - 2s 2ms/step - loss: 1.3583 - fe_cat_loss: 0.2202 - fd_cat_loss: 0.5056 - fa_cat_loss: 0.6325 - fe_cat_accuracy: 0.9458 - fd_cat_accuracy: 0.7887 - fa_cat_accuracy: 0.7997 - val_loss: 1.3465 - val_fe_cat_loss: 0.2196 - val_fd_cat_loss: 0.4947 - val_fa_cat_loss: 0.6322 - val_fe_cat_accuracy: 0.9479 - val_fd_cat_accuracy: 0.7942 - val_fa_cat_accuracy: 0.7890\n",
            "\n",
            "Epoch 00265: val_loss did not improve from 1.34440\n",
            "Epoch 266/1000\n",
            "1031/1031 [==============================] - 2s 2ms/step - loss: 1.3681 - fe_cat_loss: 0.2189 - fd_cat_loss: 0.5098 - fa_cat_loss: 0.6394 - fe_cat_accuracy: 0.9468 - fd_cat_accuracy: 0.7867 - fa_cat_accuracy: 0.7950 - val_loss: 1.3519 - val_fe_cat_loss: 0.2245 - val_fd_cat_loss: 0.4995 - val_fa_cat_loss: 0.6279 - val_fe_cat_accuracy: 0.9454 - val_fd_cat_accuracy: 0.7912 - val_fa_cat_accuracy: 0.8059\n",
            "\n",
            "Epoch 00266: val_loss did not improve from 1.34440\n",
            "Epoch 267/1000\n",
            "1031/1031 [==============================] - 2s 2ms/step - loss: 1.3556 - fe_cat_loss: 0.2213 - fd_cat_loss: 0.5006 - fa_cat_loss: 0.6337 - fe_cat_accuracy: 0.9457 - fd_cat_accuracy: 0.7874 - fa_cat_accuracy: 0.7949 - val_loss: 1.3447 - val_fe_cat_loss: 0.2198 - val_fd_cat_loss: 0.4958 - val_fa_cat_loss: 0.6292 - val_fe_cat_accuracy: 0.9460 - val_fd_cat_accuracy: 0.7989 - val_fa_cat_accuracy: 0.8024\n",
            "\n",
            "Epoch 00267: val_loss did not improve from 1.34440\n",
            "Epoch 268/1000\n",
            "1031/1031 [==============================] - 2s 2ms/step - loss: 1.3593 - fe_cat_loss: 0.2198 - fd_cat_loss: 0.5035 - fa_cat_loss: 0.6360 - fe_cat_accuracy: 0.9458 - fd_cat_accuracy: 0.7931 - fa_cat_accuracy: 0.7964 - val_loss: 1.3464 - val_fe_cat_loss: 0.2191 - val_fd_cat_loss: 0.4945 - val_fa_cat_loss: 0.6328 - val_fe_cat_accuracy: 0.9490 - val_fd_cat_accuracy: 0.7964 - val_fa_cat_accuracy: 0.7836\n",
            "\n",
            "Epoch 00268: val_loss did not improve from 1.34440\n",
            "Epoch 269/1000\n",
            "1031/1031 [==============================] - 2s 2ms/step - loss: 1.3639 - fe_cat_loss: 0.2182 - fd_cat_loss: 0.5064 - fa_cat_loss: 0.6393 - fe_cat_accuracy: 0.9490 - fd_cat_accuracy: 0.7852 - fa_cat_accuracy: 0.7937 - val_loss: 1.3495 - val_fe_cat_loss: 0.2188 - val_fd_cat_loss: 0.4984 - val_fa_cat_loss: 0.6323 - val_fe_cat_accuracy: 0.9465 - val_fd_cat_accuracy: 0.7860 - val_fa_cat_accuracy: 0.7931\n",
            "\n",
            "Epoch 00269: val_loss did not improve from 1.34440\n",
            "Epoch 270/1000\n",
            "1031/1031 [==============================] - 2s 2ms/step - loss: 1.3701 - fe_cat_loss: 0.2211 - fd_cat_loss: 0.5079 - fa_cat_loss: 0.6411 - fe_cat_accuracy: 0.9472 - fd_cat_accuracy: 0.7860 - fa_cat_accuracy: 0.7902 - val_loss: 1.3551 - val_fe_cat_loss: 0.2187 - val_fd_cat_loss: 0.5027 - val_fa_cat_loss: 0.6337 - val_fe_cat_accuracy: 0.9468 - val_fd_cat_accuracy: 0.7948 - val_fa_cat_accuracy: 0.7896\n",
            "\n",
            "Epoch 00270: val_loss did not improve from 1.34440\n",
            "Epoch 271/1000\n",
            "1031/1031 [==============================] - 2s 2ms/step - loss: 1.3565 - fe_cat_loss: 0.2202 - fd_cat_loss: 0.5020 - fa_cat_loss: 0.6343 - fe_cat_accuracy: 0.9447 - fd_cat_accuracy: 0.7863 - fa_cat_accuracy: 0.7975 - val_loss: 1.3451 - val_fe_cat_loss: 0.2179 - val_fd_cat_loss: 0.4977 - val_fa_cat_loss: 0.6295 - val_fe_cat_accuracy: 0.9503 - val_fd_cat_accuracy: 0.7888 - val_fa_cat_accuracy: 0.7950\n",
            "\n",
            "Epoch 00271: val_loss did not improve from 1.34440\n",
            "Epoch 272/1000\n",
            "1031/1031 [==============================] - 2s 2ms/step - loss: 1.3655 - fe_cat_loss: 0.2171 - fd_cat_loss: 0.5045 - fa_cat_loss: 0.6439 - fe_cat_accuracy: 0.9490 - fd_cat_accuracy: 0.7896 - fa_cat_accuracy: 0.7913 - val_loss: 1.3434 - val_fe_cat_loss: 0.2185 - val_fd_cat_loss: 0.4939 - val_fa_cat_loss: 0.6309 - val_fe_cat_accuracy: 0.9449 - val_fd_cat_accuracy: 0.7972 - val_fa_cat_accuracy: 0.7959\n",
            "\n",
            "Epoch 00272: val_loss improved from 1.34440 to 1.34337, saving model to /gdrive/My Drive/ML_Dataset/Qingchengbei/train-QCB-mix-cat-vn-ok2/mix-cat-epoch1000.h5\n",
            "Epoch 273/1000\n",
            "1031/1031 [==============================] - 2s 2ms/step - loss: 1.3499 - fe_cat_loss: 0.2170 - fd_cat_loss: 0.4988 - fa_cat_loss: 0.6341 - fe_cat_accuracy: 0.9465 - fd_cat_accuracy: 0.7879 - fa_cat_accuracy: 0.7992 - val_loss: 1.3415 - val_fe_cat_loss: 0.2186 - val_fd_cat_loss: 0.4952 - val_fa_cat_loss: 0.6277 - val_fe_cat_accuracy: 0.9481 - val_fd_cat_accuracy: 0.7868 - val_fa_cat_accuracy: 0.8021\n",
            "\n",
            "Epoch 00273: val_loss improved from 1.34337 to 1.34150, saving model to /gdrive/My Drive/ML_Dataset/Qingchengbei/train-QCB-mix-cat-vn-ok2/mix-cat-epoch1000.h5\n",
            "Epoch 274/1000\n",
            "1031/1031 [==============================] - 2s 2ms/step - loss: 1.3549 - fe_cat_loss: 0.2174 - fd_cat_loss: 0.5011 - fa_cat_loss: 0.6364 - fe_cat_accuracy: 0.9481 - fd_cat_accuracy: 0.7885 - fa_cat_accuracy: 0.7982 - val_loss: 1.3416 - val_fe_cat_loss: 0.2165 - val_fd_cat_loss: 0.4948 - val_fa_cat_loss: 0.6303 - val_fe_cat_accuracy: 0.9492 - val_fd_cat_accuracy: 0.7967 - val_fa_cat_accuracy: 0.7945\n",
            "\n",
            "Epoch 00274: val_loss did not improve from 1.34150\n",
            "Epoch 275/1000\n",
            "1031/1031 [==============================] - 2s 2ms/step - loss: 1.3702 - fe_cat_loss: 0.2224 - fd_cat_loss: 0.5127 - fa_cat_loss: 0.6351 - fe_cat_accuracy: 0.9450 - fd_cat_accuracy: 0.7832 - fa_cat_accuracy: 0.7949 - val_loss: 1.3621 - val_fe_cat_loss: 0.2174 - val_fd_cat_loss: 0.5099 - val_fa_cat_loss: 0.6348 - val_fe_cat_accuracy: 0.9495 - val_fd_cat_accuracy: 0.7497 - val_fa_cat_accuracy: 0.7882\n",
            "\n",
            "Epoch 00275: val_loss did not improve from 1.34150\n",
            "Epoch 276/1000\n",
            "1031/1031 [==============================] - 2s 2ms/step - loss: 1.3596 - fe_cat_loss: 0.2163 - fd_cat_loss: 0.5064 - fa_cat_loss: 0.6369 - fe_cat_accuracy: 0.9467 - fd_cat_accuracy: 0.7839 - fa_cat_accuracy: 0.7950 - val_loss: 1.3381 - val_fe_cat_loss: 0.2164 - val_fd_cat_loss: 0.4950 - val_fa_cat_loss: 0.6266 - val_fe_cat_accuracy: 0.9487 - val_fd_cat_accuracy: 0.7808 - val_fa_cat_accuracy: 0.7980\n",
            "\n",
            "Epoch 00276: val_loss improved from 1.34150 to 1.33805, saving model to /gdrive/My Drive/ML_Dataset/Qingchengbei/train-QCB-mix-cat-vn-ok2/mix-cat-epoch1000.h5\n",
            "Epoch 277/1000\n",
            "1031/1031 [==============================] - 2s 2ms/step - loss: 1.3587 - fe_cat_loss: 0.2133 - fd_cat_loss: 0.5022 - fa_cat_loss: 0.6432 - fe_cat_accuracy: 0.9484 - fd_cat_accuracy: 0.7883 - fa_cat_accuracy: 0.7912 - val_loss: 1.3397 - val_fe_cat_loss: 0.2178 - val_fd_cat_loss: 0.4981 - val_fa_cat_loss: 0.6237 - val_fe_cat_accuracy: 0.9481 - val_fd_cat_accuracy: 0.7918 - val_fa_cat_accuracy: 0.8035\n",
            "\n",
            "Epoch 00277: val_loss did not improve from 1.33805\n",
            "Epoch 278/1000\n",
            "1031/1031 [==============================] - 2s 2ms/step - loss: 1.3636 - fe_cat_loss: 0.2211 - fd_cat_loss: 0.5058 - fa_cat_loss: 0.6367 - fe_cat_accuracy: 0.9457 - fd_cat_accuracy: 0.7884 - fa_cat_accuracy: 0.7960 - val_loss: 1.3589 - val_fe_cat_loss: 0.2218 - val_fd_cat_loss: 0.5072 - val_fa_cat_loss: 0.6299 - val_fe_cat_accuracy: 0.9476 - val_fd_cat_accuracy: 0.7519 - val_fa_cat_accuracy: 0.7912\n",
            "\n",
            "Epoch 00278: val_loss did not improve from 1.33805\n",
            "Epoch 279/1000\n",
            "1031/1031 [==============================] - 2s 2ms/step - loss: 1.3629 - fe_cat_loss: 0.2212 - fd_cat_loss: 0.5090 - fa_cat_loss: 0.6326 - fe_cat_accuracy: 0.9449 - fd_cat_accuracy: 0.7828 - fa_cat_accuracy: 0.7956 - val_loss: 1.3469 - val_fe_cat_loss: 0.2157 - val_fd_cat_loss: 0.5001 - val_fa_cat_loss: 0.6312 - val_fe_cat_accuracy: 0.9492 - val_fd_cat_accuracy: 0.7912 - val_fa_cat_accuracy: 0.7898\n",
            "\n",
            "Epoch 00279: val_loss did not improve from 1.33805\n",
            "Epoch 280/1000\n",
            "1031/1031 [==============================] - 2s 2ms/step - loss: 1.3476 - fe_cat_loss: 0.2125 - fd_cat_loss: 0.5054 - fa_cat_loss: 0.6297 - fe_cat_accuracy: 0.9499 - fd_cat_accuracy: 0.7903 - fa_cat_accuracy: 0.7979 - val_loss: 1.3456 - val_fe_cat_loss: 0.2151 - val_fd_cat_loss: 0.5072 - val_fa_cat_loss: 0.6233 - val_fe_cat_accuracy: 0.9479 - val_fd_cat_accuracy: 0.7645 - val_fa_cat_accuracy: 0.8098\n",
            "\n",
            "Epoch 00280: val_loss did not improve from 1.33805\n",
            "Epoch 281/1000\n",
            "1031/1031 [==============================] - 2s 2ms/step - loss: 1.3501 - fe_cat_loss: 0.2147 - fd_cat_loss: 0.5006 - fa_cat_loss: 0.6348 - fe_cat_accuracy: 0.9475 - fd_cat_accuracy: 0.7908 - fa_cat_accuracy: 0.7954 - val_loss: 1.3330 - val_fe_cat_loss: 0.2149 - val_fd_cat_loss: 0.4945 - val_fa_cat_loss: 0.6236 - val_fe_cat_accuracy: 0.9490 - val_fd_cat_accuracy: 0.7849 - val_fa_cat_accuracy: 0.8128\n",
            "\n",
            "Epoch 00281: val_loss improved from 1.33805 to 1.33301, saving model to /gdrive/My Drive/ML_Dataset/Qingchengbei/train-QCB-mix-cat-vn-ok2/mix-cat-epoch1000.h5\n",
            "Epoch 282/1000\n",
            "1031/1031 [==============================] - 2s 2ms/step - loss: 1.3551 - fe_cat_loss: 0.2173 - fd_cat_loss: 0.5021 - fa_cat_loss: 0.6357 - fe_cat_accuracy: 0.9469 - fd_cat_accuracy: 0.7881 - fa_cat_accuracy: 0.7939 - val_loss: 1.3507 - val_fe_cat_loss: 0.2155 - val_fd_cat_loss: 0.4946 - val_fa_cat_loss: 0.6406 - val_fe_cat_accuracy: 0.9468 - val_fd_cat_accuracy: 0.7852 - val_fa_cat_accuracy: 0.7617\n",
            "\n",
            "Epoch 00282: val_loss did not improve from 1.33301\n",
            "Epoch 283/1000\n",
            "1031/1031 [==============================] - 2s 2ms/step - loss: 1.3522 - fe_cat_loss: 0.2163 - fd_cat_loss: 0.5022 - fa_cat_loss: 0.6337 - fe_cat_accuracy: 0.9474 - fd_cat_accuracy: 0.7901 - fa_cat_accuracy: 0.7922 - val_loss: 1.3456 - val_fe_cat_loss: 0.2186 - val_fd_cat_loss: 0.4947 - val_fa_cat_loss: 0.6323 - val_fe_cat_accuracy: 0.9487 - val_fd_cat_accuracy: 0.7975 - val_fa_cat_accuracy: 0.7743\n",
            "\n",
            "Epoch 00283: val_loss did not improve from 1.33301\n",
            "Epoch 284/1000\n",
            "1031/1031 [==============================] - 2s 2ms/step - loss: 1.3477 - fe_cat_loss: 0.2163 - fd_cat_loss: 0.4977 - fa_cat_loss: 0.6338 - fe_cat_accuracy: 0.9461 - fd_cat_accuracy: 0.7887 - fa_cat_accuracy: 0.7966 - val_loss: 1.3484 - val_fe_cat_loss: 0.2151 - val_fd_cat_loss: 0.4997 - val_fa_cat_loss: 0.6336 - val_fe_cat_accuracy: 0.9468 - val_fd_cat_accuracy: 0.7721 - val_fa_cat_accuracy: 0.7847\n",
            "\n",
            "Epoch 00284: val_loss did not improve from 1.33301\n",
            "Epoch 285/1000\n",
            "1031/1031 [==============================] - 2s 2ms/step - loss: 1.3500 - fe_cat_loss: 0.2164 - fd_cat_loss: 0.5002 - fa_cat_loss: 0.6334 - fe_cat_accuracy: 0.9465 - fd_cat_accuracy: 0.7886 - fa_cat_accuracy: 0.7989 - val_loss: 1.3396 - val_fe_cat_loss: 0.2160 - val_fd_cat_loss: 0.4931 - val_fa_cat_loss: 0.6305 - val_fe_cat_accuracy: 0.9465 - val_fd_cat_accuracy: 0.7939 - val_fa_cat_accuracy: 0.7912\n",
            "\n",
            "Epoch 00285: val_loss did not improve from 1.33301\n",
            "Epoch 286/1000\n",
            "1031/1031 [==============================] - 2s 2ms/step - loss: 1.3652 - fe_cat_loss: 0.2149 - fd_cat_loss: 0.5052 - fa_cat_loss: 0.6451 - fe_cat_accuracy: 0.9460 - fd_cat_accuracy: 0.7877 - fa_cat_accuracy: 0.7910 - val_loss: 1.3547 - val_fe_cat_loss: 0.2215 - val_fd_cat_loss: 0.4976 - val_fa_cat_loss: 0.6356 - val_fe_cat_accuracy: 0.9457 - val_fd_cat_accuracy: 0.7868 - val_fa_cat_accuracy: 0.7697\n",
            "\n",
            "Epoch 00286: val_loss did not improve from 1.33301\n",
            "Epoch 287/1000\n",
            "1031/1031 [==============================] - 2s 2ms/step - loss: 1.3490 - fe_cat_loss: 0.2188 - fd_cat_loss: 0.4994 - fa_cat_loss: 0.6308 - fe_cat_accuracy: 0.9461 - fd_cat_accuracy: 0.7902 - fa_cat_accuracy: 0.7954 - val_loss: 1.3314 - val_fe_cat_loss: 0.2140 - val_fd_cat_loss: 0.4939 - val_fa_cat_loss: 0.6236 - val_fe_cat_accuracy: 0.9473 - val_fd_cat_accuracy: 0.7866 - val_fa_cat_accuracy: 0.7975\n",
            "\n",
            "Epoch 00287: val_loss improved from 1.33301 to 1.33144, saving model to /gdrive/My Drive/ML_Dataset/Qingchengbei/train-QCB-mix-cat-vn-ok2/mix-cat-epoch1000.h5\n",
            "Epoch 288/1000\n",
            "1031/1031 [==============================] - 2s 2ms/step - loss: 1.3443 - fe_cat_loss: 0.2109 - fd_cat_loss: 0.5027 - fa_cat_loss: 0.6308 - fe_cat_accuracy: 0.9501 - fd_cat_accuracy: 0.7870 - fa_cat_accuracy: 0.7926 - val_loss: 1.3321 - val_fe_cat_loss: 0.2141 - val_fd_cat_loss: 0.4967 - val_fa_cat_loss: 0.6213 - val_fe_cat_accuracy: 0.9492 - val_fd_cat_accuracy: 0.7836 - val_fa_cat_accuracy: 0.8043\n",
            "\n",
            "Epoch 00288: val_loss did not improve from 1.33144\n",
            "Epoch 289/1000\n",
            "1031/1031 [==============================] - 2s 2ms/step - loss: 1.3439 - fe_cat_loss: 0.2167 - fd_cat_loss: 0.5044 - fa_cat_loss: 0.6228 - fe_cat_accuracy: 0.9461 - fd_cat_accuracy: 0.7867 - fa_cat_accuracy: 0.8001 - val_loss: 1.3306 - val_fe_cat_loss: 0.2143 - val_fd_cat_loss: 0.4925 - val_fa_cat_loss: 0.6237 - val_fe_cat_accuracy: 0.9495 - val_fd_cat_accuracy: 0.7948 - val_fa_cat_accuracy: 0.7923\n",
            "\n",
            "Epoch 00289: val_loss improved from 1.33144 to 1.33055, saving model to /gdrive/My Drive/ML_Dataset/Qingchengbei/train-QCB-mix-cat-vn-ok2/mix-cat-epoch1000.h5\n",
            "Epoch 290/1000\n",
            "1031/1031 [==============================] - 2s 2ms/step - loss: 1.3582 - fe_cat_loss: 0.2167 - fd_cat_loss: 0.5106 - fa_cat_loss: 0.6309 - fe_cat_accuracy: 0.9461 - fd_cat_accuracy: 0.7811 - fa_cat_accuracy: 0.7938 - val_loss: 1.3319 - val_fe_cat_loss: 0.2132 - val_fd_cat_loss: 0.4935 - val_fa_cat_loss: 0.6252 - val_fe_cat_accuracy: 0.9479 - val_fd_cat_accuracy: 0.8002 - val_fa_cat_accuracy: 0.7893\n",
            "\n",
            "Epoch 00290: val_loss did not improve from 1.33055\n",
            "Epoch 291/1000\n",
            "1031/1031 [==============================] - 2s 2ms/step - loss: 1.3445 - fe_cat_loss: 0.2202 - fd_cat_loss: 0.4973 - fa_cat_loss: 0.6271 - fe_cat_accuracy: 0.9434 - fd_cat_accuracy: 0.7884 - fa_cat_accuracy: 0.7975 - val_loss: 1.3305 - val_fe_cat_loss: 0.2138 - val_fd_cat_loss: 0.4942 - val_fa_cat_loss: 0.6225 - val_fe_cat_accuracy: 0.9479 - val_fd_cat_accuracy: 0.7999 - val_fa_cat_accuracy: 0.7967\n",
            "\n",
            "Epoch 00291: val_loss improved from 1.33055 to 1.33050, saving model to /gdrive/My Drive/ML_Dataset/Qingchengbei/train-QCB-mix-cat-vn-ok2/mix-cat-epoch1000.h5\n",
            "Epoch 292/1000\n",
            "1031/1031 [==============================] - 2s 2ms/step - loss: 1.3466 - fe_cat_loss: 0.2173 - fd_cat_loss: 0.5039 - fa_cat_loss: 0.6255 - fe_cat_accuracy: 0.9452 - fd_cat_accuracy: 0.7879 - fa_cat_accuracy: 0.7982 - val_loss: 1.3281 - val_fe_cat_loss: 0.2155 - val_fd_cat_loss: 0.4921 - val_fa_cat_loss: 0.6206 - val_fe_cat_accuracy: 0.9490 - val_fd_cat_accuracy: 0.7939 - val_fa_cat_accuracy: 0.8051\n",
            "\n",
            "Epoch 00292: val_loss improved from 1.33050 to 1.32811, saving model to /gdrive/My Drive/ML_Dataset/Qingchengbei/train-QCB-mix-cat-vn-ok2/mix-cat-epoch1000.h5\n",
            "Epoch 293/1000\n",
            "1031/1031 [==============================] - 2s 2ms/step - loss: 1.3438 - fe_cat_loss: 0.2149 - fd_cat_loss: 0.5002 - fa_cat_loss: 0.6288 - fe_cat_accuracy: 0.9506 - fd_cat_accuracy: 0.7864 - fa_cat_accuracy: 0.7948 - val_loss: 1.3331 - val_fe_cat_loss: 0.2135 - val_fd_cat_loss: 0.4917 - val_fa_cat_loss: 0.6279 - val_fe_cat_accuracy: 0.9501 - val_fd_cat_accuracy: 0.7918 - val_fa_cat_accuracy: 0.7871\n",
            "\n",
            "Epoch 00293: val_loss did not improve from 1.32811\n",
            "Epoch 294/1000\n",
            "1031/1031 [==============================] - 2s 2ms/step - loss: 1.3357 - fe_cat_loss: 0.2157 - fd_cat_loss: 0.4960 - fa_cat_loss: 0.6239 - fe_cat_accuracy: 0.9463 - fd_cat_accuracy: 0.7882 - fa_cat_accuracy: 0.7986 - val_loss: 1.3364 - val_fe_cat_loss: 0.2140 - val_fd_cat_loss: 0.5021 - val_fa_cat_loss: 0.6203 - val_fe_cat_accuracy: 0.9479 - val_fd_cat_accuracy: 0.7773 - val_fa_cat_accuracy: 0.8114\n",
            "\n",
            "Epoch 00294: val_loss did not improve from 1.32811\n",
            "Epoch 295/1000\n",
            "1031/1031 [==============================] - 2s 2ms/step - loss: 1.3356 - fe_cat_loss: 0.2141 - fd_cat_loss: 0.4977 - fa_cat_loss: 0.6238 - fe_cat_accuracy: 0.9481 - fd_cat_accuracy: 0.7908 - fa_cat_accuracy: 0.7990 - val_loss: 1.3282 - val_fe_cat_loss: 0.2149 - val_fd_cat_loss: 0.4920 - val_fa_cat_loss: 0.6212 - val_fe_cat_accuracy: 0.9514 - val_fd_cat_accuracy: 0.8002 - val_fa_cat_accuracy: 0.8024\n",
            "\n",
            "Epoch 00295: val_loss did not improve from 1.32811\n",
            "Epoch 296/1000\n",
            "1031/1031 [==============================] - 2s 2ms/step - loss: 1.3480 - fe_cat_loss: 0.2131 - fd_cat_loss: 0.5023 - fa_cat_loss: 0.6326 - fe_cat_accuracy: 0.9480 - fd_cat_accuracy: 0.7908 - fa_cat_accuracy: 0.7931 - val_loss: 1.3327 - val_fe_cat_loss: 0.2122 - val_fd_cat_loss: 0.4998 - val_fa_cat_loss: 0.6207 - val_fe_cat_accuracy: 0.9481 - val_fd_cat_accuracy: 0.7898 - val_fa_cat_accuracy: 0.8049\n",
            "\n",
            "Epoch 00296: val_loss did not improve from 1.32811\n",
            "Epoch 297/1000\n",
            "1031/1031 [==============================] - 2s 2ms/step - loss: 1.3447 - fe_cat_loss: 0.2147 - fd_cat_loss: 0.5007 - fa_cat_loss: 0.6293 - fe_cat_accuracy: 0.9470 - fd_cat_accuracy: 0.7868 - fa_cat_accuracy: 0.7963 - val_loss: 1.3432 - val_fe_cat_loss: 0.2169 - val_fd_cat_loss: 0.4984 - val_fa_cat_loss: 0.6279 - val_fe_cat_accuracy: 0.9438 - val_fd_cat_accuracy: 0.7879 - val_fa_cat_accuracy: 0.7767\n",
            "\n",
            "Epoch 00297: val_loss did not improve from 1.32811\n",
            "Epoch 298/1000\n",
            "1031/1031 [==============================] - 2s 2ms/step - loss: 1.3351 - fe_cat_loss: 0.2133 - fd_cat_loss: 0.5033 - fa_cat_loss: 0.6185 - fe_cat_accuracy: 0.9488 - fd_cat_accuracy: 0.7841 - fa_cat_accuracy: 0.8001 - val_loss: 1.3250 - val_fe_cat_loss: 0.2119 - val_fd_cat_loss: 0.4935 - val_fa_cat_loss: 0.6196 - val_fe_cat_accuracy: 0.9490 - val_fd_cat_accuracy: 0.7830 - val_fa_cat_accuracy: 0.8068\n",
            "\n",
            "Epoch 00298: val_loss improved from 1.32811 to 1.32498, saving model to /gdrive/My Drive/ML_Dataset/Qingchengbei/train-QCB-mix-cat-vn-ok2/mix-cat-epoch1000.h5\n",
            "Epoch 299/1000\n",
            "1031/1031 [==============================] - 2s 2ms/step - loss: 1.3504 - fe_cat_loss: 0.2179 - fd_cat_loss: 0.5011 - fa_cat_loss: 0.6313 - fe_cat_accuracy: 0.9452 - fd_cat_accuracy: 0.7911 - fa_cat_accuracy: 0.7972 - val_loss: 1.3222 - val_fe_cat_loss: 0.2119 - val_fd_cat_loss: 0.4924 - val_fa_cat_loss: 0.6180 - val_fe_cat_accuracy: 0.9462 - val_fd_cat_accuracy: 0.7937 - val_fa_cat_accuracy: 0.8090\n",
            "\n",
            "Epoch 00299: val_loss improved from 1.32498 to 1.32224, saving model to /gdrive/My Drive/ML_Dataset/Qingchengbei/train-QCB-mix-cat-vn-ok2/mix-cat-epoch1000.h5\n",
            "Epoch 300/1000\n",
            "1031/1031 [==============================] - 2s 2ms/step - loss: 1.3393 - fe_cat_loss: 0.2184 - fd_cat_loss: 0.4981 - fa_cat_loss: 0.6227 - fe_cat_accuracy: 0.9449 - fd_cat_accuracy: 0.7862 - fa_cat_accuracy: 0.7980 - val_loss: 1.3390 - val_fe_cat_loss: 0.2114 - val_fd_cat_loss: 0.4927 - val_fa_cat_loss: 0.6349 - val_fe_cat_accuracy: 0.9473 - val_fd_cat_accuracy: 0.7844 - val_fa_cat_accuracy: 0.7787\n",
            "\n",
            "Epoch 00300: val_loss did not improve from 1.32224\n",
            "Epoch 301/1000\n",
            "1031/1031 [==============================] - 2s 2ms/step - loss: 1.3446 - fe_cat_loss: 0.2145 - fd_cat_loss: 0.5017 - fa_cat_loss: 0.6284 - fe_cat_accuracy: 0.9481 - fd_cat_accuracy: 0.7910 - fa_cat_accuracy: 0.7938 - val_loss: 1.3279 - val_fe_cat_loss: 0.2144 - val_fd_cat_loss: 0.4943 - val_fa_cat_loss: 0.6192 - val_fe_cat_accuracy: 0.9479 - val_fd_cat_accuracy: 0.7969 - val_fa_cat_accuracy: 0.8092\n",
            "\n",
            "Epoch 00301: val_loss did not improve from 1.32224\n",
            "Epoch 302/1000\n",
            "1031/1031 [==============================] - 2s 2ms/step - loss: 1.3486 - fe_cat_loss: 0.2153 - fd_cat_loss: 0.5024 - fa_cat_loss: 0.6308 - fe_cat_accuracy: 0.9473 - fd_cat_accuracy: 0.7874 - fa_cat_accuracy: 0.7971 - val_loss: 1.3329 - val_fe_cat_loss: 0.2123 - val_fd_cat_loss: 0.5004 - val_fa_cat_loss: 0.6202 - val_fe_cat_accuracy: 0.9503 - val_fd_cat_accuracy: 0.7631 - val_fa_cat_accuracy: 0.8005\n",
            "\n",
            "Epoch 00302: val_loss did not improve from 1.32224\n",
            "Epoch 303/1000\n",
            "1031/1031 [==============================] - 2s 2ms/step - loss: 1.3274 - fe_cat_loss: 0.2102 - fd_cat_loss: 0.4973 - fa_cat_loss: 0.6199 - fe_cat_accuracy: 0.9485 - fd_cat_accuracy: 0.7883 - fa_cat_accuracy: 0.8010 - val_loss: 1.3244 - val_fe_cat_loss: 0.2141 - val_fd_cat_loss: 0.4934 - val_fa_cat_loss: 0.6169 - val_fe_cat_accuracy: 0.9503 - val_fd_cat_accuracy: 0.7972 - val_fa_cat_accuracy: 0.8038\n",
            "\n",
            "Epoch 00303: val_loss did not improve from 1.32224\n",
            "Epoch 304/1000\n",
            "1031/1031 [==============================] - 2s 2ms/step - loss: 1.3449 - fe_cat_loss: 0.2138 - fd_cat_loss: 0.5001 - fa_cat_loss: 0.6310 - fe_cat_accuracy: 0.9478 - fd_cat_accuracy: 0.7882 - fa_cat_accuracy: 0.7941 - val_loss: 1.3345 - val_fe_cat_loss: 0.2123 - val_fd_cat_loss: 0.4964 - val_fa_cat_loss: 0.6258 - val_fe_cat_accuracy: 0.9446 - val_fd_cat_accuracy: 0.7948 - val_fa_cat_accuracy: 0.7825\n",
            "\n",
            "Epoch 00304: val_loss did not improve from 1.32224\n",
            "Epoch 305/1000\n",
            "1031/1031 [==============================] - 2s 2ms/step - loss: 1.3524 - fe_cat_loss: 0.2157 - fd_cat_loss: 0.5051 - fa_cat_loss: 0.6317 - fe_cat_accuracy: 0.9456 - fd_cat_accuracy: 0.7870 - fa_cat_accuracy: 0.7911 - val_loss: 1.3431 - val_fe_cat_loss: 0.2174 - val_fd_cat_loss: 0.4927 - val_fa_cat_loss: 0.6330 - val_fe_cat_accuracy: 0.9402 - val_fd_cat_accuracy: 0.7983 - val_fa_cat_accuracy: 0.7915\n",
            "\n",
            "Epoch 00305: val_loss did not improve from 1.32224\n",
            "Epoch 306/1000\n",
            "1031/1031 [==============================] - 2s 2ms/step - loss: 1.3419 - fe_cat_loss: 0.2123 - fd_cat_loss: 0.5038 - fa_cat_loss: 0.6258 - fe_cat_accuracy: 0.9485 - fd_cat_accuracy: 0.7846 - fa_cat_accuracy: 0.7961 - val_loss: 1.3337 - val_fe_cat_loss: 0.2130 - val_fd_cat_loss: 0.4984 - val_fa_cat_loss: 0.6223 - val_fe_cat_accuracy: 0.9454 - val_fd_cat_accuracy: 0.7751 - val_fa_cat_accuracy: 0.8008\n",
            "\n",
            "Epoch 00306: val_loss did not improve from 1.32224\n",
            "Epoch 307/1000\n",
            "1031/1031 [==============================] - 2s 2ms/step - loss: 1.3367 - fe_cat_loss: 0.2118 - fd_cat_loss: 0.5026 - fa_cat_loss: 0.6223 - fe_cat_accuracy: 0.9482 - fd_cat_accuracy: 0.7858 - fa_cat_accuracy: 0.7975 - val_loss: 1.3345 - val_fe_cat_loss: 0.2149 - val_fd_cat_loss: 0.4992 - val_fa_cat_loss: 0.6205 - val_fe_cat_accuracy: 0.9471 - val_fd_cat_accuracy: 0.7683 - val_fa_cat_accuracy: 0.8010\n",
            "\n",
            "Epoch 00307: val_loss did not improve from 1.32224\n",
            "Epoch 308/1000\n",
            "1031/1031 [==============================] - 2s 2ms/step - loss: 1.3403 - fe_cat_loss: 0.2114 - fd_cat_loss: 0.5064 - fa_cat_loss: 0.6225 - fe_cat_accuracy: 0.9502 - fd_cat_accuracy: 0.7819 - fa_cat_accuracy: 0.7982 - val_loss: 1.3203 - val_fe_cat_loss: 0.2123 - val_fd_cat_loss: 0.4915 - val_fa_cat_loss: 0.6165 - val_fe_cat_accuracy: 0.9462 - val_fd_cat_accuracy: 0.7885 - val_fa_cat_accuracy: 0.8147\n",
            "\n",
            "Epoch 00308: val_loss improved from 1.32224 to 1.32028, saving model to /gdrive/My Drive/ML_Dataset/Qingchengbei/train-QCB-mix-cat-vn-ok2/mix-cat-epoch1000.h5\n",
            "Epoch 309/1000\n",
            "1031/1031 [==============================] - 2s 2ms/step - loss: 1.3350 - fe_cat_loss: 0.2133 - fd_cat_loss: 0.5012 - fa_cat_loss: 0.6205 - fe_cat_accuracy: 0.9466 - fd_cat_accuracy: 0.7885 - fa_cat_accuracy: 0.8004 - val_loss: 1.3248 - val_fe_cat_loss: 0.2124 - val_fd_cat_loss: 0.4944 - val_fa_cat_loss: 0.6180 - val_fe_cat_accuracy: 0.9471 - val_fd_cat_accuracy: 0.7967 - val_fa_cat_accuracy: 0.7999\n",
            "\n",
            "Epoch 00309: val_loss did not improve from 1.32028\n",
            "Epoch 310/1000\n",
            "1031/1031 [==============================] - 2s 2ms/step - loss: 1.3332 - fe_cat_loss: 0.2094 - fd_cat_loss: 0.5006 - fa_cat_loss: 0.6232 - fe_cat_accuracy: 0.9478 - fd_cat_accuracy: 0.7929 - fa_cat_accuracy: 0.7984 - val_loss: 1.3293 - val_fe_cat_loss: 0.2148 - val_fd_cat_loss: 0.4909 - val_fa_cat_loss: 0.6235 - val_fe_cat_accuracy: 0.9476 - val_fd_cat_accuracy: 0.7969 - val_fa_cat_accuracy: 0.7811\n",
            "\n",
            "Epoch 00310: val_loss did not improve from 1.32028\n",
            "Epoch 311/1000\n",
            "1031/1031 [==============================] - 2s 2ms/step - loss: 1.3301 - fe_cat_loss: 0.2081 - fd_cat_loss: 0.4976 - fa_cat_loss: 0.6243 - fe_cat_accuracy: 0.9483 - fd_cat_accuracy: 0.7909 - fa_cat_accuracy: 0.7987 - val_loss: 1.3169 - val_fe_cat_loss: 0.2101 - val_fd_cat_loss: 0.4915 - val_fa_cat_loss: 0.6153 - val_fe_cat_accuracy: 0.9490 - val_fd_cat_accuracy: 0.7920 - val_fa_cat_accuracy: 0.8054\n",
            "\n",
            "Epoch 00311: val_loss improved from 1.32028 to 1.31687, saving model to /gdrive/My Drive/ML_Dataset/Qingchengbei/train-QCB-mix-cat-vn-ok2/mix-cat-epoch1000.h5\n",
            "Epoch 312/1000\n",
            "1031/1031 [==============================] - 2s 2ms/step - loss: 1.3324 - fe_cat_loss: 0.2091 - fd_cat_loss: 0.4963 - fa_cat_loss: 0.6271 - fe_cat_accuracy: 0.9491 - fd_cat_accuracy: 0.7881 - fa_cat_accuracy: 0.7941 - val_loss: 1.3191 - val_fe_cat_loss: 0.2097 - val_fd_cat_loss: 0.4928 - val_fa_cat_loss: 0.6166 - val_fe_cat_accuracy: 0.9495 - val_fd_cat_accuracy: 0.7838 - val_fa_cat_accuracy: 0.8054\n",
            "\n",
            "Epoch 00312: val_loss did not improve from 1.31687\n",
            "Epoch 313/1000\n",
            "1031/1031 [==============================] - 2s 2ms/step - loss: 1.3335 - fe_cat_loss: 0.2153 - fd_cat_loss: 0.5052 - fa_cat_loss: 0.6130 - fe_cat_accuracy: 0.9457 - fd_cat_accuracy: 0.7840 - fa_cat_accuracy: 0.8026 - val_loss: 1.3353 - val_fe_cat_loss: 0.2091 - val_fd_cat_loss: 0.5039 - val_fa_cat_loss: 0.6223 - val_fe_cat_accuracy: 0.9495 - val_fd_cat_accuracy: 0.7533 - val_fa_cat_accuracy: 0.7980\n",
            "\n",
            "Epoch 00313: val_loss did not improve from 1.31687\n",
            "Epoch 314/1000\n",
            "1031/1031 [==============================] - 2s 2ms/step - loss: 1.3367 - fe_cat_loss: 0.2119 - fd_cat_loss: 0.4993 - fa_cat_loss: 0.6255 - fe_cat_accuracy: 0.9485 - fd_cat_accuracy: 0.7888 - fa_cat_accuracy: 0.7951 - val_loss: 1.3158 - val_fe_cat_loss: 0.2109 - val_fd_cat_loss: 0.4903 - val_fa_cat_loss: 0.6146 - val_fe_cat_accuracy: 0.9465 - val_fd_cat_accuracy: 0.7997 - val_fa_cat_accuracy: 0.8021\n",
            "\n",
            "Epoch 00314: val_loss improved from 1.31687 to 1.31576, saving model to /gdrive/My Drive/ML_Dataset/Qingchengbei/train-QCB-mix-cat-vn-ok2/mix-cat-epoch1000.h5\n",
            "Epoch 315/1000\n",
            "1031/1031 [==============================] - 2s 2ms/step - loss: 1.3287 - fe_cat_loss: 0.2093 - fd_cat_loss: 0.4994 - fa_cat_loss: 0.6200 - fe_cat_accuracy: 0.9481 - fd_cat_accuracy: 0.7899 - fa_cat_accuracy: 0.7994 - val_loss: 1.3186 - val_fe_cat_loss: 0.2119 - val_fd_cat_loss: 0.4920 - val_fa_cat_loss: 0.6147 - val_fe_cat_accuracy: 0.9476 - val_fd_cat_accuracy: 0.7939 - val_fa_cat_accuracy: 0.8158\n",
            "\n",
            "Epoch 00315: val_loss did not improve from 1.31576\n",
            "Epoch 316/1000\n",
            "1031/1031 [==============================] - 2s 2ms/step - loss: 1.3270 - fe_cat_loss: 0.2017 - fd_cat_loss: 0.4957 - fa_cat_loss: 0.6296 - fe_cat_accuracy: 0.9508 - fd_cat_accuracy: 0.7930 - fa_cat_accuracy: 0.8010 - val_loss: 1.3273 - val_fe_cat_loss: 0.2086 - val_fd_cat_loss: 0.4955 - val_fa_cat_loss: 0.6233 - val_fe_cat_accuracy: 0.9484 - val_fd_cat_accuracy: 0.7844 - val_fa_cat_accuracy: 0.7959\n",
            "\n",
            "Epoch 00316: val_loss did not improve from 1.31576\n",
            "Epoch 317/1000\n",
            "1031/1031 [==============================] - 2s 2ms/step - loss: 1.3313 - fe_cat_loss: 0.2070 - fd_cat_loss: 0.4950 - fa_cat_loss: 0.6293 - fe_cat_accuracy: 0.9500 - fd_cat_accuracy: 0.7925 - fa_cat_accuracy: 0.7964 - val_loss: 1.3141 - val_fe_cat_loss: 0.2096 - val_fd_cat_loss: 0.4909 - val_fa_cat_loss: 0.6137 - val_fe_cat_accuracy: 0.9503 - val_fd_cat_accuracy: 0.7994 - val_fa_cat_accuracy: 0.8084\n",
            "\n",
            "Epoch 00317: val_loss improved from 1.31576 to 1.31407, saving model to /gdrive/My Drive/ML_Dataset/Qingchengbei/train-QCB-mix-cat-vn-ok2/mix-cat-epoch1000.h5\n",
            "Epoch 318/1000\n",
            "1031/1031 [==============================] - 2s 2ms/step - loss: 1.3394 - fe_cat_loss: 0.2119 - fd_cat_loss: 0.5028 - fa_cat_loss: 0.6246 - fe_cat_accuracy: 0.9468 - fd_cat_accuracy: 0.7872 - fa_cat_accuracy: 0.7985 - val_loss: 1.3201 - val_fe_cat_loss: 0.2093 - val_fd_cat_loss: 0.4933 - val_fa_cat_loss: 0.6175 - val_fe_cat_accuracy: 0.9468 - val_fd_cat_accuracy: 0.7778 - val_fa_cat_accuracy: 0.8029\n",
            "\n",
            "Epoch 00318: val_loss did not improve from 1.31407\n",
            "Epoch 319/1000\n",
            "1031/1031 [==============================] - 2s 2ms/step - loss: 1.3405 - fe_cat_loss: 0.2113 - fd_cat_loss: 0.5027 - fa_cat_loss: 0.6264 - fe_cat_accuracy: 0.9489 - fd_cat_accuracy: 0.7856 - fa_cat_accuracy: 0.7958 - val_loss: 1.3160 - val_fe_cat_loss: 0.2099 - val_fd_cat_loss: 0.4911 - val_fa_cat_loss: 0.6150 - val_fe_cat_accuracy: 0.9484 - val_fd_cat_accuracy: 0.7912 - val_fa_cat_accuracy: 0.8059\n",
            "\n",
            "Epoch 00319: val_loss did not improve from 1.31407\n",
            "Epoch 320/1000\n",
            "1031/1031 [==============================] - 2s 2ms/step - loss: 1.3262 - fe_cat_loss: 0.2061 - fd_cat_loss: 0.4988 - fa_cat_loss: 0.6212 - fe_cat_accuracy: 0.9499 - fd_cat_accuracy: 0.7934 - fa_cat_accuracy: 0.8007 - val_loss: 1.3341 - val_fe_cat_loss: 0.2099 - val_fd_cat_loss: 0.5043 - val_fa_cat_loss: 0.6199 - val_fe_cat_accuracy: 0.9465 - val_fd_cat_accuracy: 0.7991 - val_fa_cat_accuracy: 0.7997\n",
            "\n",
            "Epoch 00320: val_loss did not improve from 1.31407\n",
            "Epoch 321/1000\n",
            "1031/1031 [==============================] - 2s 2ms/step - loss: 1.3381 - fe_cat_loss: 0.2106 - fd_cat_loss: 0.5005 - fa_cat_loss: 0.6270 - fe_cat_accuracy: 0.9473 - fd_cat_accuracy: 0.7890 - fa_cat_accuracy: 0.7947 - val_loss: 1.3110 - val_fe_cat_loss: 0.2090 - val_fd_cat_loss: 0.4894 - val_fa_cat_loss: 0.6126 - val_fe_cat_accuracy: 0.9479 - val_fd_cat_accuracy: 0.7934 - val_fa_cat_accuracy: 0.8128\n",
            "\n",
            "Epoch 00321: val_loss improved from 1.31407 to 1.31099, saving model to /gdrive/My Drive/ML_Dataset/Qingchengbei/train-QCB-mix-cat-vn-ok2/mix-cat-epoch1000.h5\n",
            "Epoch 322/1000\n",
            "1031/1031 [==============================] - 2s 2ms/step - loss: 1.3394 - fe_cat_loss: 0.2105 - fd_cat_loss: 0.5044 - fa_cat_loss: 0.6245 - fe_cat_accuracy: 0.9481 - fd_cat_accuracy: 0.7853 - fa_cat_accuracy: 0.7965 - val_loss: 1.3167 - val_fe_cat_loss: 0.2107 - val_fd_cat_loss: 0.4912 - val_fa_cat_loss: 0.6149 - val_fe_cat_accuracy: 0.9451 - val_fd_cat_accuracy: 0.7822 - val_fa_cat_accuracy: 0.7980\n",
            "\n",
            "Epoch 00322: val_loss did not improve from 1.31099\n",
            "Epoch 323/1000\n",
            "1031/1031 [==============================] - 2s 2ms/step - loss: 1.3229 - fe_cat_loss: 0.2060 - fd_cat_loss: 0.4944 - fa_cat_loss: 0.6224 - fe_cat_accuracy: 0.9502 - fd_cat_accuracy: 0.7880 - fa_cat_accuracy: 0.7963 - val_loss: 1.3179 - val_fe_cat_loss: 0.2080 - val_fd_cat_loss: 0.4915 - val_fa_cat_loss: 0.6185 - val_fe_cat_accuracy: 0.9495 - val_fd_cat_accuracy: 0.7956 - val_fa_cat_accuracy: 0.7923\n",
            "\n",
            "Epoch 00323: val_loss did not improve from 1.31099\n",
            "Epoch 324/1000\n",
            "1031/1031 [==============================] - 2s 2ms/step - loss: 1.3196 - fe_cat_loss: 0.2061 - fd_cat_loss: 0.4934 - fa_cat_loss: 0.6201 - fe_cat_accuracy: 0.9491 - fd_cat_accuracy: 0.7935 - fa_cat_accuracy: 0.7982 - val_loss: 1.3129 - val_fe_cat_loss: 0.2090 - val_fd_cat_loss: 0.4916 - val_fa_cat_loss: 0.6123 - val_fe_cat_accuracy: 0.9522 - val_fd_cat_accuracy: 0.7877 - val_fa_cat_accuracy: 0.8051\n",
            "\n",
            "Epoch 00324: val_loss did not improve from 1.31099\n",
            "Epoch 325/1000\n",
            "1031/1031 [==============================] - 2s 2ms/step - loss: 1.3319 - fe_cat_loss: 0.2070 - fd_cat_loss: 0.5027 - fa_cat_loss: 0.6222 - fe_cat_accuracy: 0.9492 - fd_cat_accuracy: 0.7889 - fa_cat_accuracy: 0.7979 - val_loss: 1.3200 - val_fe_cat_loss: 0.2102 - val_fd_cat_loss: 0.4972 - val_fa_cat_loss: 0.6126 - val_fe_cat_accuracy: 0.9462 - val_fd_cat_accuracy: 0.7677 - val_fa_cat_accuracy: 0.8062\n",
            "\n",
            "Epoch 00325: val_loss did not improve from 1.31099\n",
            "Epoch 326/1000\n",
            "1031/1031 [==============================] - 2s 2ms/step - loss: 1.3404 - fe_cat_loss: 0.2092 - fd_cat_loss: 0.5046 - fa_cat_loss: 0.6266 - fe_cat_accuracy: 0.9483 - fd_cat_accuracy: 0.7823 - fa_cat_accuracy: 0.7945 - val_loss: 1.3214 - val_fe_cat_loss: 0.2086 - val_fd_cat_loss: 0.5015 - val_fa_cat_loss: 0.6113 - val_fe_cat_accuracy: 0.9484 - val_fd_cat_accuracy: 0.7931 - val_fa_cat_accuracy: 0.8073\n",
            "\n",
            "Epoch 00326: val_loss did not improve from 1.31099\n",
            "Epoch 327/1000\n",
            "1031/1031 [==============================] - 2s 2ms/step - loss: 1.3237 - fe_cat_loss: 0.2079 - fd_cat_loss: 0.4984 - fa_cat_loss: 0.6174 - fe_cat_accuracy: 0.9477 - fd_cat_accuracy: 0.7875 - fa_cat_accuracy: 0.8009 - val_loss: 1.3250 - val_fe_cat_loss: 0.2084 - val_fd_cat_loss: 0.5035 - val_fa_cat_loss: 0.6131 - val_fe_cat_accuracy: 0.9468 - val_fd_cat_accuracy: 0.7860 - val_fa_cat_accuracy: 0.8049\n",
            "\n",
            "Epoch 00327: val_loss did not improve from 1.31099\n",
            "Epoch 328/1000\n",
            "1031/1031 [==============================] - 2s 2ms/step - loss: 1.3311 - fe_cat_loss: 0.2103 - fd_cat_loss: 0.4991 - fa_cat_loss: 0.6217 - fe_cat_accuracy: 0.9478 - fd_cat_accuracy: 0.7870 - fa_cat_accuracy: 0.8011 - val_loss: 1.3137 - val_fe_cat_loss: 0.2093 - val_fd_cat_loss: 0.4889 - val_fa_cat_loss: 0.6155 - val_fe_cat_accuracy: 0.9449 - val_fd_cat_accuracy: 0.7994 - val_fa_cat_accuracy: 0.7978\n",
            "\n",
            "Epoch 00328: val_loss did not improve from 1.31099\n",
            "Epoch 329/1000\n",
            "1031/1031 [==============================] - 2s 2ms/step - loss: 1.3313 - fe_cat_loss: 0.2083 - fd_cat_loss: 0.5022 - fa_cat_loss: 0.6208 - fe_cat_accuracy: 0.9495 - fd_cat_accuracy: 0.7881 - fa_cat_accuracy: 0.7999 - val_loss: 1.3140 - val_fe_cat_loss: 0.2069 - val_fd_cat_loss: 0.4924 - val_fa_cat_loss: 0.6147 - val_fe_cat_accuracy: 0.9487 - val_fd_cat_accuracy: 0.7833 - val_fa_cat_accuracy: 0.7961\n",
            "\n",
            "Epoch 00329: val_loss did not improve from 1.31099\n",
            "Epoch 330/1000\n",
            "1031/1031 [==============================] - 2s 2ms/step - loss: 1.3184 - fe_cat_loss: 0.2062 - fd_cat_loss: 0.4957 - fa_cat_loss: 0.6166 - fe_cat_accuracy: 0.9487 - fd_cat_accuracy: 0.7906 - fa_cat_accuracy: 0.8012 - val_loss: 1.3133 - val_fe_cat_loss: 0.2096 - val_fd_cat_loss: 0.4904 - val_fa_cat_loss: 0.6133 - val_fe_cat_accuracy: 0.9481 - val_fd_cat_accuracy: 0.7997 - val_fa_cat_accuracy: 0.7975\n",
            "\n",
            "Epoch 00330: val_loss did not improve from 1.31099\n",
            "Epoch 331/1000\n",
            "1031/1031 [==============================] - 2s 2ms/step - loss: 1.3238 - fe_cat_loss: 0.2070 - fd_cat_loss: 0.4955 - fa_cat_loss: 0.6213 - fe_cat_accuracy: 0.9478 - fd_cat_accuracy: 0.7930 - fa_cat_accuracy: 0.7956 - val_loss: 1.3185 - val_fe_cat_loss: 0.2099 - val_fd_cat_loss: 0.4981 - val_fa_cat_loss: 0.6105 - val_fe_cat_accuracy: 0.9492 - val_fd_cat_accuracy: 0.7647 - val_fa_cat_accuracy: 0.8070\n",
            "\n",
            "Epoch 00331: val_loss did not improve from 1.31099\n",
            "Training Finish\n",
            "save model weights success!\n",
            "Model Training Complete!\n"
          ]
        }
      ],
      "source": [
        "print('Model Training ...')\n",
        "# 'validation_data':([xazi_train[:2000], xdata_train[:2000]], [ye_train[:2000],yd_train[:2000],ya_train[:2000]]),\n",
        "startepoch=0\n",
        "kwargs={'validation_data':None,'patience':10,'every':5,'startAt':startepoch}#'cb_no':['es'],\n",
        "cat_hist = cnnmodel.train_model(model_cat, xellip_train, [ye_train,yd_train,ya_train],\n",
        "                                wfile,logpath,lfile,hfile,epoch=1000,valRt=0.1,initial_epoch=startepoch,**kwargs)\n",
        "\n",
        "print('Model Training Complete!')"
      ]
    },
    {
      "cell_type": "code",
      "execution_count": null,
      "metadata": {
        "id": "52c0fIJzm49E"
      },
      "outputs": [],
      "source": [
        "cat_hist = utils.load_history(hfile)"
      ]
    },
    {
      "cell_type": "code",
      "execution_count": null,
      "metadata": {
        "colab": {
          "base_uri": "https://localhost:8080/",
          "height": 279
        },
        "id": "r1M-QzfFm49E",
        "outputId": "a12eec35-5fcb-4c53-aa6d-2845a94083df"
      },
      "outputs": [
        {
          "data": {
            "image/png": "[encoded data removed]",
            "text/plain": [
              "<Figure size 432x288 with 1 Axes>"
            ]
          },
          "metadata": {
            "needs_background": "light",
            "tags": []
          },
          "output_type": "display_data"
        }
      ],
      "source": [
        "utils.plot_history(cat_hist,feature='loss')"
      ]
    },
    {
      "cell_type": "code",
      "execution_count": null,
      "metadata": {
        "colab": {
          "base_uri": "https://localhost:8080/",
          "height": 279
        },
        "id": "JAId5pv-m49E",
        "outputId": "e070edd6-1df1-4212-be81-92e86de30dd9"
      },
      "outputs": [
        {
          "data": {
            "image/png": "[encoded data removed]",
            "text/plain": [
              "<Figure size 432x288 with 1 Axes>"
            ]
          },
          "metadata": {
            "needs_background": "light",
            "tags": []
          },
          "output_type": "display_data"
        }
      ],
      "source": [
        "utils.plot_history(cat_hist,feature='fe_cat_loss')"
      ]
    },
    {
      "cell_type": "code",
      "execution_count": null,
      "metadata": {
        "colab": {
          "base_uri": "https://localhost:8080/",
          "height": 282
        },
        "id": "PhpcMxWqm49F",
        "outputId": "7be3acf6-2caa-4b4f-c666-5afe33257f17"
      },
      "outputs": [
        {
          "data": {
            "image/png": "[encoded data removed]",
            "text/plain": [
              "<Figure size 432x288 with 1 Axes>"
            ]
          },
          "metadata": {
            "needs_background": "light",
            "tags": []
          },
          "output_type": "display_data"
        }
      ],
      "source": [
        "utils.plot_history(cat_hist,feature='fd_cat_loss')"
      ]
    },
    {
      "cell_type": "code",
      "execution_count": null,
      "metadata": {
        "colab": {
          "base_uri": "https://localhost:8080/",
          "height": 279
        },
        "id": "kcCR1rAVm49F",
        "outputId": "c5c06915-a9ac-4101-c7d6-cad98fa43547"
      },
      "outputs": [
        {
          "data": {
            "image/png": "[encoded data removed]",
            "text/plain": [
              "<Figure size 432x288 with 1 Axes>"
            ]
          },
          "metadata": {
            "needs_background": "light",
            "tags": []
          },
          "output_type": "display_data"
        }
      ],
      "source": [
        "utils.plot_history(cat_hist,feature='fa_cat_loss')"
      ]
    },
    {
      "cell_type": "code",
      "execution_count": null,
      "metadata": {
        "colab": {
          "base_uri": "https://localhost:8080/",
          "height": 279
        },
        "id": "g2IDQfT8m49F",
        "outputId": "f3a468e5-a5b9-4711-f34f-7611dd1da3e5"
      },
      "outputs": [
        {
          "data": {
            "image/png": "[encoded data removed]",
            "text/plain": [
              "<Figure size 432x288 with 1 Axes>"
            ]
          },
          "metadata": {
            "needs_background": "light",
            "tags": []
          },
          "output_type": "display_data"
        }
      ],
      "source": [
        "utils.plot_history(cat_hist,feature='fe_cat_accuracy')"
      ]
    },
    {
      "cell_type": "code",
      "execution_count": null,
      "metadata": {
        "colab": {
          "base_uri": "https://localhost:8080/",
          "height": 279
        },
        "id": "Ys-rR5ftm49F",
        "outputId": "a37a89f4-26f0-42d5-8311-46d1d89a0836"
      },
      "outputs": [
        {
          "data": {
            "image/png": "[encoded data removed]",
            "text/plain": [
              "<Figure size 432x288 with 1 Axes>"
            ]
          },
          "metadata": {
            "needs_background": "light",
            "tags": []
          },
          "output_type": "display_data"
        }
      ],
      "source": [
        "utils.plot_history(cat_hist,feature='fd_cat_accuracy')"
      ]
    },
    {
      "cell_type": "code",
      "execution_count": null,
      "metadata": {
        "colab": {
          "base_uri": "https://localhost:8080/",
          "height": 279
        },
        "id": "C3cWKPr9m49G",
        "outputId": "5d561af0-441d-4ca5-f302-7e40f0930217"
      },
      "outputs": [
        {
          "data": {
            "image/png": "[encoded data removed]",
            "text/plain": [
              "<Figure size 432x288 with 1 Axes>"
            ]
          },
          "metadata": {
            "needs_background": "light",
            "tags": []
          },
          "output_type": "display_data"
        }
      ],
      "source": [
        "utils.plot_history(cat_hist,feature='fa_cat_accuracy')"
      ]
    },
    {
      "cell_type": "code",
      "execution_count": null,
      "metadata": {
        "colab": {
          "base_uri": "https://localhost:8080/"
        },
        "id": "ANYt7gaGm49G",
        "outputId": "dd1ddca5-e858-4a24-9030-c7d90185d35c"
      },
      "outputs": [
        {
          "data": {
            "text/plain": [
              "<tensorflow.python.keras.engine.functional.Functional at 0x7ff122843dd0>"
            ]
          },
          "execution_count": 431,
          "metadata": {
            "tags": []
          },
          "output_type": "execute_result"
        }
      ],
      "source": [
        "utils.load_weights(model_cat, wfile)"
      ]
    },
    {
      "cell_type": "code",
      "execution_count": null,
      "metadata": {
        "colab": {
          "base_uri": "https://localhost:8080/"
        },
        "id": "r8xsTSF8m49G",
        "outputId": "4a9564bc-b421-434a-e062-19e81b70ab9b"
      },
      "outputs": [
        {
          "name": "stdout",
          "output_type": "stream",
          "text": [
            "287/287 [==============================] - 0s 1ms/step - loss: 1.3082 - fe_cat_loss: 0.1973 - fd_cat_loss: 0.4933 - fa_cat_loss: 0.6176 - fe_cat_accuracy: 0.9533 - fd_cat_accuracy: 0.7749 - fa_cat_accuracy: 0.8071\n",
            "[1.3082083463668823, 0.19732312858104706, 0.4932868480682373, 0.617598295211792, 0.9532700181007385, 0.7748662233352661, 0.807075023651123]\n"
          ]
        }
      ],
      "source": [
        "cnnmodel.model_valid(model_cat, xellip_test, [ye_test, yd_test, ya_test])"
      ]
    },
    {
      "cell_type": "code",
      "execution_count": null,
      "metadata": {
        "id": "6sZOJdmgm49G"
      },
      "outputs": [],
      "source": [
        "ye_prdt, yd_prdt, ya_prdt = model_cat.predict(xellip_test)"
      ]
    },
    {
      "cell_type": "code",
      "execution_count": null,
      "metadata": {
        "colab": {
          "base_uri": "https://localhost:8080/"
        },
        "id": "6oLbKtKBm49H",
        "outputId": "80ae5cc4-1d2b-4748-d510-e98744b85701"
      },
      "outputs": [
        {
          "data": {
            "text/plain": [
              "0.9532700076427557"
            ]
          },
          "execution_count": 434,
          "metadata": {
            "tags": []
          },
          "output_type": "execute_result"
        }
      ],
      "source": [
        "ye_cat = lblist[0].inverse_transform(ye_prdt)\n",
        "ye_lbl = lblist[0].inverse_transform(ye_test)\n",
        "cm=confusion_matrix(ye_lbl, ye_cat)\n",
        "accuracy_score(ye_lbl, ye_cat)"
      ]
    },
    {
      "cell_type": "code",
      "execution_count": null,
      "metadata": {
        "colab": {
          "base_uri": "https://localhost:8080/",
          "height": 279
        },
        "id": "K-uMTMgxm49H",
        "outputId": "6891869b-704a-42c2-a41d-951f2aced25f"
      },
      "outputs": [
        {
          "data": {
            "image/png": "[encoded data removed]",
            "text/plain": [
              "<Figure size 432x288 with 2 Axes>"
            ]
          },
          "metadata": {
            "needs_background": "light",
            "tags": []
          },
          "output_type": "display_data"
        }
      ],
      "source": [
        "fig, ax = plt.subplots()#figsize=(4, 4)\n",
        "disp = ConfusionMatrixDisplay(confusion_matrix=cm, display_labels=lblist[0].classes_)\n",
        "disp.plot(cmap=plt.cm.Blues, ax=ax)\n",
        "fig.savefig(os.path.join(figpath,'model-ok-cm-fe.svg'), dpi=300, bbox_inches='tight')"
      ]
    },
    {
      "cell_type": "code",
      "execution_count": null,
      "metadata": {
        "colab": {
          "base_uri": "https://localhost:8080/"
        },
        "id": "79IKG4kqm49H",
        "outputId": "99a09708-6e70-4861-9999-494e901a8069"
      },
      "outputs": [
        {
          "data": {
            "text/plain": [
              "0.7748662517742112"
            ]
          },
          "execution_count": 436,
          "metadata": {
            "tags": []
          },
          "output_type": "execute_result"
        }
      ],
      "source": [
        "yd_cat = lblist[1].inverse_transform(yd_prdt)\n",
        "yd_lbl = lblist[1].inverse_transform(yd_test)\n",
        "cm=confusion_matrix(yd_lbl, yd_cat)\n",
        "accuracy_score(yd_lbl, yd_cat)"
      ]
    },
    {
      "cell_type": "code",
      "execution_count": null,
      "metadata": {
        "colab": {
          "base_uri": "https://localhost:8080/",
          "height": 279
        },
        "id": "bBnu_U-km49H",
        "outputId": "9da81382-1170-4d7f-e32a-3b2d6fbab8c2"
      },
      "outputs": [
        {
          "data": {
            "image/png": "[encoded data removed]",
            "text/plain": [
              "<Figure size 432x288 with 2 Axes>"
            ]
          },
          "metadata": {
            "needs_background": "light",
            "tags": []
          },
          "output_type": "display_data"
        }
      ],
      "source": [
        "fig, ax = plt.subplots()#figsize=(4, 4)\n",
        "disp = ConfusionMatrixDisplay(confusion_matrix=cm, display_labels=lblist[1].classes_)\n",
        "disp.plot(cmap=plt.cm.Blues, ax=ax)\n",
        "fig.savefig(os.path.join(figpath,'model-ok-cm-fd.svg'), dpi=300, bbox_inches='tight')"
      ]
    },
    {
      "cell_type": "code",
      "execution_count": null,
      "metadata": {
        "colab": {
          "base_uri": "https://localhost:8080/"
        },
        "id": "a7_roz8Pm49I",
        "outputId": "86120c69-3b5c-4909-fc69-9d07c33a4e02"
      },
      "outputs": [
        {
          "data": {
            "text/plain": [
              "0.8070750081886668"
            ]
          },
          "execution_count": 438,
          "metadata": {
            "tags": []
          },
          "output_type": "execute_result"
        }
      ],
      "source": [
        "ya_cat = lblist[2].inverse_transform(ya_prdt)\n",
        "ya_lbl = lblist[2].inverse_transform(ya_test)\n",
        "cm=confusion_matrix(ya_lbl, ya_cat)\n",
        "accuracy_score(ya_lbl, ya_cat)"
      ]
    },
    {
      "cell_type": "code",
      "execution_count": null,
      "metadata": {
        "colab": {
          "base_uri": "https://localhost:8080/",
          "height": 279
        },
        "id": "G370lvQNm49I",
        "outputId": "fb5633e0-bf44-4790-eabd-c4d3753029ea"
      },
      "outputs": [
        {
          "data": {
            "image/png": "[encoded data removed]",
            "text/plain": [
              "<Figure size 432x288 with 2 Axes>"
            ]
          },
          "metadata": {
            "needs_background": "light",
            "tags": []
          },
          "output_type": "display_data"
        }
      ],
      "source": [
        "fig, ax = plt.subplots()#figsize=(4, 4)\n",
        "disp = ConfusionMatrixDisplay(confusion_matrix=cm, display_labels=lblist[2].classes_)\n",
        "disp.plot(cmap=plt.cm.Blues, ax=ax)\n",
        "fig.savefig(os.path.join(figpath,'model-ok-cm-fa.svg'), dpi=300, bbox_inches='tight')"
      ]
    }
  ],
  "metadata": {
    "colab": {
      "collapsed_sections": [
        "iRisTdumSebd",
        "d5KvZguMVxtR",
        "dcGNmUftYnLh"
      ],
      "provenance": [],
      "toc_visible": true
    },
    "kernelspec": {
      "display_name": "Python 3",
      "name": "python3"
    }
  },
  "nbformat": 4,
  "nbformat_minor": 0
}
